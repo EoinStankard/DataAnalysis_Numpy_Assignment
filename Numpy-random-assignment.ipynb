{
 "cells": [
  {
   "cell_type": "markdown",
   "metadata": {},
   "source": [
    "# <span style='background :yellow' > Programming for Data Analysis Assignment </span>\n",
    "\n",
    "### Assignment Outlines\n",
    "The following assignment concerns the numpy.random package in Python \n",
    "1. Explain the overall purpose of the package. \n",
    "2. Explain the use of the “Simple random data” and “Permutations” functions. \n",
    "3. Explain the use and purpose of at least ﬁve “Distributions” functions. \n",
    "4. Explain the use of seeds in generating pseudorandom numbers.\n",
    "\n",
    "### The numpy.random package"
   ]
  },
  {
   "cell_type": "markdown",
   "metadata": {},
   "source": [
    "The numpy.random package is a sub package of numpy. NumPy is the fundamental package for scientific computing in Python. It is a Python library that provides a multidimensional array object, various derived objects (such as masked arrays and matrices), and an assortment of routines for fast operations on arrays, including mathematical, logical, shape manipulation, sorting, selecting, I/O, discrete Fourier transforms, basic linear algebra, basic statistical operations, random simulation and much more.\n",
    "\n",
    "There are four different sections to the numpy.random package\n",
    "1. Simple random Data\n",
    "\n",
    "Simple random data is used for the basic functions of the package such as generate a random integer between 1 and 10, or generate an array of 2 rows and 2 columns and fill it will random numbers between 0-1\n",
    "There are assumptions based on the numbers that are generated.\n",
    "\n",
    "2. Permutations\n",
    "\n",
    "This section only contains two functions and they are both similar as they both shuffle or rearrange the number or numbers they are given\n",
    "\n",
    "3. Distributions\n",
    "\n",
    "The distributions section is the largest section of the four and they are all different probability distributions.\n",
    "\n",
    "4. Random Generator\n",
    "\n",
    "This section you can get the seed of the random number generator, get the state and set the state."
   ]
  },
  {
   "cell_type": "markdown",
   "metadata": {},
   "source": [
    "# <font color='red'>Simple random data</font>\n",
    "\n",
    "In this section i am going to pick a few of the functions and try to explain them using plots instead of text."
   ]
  },
  {
   "cell_type": "markdown",
   "metadata": {},
   "source": [
    "-------------------------------------------------------------------------------------------------------------------------------\n",
    "## 1. rand(d0, d1, …, dn)"
   ]
  },
  {
   "cell_type": "code",
   "execution_count": 1,
   "metadata": {},
   "outputs": [],
   "source": [
    "import numpy as np\n",
    "import matplotlib.pyplot as plt"
   ]
  },
  {
   "cell_type": "code",
   "execution_count": 2,
   "metadata": {},
   "outputs": [
    {
     "data": {
      "text/plain": [
       "array([0.31849969, 0.4705711 , 0.50981966, 0.22378634, 0.40086458,\n",
       "       0.25782421, 0.59339061, 0.45096906, 0.50172607, 0.86665866])"
      ]
     },
     "execution_count": 2,
     "metadata": {},
     "output_type": "execute_result"
    }
   ],
   "source": [
    "np.random.rand(10)"
   ]
  },
  {
   "cell_type": "markdown",
   "metadata": {},
   "source": [
    "Most basic is to see what happens when we send a single value into the function, and as send above when 10 is entered it returns an array of 10 random numbers between 0-1"
   ]
  },
  {
   "cell_type": "code",
   "execution_count": 3,
   "metadata": {},
   "outputs": [
    {
     "data": {
      "text/plain": [
       "array([[0.43062658, 0.20155274, 0.09968987],\n",
       "       [0.48960503, 0.11807415, 0.140445  ]])"
      ]
     },
     "execution_count": 3,
     "metadata": {},
     "output_type": "execute_result"
    }
   ],
   "source": [
    "np.random.rand(2,3)"
   ]
  },
  {
   "cell_type": "markdown",
   "metadata": {},
   "source": [
    "Two input values then shows an array with two sets of arrays with three values between 0-1"
   ]
  },
  {
   "cell_type": "code",
   "execution_count": 4,
   "metadata": {},
   "outputs": [
    {
     "data": {
      "text/plain": [
       "array([[[[0.1601088 , 0.5332646 , 0.49336863, 0.74246007, 0.45543637],\n",
       "         [0.49389578, 0.55133013, 0.23756748, 0.02027681, 0.32302855]],\n",
       "\n",
       "        [[0.58239192, 0.26757169, 0.6408434 , 0.6173099 , 0.23080934],\n",
       "         [0.20698198, 0.05175137, 0.58816983, 0.37840573, 0.85235663]],\n",
       "\n",
       "        [[0.8780905 , 0.90172758, 0.88375323, 0.77049916, 0.52939565],\n",
       "         [0.54482667, 0.78126399, 0.38197794, 0.10158432, 0.68718107]]]])"
      ]
     },
     "execution_count": 4,
     "metadata": {},
     "output_type": "execute_result"
    }
   ],
   "source": [
    "np.random.rand(1,3,2,5)"
   ]
  },
  {
   "cell_type": "markdown",
   "metadata": {},
   "source": [
    "A four input rand function shows an array with Three sets of random numbers and in each one of them sets is two more sets containing five random numbers between 0-1"
   ]
  },
  {
   "cell_type": "code",
   "execution_count": 5,
   "metadata": {},
   "outputs": [
    {
     "data": {
      "text/plain": [
       "array([[[[0.96770202, 0.27976236, 0.65754706, 0.82821887, 0.46115467],\n",
       "         [0.91837513, 0.7400977 , 0.59508606, 0.60296796, 0.73199097]],\n",
       "\n",
       "        [[0.06003357, 0.59244207, 0.83085492, 0.34987637, 0.45464225],\n",
       "         [0.66677029, 0.75868634, 0.5313708 , 0.06120526, 0.96045575]],\n",
       "\n",
       "        [[0.63476394, 0.25469068, 0.61011807, 0.47168036, 0.1704695 ],\n",
       "         [0.69888994, 0.55869344, 0.42145856, 0.01954532, 0.13002288]]],\n",
       "\n",
       "\n",
       "       [[[0.66123369, 0.86797566, 0.71875278, 0.33130297, 0.61820864],\n",
       "         [0.96486152, 0.07032834, 0.68132535, 0.52961963, 0.02473912]],\n",
       "\n",
       "        [[0.11561394, 0.78145382, 0.98934529, 0.563456  , 0.21354599],\n",
       "         [0.01859347, 0.97074967, 0.29174924, 0.92331649, 0.91370986]],\n",
       "\n",
       "        [[0.52196128, 0.76845107, 0.4592349 , 0.103355  , 0.64630894],\n",
       "         [0.93799595, 0.82487374, 0.52201485, 0.81675362, 0.71956943]]]])"
      ]
     },
     "execution_count": 5,
     "metadata": {},
     "output_type": "execute_result"
    }
   ],
   "source": [
    "np.random.rand(2,3,2,5)"
   ]
  },
  {
   "cell_type": "markdown",
   "metadata": {},
   "source": [
    "A four input random array with similar input values apart from the first where the first value is a 2. This shows a single array with two sets of arrays that contains two sets with five random values between 0-1."
   ]
  },
  {
   "cell_type": "code",
   "execution_count": 6,
   "metadata": {},
   "outputs": [
    {
     "data": {
      "text/plain": [
       "array([], dtype=float64)"
      ]
     },
     "execution_count": 6,
     "metadata": {},
     "output_type": "execute_result"
    }
   ],
   "source": [
    "np.random.rand(0)"
   ]
  },
  {
   "cell_type": "code",
   "execution_count": 7,
   "metadata": {},
   "outputs": [
    {
     "data": {
      "text/plain": [
       "0.8681998927140231"
      ]
     },
     "execution_count": 7,
     "metadata": {},
     "output_type": "execute_result"
    }
   ],
   "source": [
    "np.random.rand()"
   ]
  },
  {
   "cell_type": "markdown",
   "metadata": {},
   "source": [
    "##### Conclusion on rand() function\n",
    "From Looking at the numpy.random.rand function it appears that the last number given in the function is the amount of random numbers between 0-1 in each array, so a single number input gives that number of random numbers.\n",
    "An input value of (2,3) will give two array sets with 3 random numbers in each.\n",
    "An input of (3,2,1) will give three array sets each containing two array sets that each contain one random number,\n",
    "\n",
    "A negative number gives an ValueError\n",
    "\n",
    "An input value of 0 gives an empty array\n",
    "\n",
    "an empty function will give an output of a single random value\n",
    "\n"
   ]
  },
  {
   "cell_type": "markdown",
   "metadata": {},
   "source": [
    "-------------------------------------------------------------------------------------------------------------------------------\n",
    "## 2. numpy.random.randn(d0, d1, ..., dn)"
   ]
  },
  {
   "cell_type": "code",
   "execution_count": 8,
   "metadata": {},
   "outputs": [
    {
     "data": {
      "text/plain": [
       "array([-1.07003215,  0.02121774, -0.86217055,  1.26100724,  1.90521527,\n",
       "       -0.52116977, -0.42810525,  1.10556312, -0.62483391,  0.30706788])"
      ]
     },
     "execution_count": 8,
     "metadata": {},
     "output_type": "execute_result"
    }
   ],
   "source": [
    "np.random.randn(10)"
   ]
  },
  {
   "cell_type": "code",
   "execution_count": 9,
   "metadata": {},
   "outputs": [
    {
     "data": {
      "text/plain": [
       "array([], dtype=float64)"
      ]
     },
     "execution_count": 9,
     "metadata": {},
     "output_type": "execute_result"
    }
   ],
   "source": [
    "np.random.randn(0)"
   ]
  },
  {
   "cell_type": "code",
   "execution_count": 10,
   "metadata": {},
   "outputs": [
    {
     "data": {
      "text/plain": [
       "array([[[-1.33746447],\n",
       "        [ 1.23208317]],\n",
       "\n",
       "       [[ 0.31068201],\n",
       "        [ 0.45881996]],\n",
       "\n",
       "       [[-0.74481074],\n",
       "        [-0.37905792]]])"
      ]
     },
     "execution_count": 10,
     "metadata": {},
     "output_type": "execute_result"
    }
   ],
   "source": [
    "np.random.randn(3,2,1)"
   ]
  },
  {
   "cell_type": "code",
   "execution_count": 11,
   "metadata": {},
   "outputs": [
    {
     "data": {
      "text/plain": [
       "array([[[ 7.15637108,  9.57413082, 11.88182443,  9.00458286,\n",
       "          5.76845011],\n",
       "        [ 7.96564097,  8.57930936,  8.26868436,  8.76677774,\n",
       "          7.11166049],\n",
       "        [ 8.73119247,  6.69537018,  7.16100893,  7.1488175 ,\n",
       "          9.71083244]],\n",
       "\n",
       "       [[ 8.33643158,  7.8698192 ,  9.17792675,  8.17573505,\n",
       "          9.39118419],\n",
       "        [ 7.37057231,  7.12877939,  8.7286368 ,  9.19217397,\n",
       "          8.18167512],\n",
       "        [ 8.69247072,  8.74198801,  7.94229701,  9.09406744,\n",
       "          7.5313363 ]],\n",
       "\n",
       "       [[ 7.5574752 ,  8.74742346,  7.50564529,  8.72724318,\n",
       "          6.44885052],\n",
       "        [10.48564611,  7.20101439,  7.50176867,  8.98579231,\n",
       "          6.23837468],\n",
       "        [ 8.1101608 ,  6.66345356,  8.22256087,  8.50630078,\n",
       "          7.20833702]]])"
      ]
     },
     "execution_count": 11,
     "metadata": {},
     "output_type": "execute_result"
    }
   ],
   "source": [
    "np.random.randn(3,3,5)+4*2"
   ]
  },
  {
   "cell_type": "markdown",
   "metadata": {},
   "source": [
    "#### Conclusion on the randn() function\n",
    "\n",
    "From running some tests on the randn() function it is clear that it had the same functionality as the rand() function but it gives random number both positive and negative\n",
    "\n",
    "A positive number has to be input into the function, If a negative number is input a valueError is thrown"
   ]
  },
  {
   "cell_type": "markdown",
   "metadata": {},
   "source": [
    "-------------------------------------------------------------------------------------------------------------------------------\n",
    "## 3. numpy.random.randint(low, high=None, size=None, dtype='l')"
   ]
  },
  {
   "cell_type": "code",
   "execution_count": 12,
   "metadata": {},
   "outputs": [
    {
     "data": {
      "text/plain": [
       "6"
      ]
     },
     "execution_count": 12,
     "metadata": {},
     "output_type": "execute_result"
    }
   ],
   "source": [
    "#prints a random number between 0-10 as 10 is the max in the situation\n",
    "np.random.randint(10)"
   ]
  },
  {
   "cell_type": "code",
   "execution_count": 13,
   "metadata": {},
   "outputs": [
    {
     "data": {
      "text/plain": [
       "5"
      ]
     },
     "execution_count": 13,
     "metadata": {},
     "output_type": "execute_result"
    }
   ],
   "source": [
    "#prints a random number with a low of 3 and a high of 7\n",
    "np.random.randint(3,7)"
   ]
  },
  {
   "cell_type": "code",
   "execution_count": 14,
   "metadata": {},
   "outputs": [
    {
     "data": {
      "text/plain": [
       "array([[[0],\n",
       "        [1]],\n",
       "\n",
       "       [[0],\n",
       "        [1]],\n",
       "\n",
       "       [[0],\n",
       "        [1]]])"
      ]
     },
     "execution_count": 14,
     "metadata": {},
     "output_type": "execute_result"
    }
   ],
   "source": [
    "#prints a 3 dimensional array with a high value of 3\n",
    "np.random.randint(3,size=(3,2,1))"
   ]
  },
  {
   "cell_type": "code",
   "execution_count": 15,
   "metadata": {},
   "outputs": [
    {
     "data": {
      "text/plain": [
       "array([[[3],\n",
       "        [3]],\n",
       "\n",
       "       [[6],\n",
       "        [5]],\n",
       "\n",
       "       [[5],\n",
       "        [6]]])"
      ]
     },
     "execution_count": 15,
     "metadata": {},
     "output_type": "execute_result"
    }
   ],
   "source": [
    "#A three dimensional array with a low of 3 and a high of 7 so array values have to be between 3 and including 6\n",
    "np.random.randint(3,7,size=(3,2,1))"
   ]
  },
  {
   "cell_type": "code",
   "execution_count": 16,
   "metadata": {},
   "outputs": [
    {
     "data": {
      "text/plain": [
       "array([[[6],\n",
       "        [6]],\n",
       "\n",
       "       [[4],\n",
       "        [4]],\n",
       "\n",
       "       [[6],\n",
       "        [5]]])"
      ]
     },
     "execution_count": 16,
     "metadata": {},
     "output_type": "execute_result"
    }
   ],
   "source": [
    "np.random.randint(3,7,size=(3,2,1),dtype='i')"
   ]
  },
  {
   "cell_type": "markdown",
   "metadata": {},
   "source": [
    "### Conclusion on the randint() function\n",
    "\n",
    "Lets you pick the low and high range of values that is output, Out put shape can also be input,\n",
    "the dtype can be input if you want values greater than 65535, so if you want values greater that that you can set the dtype to 'int64', 'f' will not be accepted and cause an error as that is an unsupported type float\n",
    "\n",
    "A valueError is thrown if the first value(low) is greater than the second value(high) for example randint(7,4)"
   ]
  },
  {
   "cell_type": "markdown",
   "metadata": {},
   "source": [
    "## 4. numpy.random.sample(size=None)"
   ]
  },
  {
   "cell_type": "code",
   "execution_count": 39,
   "metadata": {},
   "outputs": [
    {
     "data": {
      "text/plain": [
       "0.1415260247144431"
      ]
     },
     "execution_count": 39,
     "metadata": {},
     "output_type": "execute_result"
    }
   ],
   "source": [
    "np.random.sample()"
   ]
  },
  {
   "cell_type": "code",
   "execution_count": 20,
   "metadata": {},
   "outputs": [
    {
     "data": {
      "text/plain": [
       "array([0.8277303 , 0.17432209, 0.57367875, 0.96943155, 0.13043215,\n",
       "       0.4337072 , 0.18000265, 0.73535399, 0.89874415, 0.04189601])"
      ]
     },
     "execution_count": 20,
     "metadata": {},
     "output_type": "execute_result"
    }
   ],
   "source": [
    "np.random.sample(10)"
   ]
  },
  {
   "cell_type": "code",
   "execution_count": 23,
   "metadata": {},
   "outputs": [
    {
     "data": {
      "text/plain": [
       "array([[0.11118221, 0.21062408],\n",
       "       [0.58683322, 0.27378962],\n",
       "       [0.45336148, 0.04975845],\n",
       "       [0.06792644, 0.05564159],\n",
       "       [0.7438578 , 0.04139023],\n",
       "       [0.60990226, 0.85734011],\n",
       "       [0.93930733, 0.71724902],\n",
       "       [0.01547647, 0.38210621],\n",
       "       [0.25236647, 0.15970917],\n",
       "       [0.48653647, 0.96194598]])"
      ]
     },
     "execution_count": 23,
     "metadata": {},
     "output_type": "execute_result"
    }
   ],
   "source": [
    "#np.random.sample(10,2) Gives an error as only a single value is expected\n",
    "np.random.sample((10,2))"
   ]
  },
  {
   "cell_type": "markdown",
   "metadata": {},
   "source": [
    "From the test above we can see that all 20 values are between 0.0 and 1.0, so for a default input we can take it that 0-1 is the range of values"
   ]
  },
  {
   "cell_type": "code",
   "execution_count": 30,
   "metadata": {},
   "outputs": [
    {
     "data": {
      "text/plain": [
       "array([3.61561419, 3.6166545 , 3.01209687, 3.31415693, 3.06874456,\n",
       "       3.64142043])"
      ]
     },
     "execution_count": 30,
     "metadata": {},
     "output_type": "execute_result"
    }
   ],
   "source": [
    "np.random.sample(6)+3"
   ]
  },
  {
   "cell_type": "markdown",
   "metadata": {},
   "source": [
    "A Error is not thrown when we add on a integer, so when we add on three the new values will be between 3.0 and 4.0"
   ]
  },
  {
   "cell_type": "code",
   "execution_count": 33,
   "metadata": {},
   "outputs": [
    {
     "data": {
      "text/plain": [
       "array([[0.33827307, 0.87979664],\n",
       "       [0.68927963, 0.41408763],\n",
       "       [0.08545257, 0.8340121 ],\n",
       "       [0.24242563, 0.55971376],\n",
       "       [0.73522104, 0.72676467]])"
      ]
     },
     "execution_count": 33,
     "metadata": {},
     "output_type": "execute_result"
    }
   ],
   "source": [
    "a = np.random.sample((5,2))\n",
    "a"
   ]
  },
  {
   "cell_type": "code",
   "execution_count": 34,
   "metadata": {},
   "outputs": [
    {
     "data": {
      "text/plain": [
       "array([[1.69136534, 4.39898322],\n",
       "       [3.44639813, 2.07043816],\n",
       "       [0.42726284, 4.1700605 ],\n",
       "       [1.21212816, 2.79856878],\n",
       "       [3.67610521, 3.63382334]])"
      ]
     },
     "execution_count": 34,
     "metadata": {},
     "output_type": "execute_result"
    }
   ],
   "source": [
    "5*a"
   ]
  },
  {
   "cell_type": "code",
   "execution_count": 35,
   "metadata": {},
   "outputs": [
    {
     "data": {
      "text/plain": [
       "array([[-3.30863466, -0.60101678],\n",
       "       [-1.55360187, -2.92956184],\n",
       "       [-4.57273716, -0.8299395 ],\n",
       "       [-3.78787184, -2.20143122],\n",
       "       [-1.32389479, -1.36617666]])"
      ]
     },
     "execution_count": 35,
     "metadata": {},
     "output_type": "execute_result"
    }
   ],
   "source": [
    "5*a-5"
   ]
  },
  {
   "cell_type": "markdown",
   "metadata": {},
   "source": [
    "## Conclusion on the Sample()\n",
    "\n",
    "From the above tests the sample accepts no parameter or a single parameter, It does not accept floating point numbers or negative numbers.\n",
    "All samples printed are between 0.0 and 1.0\n",
    "A shape can be input as that is a single input for example \"sample((3,2))\"\n",
    "The sample values can then be multiplied,subtracted or added to a different figure\n"
   ]
  },
  {
   "cell_type": "markdown",
   "metadata": {},
   "source": [
    "#  <font color='red'>Permutations</font>\n",
    "\n",
    "Here i will try to describe the two permutations functions\n"
   ]
  },
  {
   "cell_type": "markdown",
   "metadata": {},
   "source": [
    "## 1. numpy.random.shuffle(x)"
   ]
  },
  {
   "cell_type": "code",
   "execution_count": 42,
   "metadata": {},
   "outputs": [
    {
     "data": {
      "text/plain": [
       "array([ 0,  1,  2,  3,  4,  5,  6,  7,  8,  9, 10, 11])"
      ]
     },
     "execution_count": 42,
     "metadata": {},
     "output_type": "execute_result"
    }
   ],
   "source": [
    "x = np.arange(12)\n",
    "x"
   ]
  },
  {
   "cell_type": "code",
   "execution_count": 44,
   "metadata": {},
   "outputs": [
    {
     "data": {
      "text/plain": [
       "array([ 2,  8,  9,  1, 10,  3,  7,  0,  6,  4, 11,  5])"
      ]
     },
     "execution_count": 44,
     "metadata": {},
     "output_type": "execute_result"
    }
   ],
   "source": [
    "np.random.shuffle(x)\n",
    "x"
   ]
  },
  {
   "cell_type": "markdown",
   "metadata": {},
   "source": [
    "From the above two tests it is clear what the shuffle function does, In the first section of code the numbers are in order from 0-11 and in the second the same numbers are all shuffled"
   ]
  },
  {
   "cell_type": "code",
   "execution_count": 65,
   "metadata": {},
   "outputs": [
    {
     "data": {
      "text/plain": [
       "array([[ 0,  1,  2],\n",
       "       [ 3,  4,  5],\n",
       "       [ 6,  7,  8],\n",
       "       [ 9, 10, 11]])"
      ]
     },
     "execution_count": 65,
     "metadata": {},
     "output_type": "execute_result"
    }
   ],
   "source": [
    "y =np.arange(12).reshape((4,3))\n",
    "y"
   ]
  },
  {
   "cell_type": "code",
   "execution_count": 68,
   "metadata": {},
   "outputs": [
    {
     "data": {
      "text/plain": [
       "array([[ 0,  1,  2],\n",
       "       [ 6,  7,  8],\n",
       "       [ 3,  4,  5],\n",
       "       [ 9, 10, 11]])"
      ]
     },
     "execution_count": 68,
     "metadata": {},
     "output_type": "execute_result"
    }
   ],
   "source": [
    "np.random.shuffle(y)\n",
    "y"
   ]
  },
  {
   "cell_type": "markdown",
   "metadata": {},
   "source": [
    "From the above test using shapes as the input parameters, The sub-arrays are shuffled while the contents remain the same"
   ]
  },
  {
   "cell_type": "markdown",
   "metadata": {},
   "source": [
    "### Conclusion on the Shuffle()\n",
    "\n",
    "Shuffles the contents of an array, If there is sub arrays in that array only the sub array locations are shuffled, The values inside the sub array remain in the same position,\n",
    "\n",
    "Negative and floating point numbers cannot be input"
   ]
  },
  {
   "cell_type": "markdown",
   "metadata": {},
   "source": [
    "## 2. numpy.random.permutation(x)"
   ]
  },
  {
   "cell_type": "code",
   "execution_count": 70,
   "metadata": {},
   "outputs": [
    {
     "data": {
      "text/plain": [
       "array([ 0,  1,  2,  3,  4,  5,  6,  7,  8,  9, 10, 11])"
      ]
     },
     "execution_count": 70,
     "metadata": {},
     "output_type": "execute_result"
    }
   ],
   "source": [
    "x1 = np.arange(12)\n",
    "x1"
   ]
  },
  {
   "cell_type": "code",
   "execution_count": 71,
   "metadata": {},
   "outputs": [
    {
     "data": {
      "text/plain": [
       "array([ 4,  1,  3, 10,  7,  5, 11,  2,  6,  9,  0,  8])"
      ]
     },
     "execution_count": 71,
     "metadata": {},
     "output_type": "execute_result"
    }
   ],
   "source": [
    "np.random.permutation(x1)"
   ]
  },
  {
   "cell_type": "code",
   "execution_count": 72,
   "metadata": {},
   "outputs": [
    {
     "data": {
      "text/plain": [
       "array([[ 0,  1,  2],\n",
       "       [ 3,  4,  5],\n",
       "       [ 6,  7,  8],\n",
       "       [ 9, 10, 11]])"
      ]
     },
     "execution_count": 72,
     "metadata": {},
     "output_type": "execute_result"
    }
   ],
   "source": [
    "y1 =np.arange(12).reshape((4,3))\n",
    "y1"
   ]
  },
  {
   "cell_type": "code",
   "execution_count": 73,
   "metadata": {},
   "outputs": [
    {
     "data": {
      "text/plain": [
       "array([[ 6,  7,  8],\n",
       "       [ 3,  4,  5],\n",
       "       [ 9, 10, 11],\n",
       "       [ 0,  1,  2]])"
      ]
     },
     "execution_count": 73,
     "metadata": {},
     "output_type": "execute_result"
    }
   ],
   "source": [
    "np.random.permutation(y1)"
   ]
  },
  {
   "cell_type": "markdown",
   "metadata": {},
   "source": [
    "### Conclusion on permutation()\n",
    "\n",
    "From running the same tests that were ran on the shuffle function it is clear that the shuffle and permutation functions are the same,\n",
    "\n",
    "Both shuffle the contents of an array that is arranged from 0-10 and both shuffle the sub arrays while leaving the contents the same\n"
   ]
  }
 ],
 "metadata": {
  "kernelspec": {
   "display_name": "Python 3",
   "language": "python",
   "name": "python3"
  },
  "language_info": {
   "codemirror_mode": {
    "name": "ipython",
    "version": 3
   },
   "file_extension": ".py",
   "mimetype": "text/x-python",
   "name": "python",
   "nbconvert_exporter": "python",
   "pygments_lexer": "ipython3",
   "version": "3.7.1"
  }
 },
 "nbformat": 4,
 "nbformat_minor": 2
}
