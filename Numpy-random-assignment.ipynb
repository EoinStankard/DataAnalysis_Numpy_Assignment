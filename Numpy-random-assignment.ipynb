{
 "cells": [
  {
   "cell_type": "markdown",
   "metadata": {},
   "source": [
    "# <span style='background :yellow' > Programming for Data Analysis Assignment </span>\n",
    "\n",
    "### Assignment Outlines\n",
    "The following assignment concerns the numpy.random package in Python \n",
    "1. Explain the overall purpose of the package. \n",
    "2. Explain the use of the “Simple random data” and “Permutations” functions. \n",
    "3. Explain the use and purpose of at least ﬁve “Distributions” functions. \n",
    "4. Explain the use of seeds in generating pseudorandom numbers.\n",
    "\n",
    "### The numpy.random package"
   ]
  },
  {
   "cell_type": "markdown",
   "metadata": {},
   "source": [
    "The numpy.random package is a sub package of numpy. NumPy is the fundamental package for scientific computing in Python. It is a Python library that provides a multidimensional array object, various derived objects (such as masked arrays and matrices), and an assortment of routines for fast operations on arrays, including mathematical, logical, shape manipulation, sorting, selecting, I/O, discrete Fourier transforms, basic linear algebra, basic statistical operations, random simulation and much more.\n",
    "\n",
    "There are four different sections to the numpy.random package\n",
    "1. Simple random Data\n",
    "\n",
    "Simple random data is used for the basic functions of the package such as generate a random integer between 1 and 10, or generate an array of 2 rows and 2 columns and fill it will random numbers between 0-1\n",
    "There are assumptions based on the numbers that are generated.\n",
    "\n",
    "2. Permutations\n",
    "\n",
    "This section only contains two functions and they are both similar as they both shuffle or rearrange the number or numbers they are given\n",
    "\n",
    "3. Distributions\n",
    "\n",
    "The distributions section is the largest section of the four and they are all different probability distributions.\n",
    "\n",
    "4. Random Generator\n",
    "\n",
    "This section you can get the seed of the random number generator, get the state and set the state."
   ]
  },
  {
   "cell_type": "markdown",
   "metadata": {},
   "source": [
    "# <font color='red'>Simple random data</font>\n",
    "\n",
    "In this section i am going to pick a few of the functions and try to explain them using plots instead of text."
   ]
  },
  {
   "cell_type": "markdown",
   "metadata": {},
   "source": [
    "-------------------------------------------------------------------------------------------------------------------------------\n",
    "## 1. rand(d0, d1, …, dn)"
   ]
  },
  {
   "cell_type": "raw",
   "metadata": {},
   "source": [
    "Rand is a function that can take unlimited inputs and returns a set of values in a given"
   ]
  },
  {
   "cell_type": "code",
   "execution_count": 1,
   "metadata": {},
   "outputs": [],
   "source": [
    "import numpy as np\n",
    "import matplotlib.pyplot as plt\n",
    "import seaborn as sns"
   ]
  },
  {
   "cell_type": "code",
   "execution_count": 2,
   "metadata": {},
   "outputs": [
    {
     "data": {
      "text/plain": [
       "array([0.82851694, 0.74159936, 0.04141807, 0.85197283, 0.62909344,\n",
       "       0.009539  , 0.76725917, 0.23135181, 0.12331163, 0.89214571,\n",
       "       0.31144931, 0.73123929, 0.97196531, 0.06180922, 0.18147321,\n",
       "       0.98093773, 0.87214185, 0.89661678, 0.49196741, 0.90893939,\n",
       "       0.83760685, 0.37846011, 0.2866121 , 0.44409258, 0.57655217,\n",
       "       0.90023563, 0.18221528, 0.15347207, 0.22272154, 0.34725994,\n",
       "       0.7369511 , 0.06194211, 0.52322769, 0.49290255, 0.6230615 ,\n",
       "       0.58999318, 0.40867352, 0.66885123, 0.44713725, 0.73773805,\n",
       "       0.79613015, 0.02678658, 0.69751371, 0.48619641, 0.4309853 ,\n",
       "       0.0128293 , 0.31786141, 0.26233903, 0.5111554 , 0.12491808])"
      ]
     },
     "execution_count": 2,
     "metadata": {},
     "output_type": "execute_result"
    }
   ],
   "source": [
    "x = np.random.rand(50)\n",
    "x"
   ]
  },
  {
   "cell_type": "code",
   "execution_count": 3,
   "metadata": {},
   "outputs": [
    {
     "data": {
      "text/plain": [
       "(array([6., 5., 4., 4., 7., 4., 3., 6., 5., 6.]),\n",
       " array([0.009539  , 0.10667887, 0.20381874, 0.30095862, 0.39809849,\n",
       "        0.49523836, 0.59237823, 0.68951811, 0.78665798, 0.88379785,\n",
       "        0.98093773]),\n",
       " <a list of 10 Patch objects>)"
      ]
     },
     "execution_count": 3,
     "metadata": {},
     "output_type": "execute_result"
    },
    {
     "data": {
      "image/png": "[encoded data removed]",
      "text/plain": [
       "<Figure size 432x288 with 1 Axes>"
      ]
     },
     "metadata": {
      "needs_background": "light"
     },
     "output_type": "display_data"
    }
   ],
   "source": [
    "plt.hist(x)"
   ]
  },
  {
   "cell_type": "markdown",
   "metadata": {},
   "source": [
    "Most basic is to see what happens when we send a single value into the function, and as send above when 10 is entered it returns an array of 10 random numbers between 0-1"
   ]
  },
  {
   "cell_type": "code",
   "execution_count": 4,
   "metadata": {},
   "outputs": [
    {
     "data": {
      "text/plain": [
       "array([0.82851694, 0.74159936, 0.04141807, 0.85197283, 0.62909344,\n",
       "       0.009539  , 0.76725917, 0.23135181, 0.12331163, 0.89214571,\n",
       "       0.31144931, 0.73123929, 0.97196531, 0.06180922, 0.18147321,\n",
       "       0.98093773, 0.87214185, 0.89661678, 0.49196741, 0.90893939,\n",
       "       0.83760685, 0.37846011, 0.2866121 , 0.44409258, 0.57655217,\n",
       "       0.90023563, 0.18221528, 0.15347207, 0.22272154, 0.34725994,\n",
       "       0.7369511 , 0.06194211, 0.52322769, 0.49290255, 0.6230615 ,\n",
       "       0.58999318, 0.40867352, 0.66885123, 0.44713725, 0.73773805,\n",
       "       0.79613015, 0.02678658, 0.69751371, 0.48619641, 0.4309853 ,\n",
       "       0.0128293 , 0.31786141, 0.26233903, 0.5111554 , 0.12491808])"
      ]
     },
     "execution_count": 4,
     "metadata": {},
     "output_type": "execute_result"
    }
   ],
   "source": [
    "x1 = np.random.rand(3,3)\n",
    "x"
   ]
  },
  {
   "cell_type": "code",
   "execution_count": 5,
   "metadata": {},
   "outputs": [
    {
     "data": {
      "text/plain": [
       "([array([0., 0., 0., 0., 1., 0., 0., 0., 1., 1.]),\n",
       "  array([0., 0., 1., 0., 1., 0., 0., 0., 0., 1.]),\n",
       "  array([1., 0., 1., 0., 0., 1., 0., 0., 0., 0.])],\n",
       " array([0.1748445 , 0.25318913, 0.33153376, 0.40987839, 0.48822302,\n",
       "        0.56656765, 0.64491228, 0.72325691, 0.80160154, 0.87994617,\n",
       "        0.9582908 ]),\n",
       " <a list of 3 Lists of Patches objects>)"
      ]
     },
     "execution_count": 5,
     "metadata": {},
     "output_type": "execute_result"
    },
    {
     "data": {
      "image/png": "[encoded data removed]",
      "text/plain": [
       "<Figure size 432x288 with 1 Axes>"
      ]
     },
     "metadata": {
      "needs_background": "light"
     },
     "output_type": "display_data"
    }
   ],
   "source": [
    "plt.hist(x1)"
   ]
  },
  {
   "cell_type": "markdown",
   "metadata": {},
   "source": [
    "Two input values then shows an array with two sets of arrays with three values between 0-1"
   ]
  },
  {
   "cell_type": "code",
   "execution_count": 6,
   "metadata": {},
   "outputs": [],
   "source": [
    "x3 = np.random.rand(1,3,2,5)"
   ]
  },
  {
   "cell_type": "markdown",
   "metadata": {},
   "source": [
    "A four input rand function shows an array with Three sets of random numbers and in each one of them sets is two more sets containing five random numbers between 0-1"
   ]
  },
  {
   "cell_type": "code",
   "execution_count": 7,
   "metadata": {},
   "outputs": [
    {
     "data": {
      "text/plain": [
       "array([[[[0.23876846, 0.11265985, 0.93381914, 0.40802079, 0.86290345],\n",
       "         [0.6668354 , 0.83684992, 0.28492916, 0.83619773, 0.57311298]],\n",
       "\n",
       "        [[0.35502362, 0.6692043 , 0.19331398, 0.83327314, 0.63839633],\n",
       "         [0.00330227, 0.11377985, 0.3654081 , 0.9354354 , 0.63564995]],\n",
       "\n",
       "        [[0.23416356, 0.87937911, 0.30359429, 0.18245171, 0.42836931],\n",
       "         [0.44667332, 0.02004358, 0.61721478, 0.52086093, 0.70955295]]],\n",
       "\n",
       "\n",
       "       [[[0.46225548, 0.69669254, 0.79292852, 0.95201986, 0.74925623],\n",
       "         [0.70045909, 0.88108409, 0.02636078, 0.6449414 , 0.93702639]],\n",
       "\n",
       "        [[0.94304113, 0.68694735, 0.05317343, 0.26144122, 0.59042789],\n",
       "         [0.58920066, 0.5289345 , 0.28519987, 0.92324609, 0.89370051]],\n",
       "\n",
       "        [[0.12436097, 0.63669759, 0.40051251, 0.4660482 , 0.71448684],\n",
       "         [0.94818964, 0.06850077, 0.35895284, 0.14021991, 0.30946582]]]])"
      ]
     },
     "execution_count": 7,
     "metadata": {},
     "output_type": "execute_result"
    }
   ],
   "source": [
    "np.random.rand(2,3,2,5)"
   ]
  },
  {
   "cell_type": "markdown",
   "metadata": {},
   "source": [
    "A four input random array with similar input values apart from the first where the first value is a 2. This shows a single array with two sets of arrays that contains two sets with five random values between 0-1."
   ]
  },
  {
   "cell_type": "code",
   "execution_count": 8,
   "metadata": {},
   "outputs": [
    {
     "data": {
      "text/plain": [
       "array([], dtype=float64)"
      ]
     },
     "execution_count": 8,
     "metadata": {},
     "output_type": "execute_result"
    }
   ],
   "source": [
    "np.random.rand(0)"
   ]
  },
  {
   "cell_type": "code",
   "execution_count": 9,
   "metadata": {},
   "outputs": [
    {
     "data": {
      "text/plain": [
       "0.7505583821882631"
      ]
     },
     "execution_count": 9,
     "metadata": {},
     "output_type": "execute_result"
    }
   ],
   "source": [
    "np.random.rand()"
   ]
  },
  {
   "cell_type": "markdown",
   "metadata": {},
   "source": [
    "##### Conclusion on rand() function\n",
    "From Looking at the numpy.random.rand function it appears that the last number given in the function is the amount of random numbers between 0-1 in each array, so a single number input gives that number of random numbers.\n",
    "An input value of (2,3) will give two array sets with 3 random numbers in each.\n",
    "An input of (3,2,1) will give three array sets each containing two array sets that each contain one random number,\n",
    "\n",
    "A negative number gives an ValueError\n",
    "\n",
    "An input value of 0 gives an empty array\n",
    "\n",
    "an empty function will give an output of a single random value\n",
    "\n"
   ]
  },
  {
   "cell_type": "markdown",
   "metadata": {},
   "source": [
    "-------------------------------------------------------------------------------------------------------------------------------\n",
    "## 2. numpy.random.randn(d0, d1, ..., dn)"
   ]
  },
  {
   "cell_type": "code",
   "execution_count": 10,
   "metadata": {},
   "outputs": [
    {
     "data": {
      "text/plain": [
       "array([-1.54392855, -1.61988401,  0.47495158, -1.1566486 , -0.8050971 ,\n",
       "        1.05503144,  1.03823581, -0.08994279, -0.16493455, -2.33482023])"
      ]
     },
     "execution_count": 10,
     "metadata": {},
     "output_type": "execute_result"
    }
   ],
   "source": [
    "n = np.random.randn(10)\n",
    "n"
   ]
  },
  {
   "cell_type": "code",
   "execution_count": 11,
   "metadata": {},
   "outputs": [
    {
     "data": {
      "text/plain": [
       "(array([1., 0., 2., 1., 1., 0., 2., 0., 1., 2.]),\n",
       " array([-2.33482023, -1.99583507, -1.6568499 , -1.31786473, -0.97887957,\n",
       "        -0.6398944 , -0.30090923,  0.03807594,  0.3770611 ,  0.71604627,\n",
       "         1.05503144]),\n",
       " <a list of 10 Patch objects>)"
      ]
     },
     "execution_count": 11,
     "metadata": {},
     "output_type": "execute_result"
    },
    {
     "data": {
      "image/png": "[encoded data removed]",
      "text/plain": [
       "<Figure size 432x288 with 1 Axes>"
      ]
     },
     "metadata": {
      "needs_background": "light"
     },
     "output_type": "display_data"
    }
   ],
   "source": [
    "plt.hist(n)"
   ]
  },
  {
   "cell_type": "code",
   "execution_count": 12,
   "metadata": {},
   "outputs": [
    {
     "data": {
      "text/plain": [
       "array([], dtype=float64)"
      ]
     },
     "execution_count": 12,
     "metadata": {},
     "output_type": "execute_result"
    }
   ],
   "source": [
    "np.random.randn(0)"
   ]
  },
  {
   "cell_type": "markdown",
   "metadata": {},
   "source": [
    "dtype=float64 is the return type of the function"
   ]
  },
  {
   "cell_type": "code",
   "execution_count": 13,
   "metadata": {},
   "outputs": [
    {
     "data": {
      "text/plain": [
       "array([[[-0.69482554],\n",
       "        [-1.26630611]],\n",
       "\n",
       "       [[ 1.2733578 ],\n",
       "        [ 0.54516856]],\n",
       "\n",
       "       [[ 1.96977201],\n",
       "        [-0.25109593]]])"
      ]
     },
     "execution_count": 13,
     "metadata": {},
     "output_type": "execute_result"
    }
   ],
   "source": [
    "np.random.randn(3,2,1)"
   ]
  },
  {
   "cell_type": "code",
   "execution_count": 14,
   "metadata": {},
   "outputs": [
    {
     "data": {
      "text/plain": [
       "array([[[7.08068228, 7.42620879, 8.38894725, 6.39627207, 9.01716512],\n",
       "        [9.05349087, 9.86625399, 7.43507593, 8.82282023, 7.01719709],\n",
       "        [7.62698865, 9.52467139, 8.56029586, 6.50160163, 7.54560866]],\n",
       "\n",
       "       [[9.08096768, 8.19929752, 8.11790163, 8.04961191, 8.57376915],\n",
       "        [6.41652183, 6.5782395 , 8.32470804, 6.61812576, 7.88575628],\n",
       "        [8.97400499, 6.05575397, 7.92471543, 7.32615223, 7.79066092]],\n",
       "\n",
       "       [[8.6125942 , 7.08036053, 6.47503863, 7.25352777, 8.30862211],\n",
       "        [8.11643722, 5.81268528, 8.94547165, 7.18061743, 8.96159141],\n",
       "        [9.5702804 , 9.00365994, 7.60065636, 8.04738289, 8.28577866]]])"
      ]
     },
     "execution_count": 14,
     "metadata": {},
     "output_type": "execute_result"
    }
   ],
   "source": [
    "np.random.randn(3,3,5)+4*2"
   ]
  },
  {
   "cell_type": "markdown",
   "metadata": {},
   "source": [
    "#### Conclusion on the randn() function\n",
    "\n",
    "From running some tests on the randn() function it is clear that it had the same functionality as the rand() function but it gives random number both positive and negative\n",
    "\n",
    "A positive number has to be input into the function, If a negative number is input a valueError is thrown"
   ]
  },
  {
   "cell_type": "markdown",
   "metadata": {},
   "source": [
    "-------------------------------------------------------------------------------------------------------------------------------\n",
    "## 3. numpy.random.randint(low, high=None, size=None, dtype='l')"
   ]
  },
  {
   "cell_type": "markdown",
   "metadata": {},
   "source": [
    "Returns a set of numbers from low to high of type int"
   ]
  },
  {
   "cell_type": "code",
   "execution_count": 15,
   "metadata": {},
   "outputs": [
    {
     "data": {
      "text/plain": [
       "6"
      ]
     },
     "execution_count": 15,
     "metadata": {},
     "output_type": "execute_result"
    }
   ],
   "source": [
    "#prints a random number between 0-10 as 10 is the max in the situation\n",
    "np.random.randint(10)"
   ]
  },
  {
   "cell_type": "code",
   "execution_count": 16,
   "metadata": {},
   "outputs": [
    {
     "data": {
      "text/plain": [
       "3"
      ]
     },
     "execution_count": 16,
     "metadata": {},
     "output_type": "execute_result"
    }
   ],
   "source": [
    "#prints a random number with a low of 3 and a high of 7\n",
    "np.random.randint(3,7)"
   ]
  },
  {
   "cell_type": "code",
   "execution_count": 17,
   "metadata": {},
   "outputs": [
    {
     "data": {
      "text/plain": [
       "array([[[0],\n",
       "        [0]],\n",
       "\n",
       "       [[0],\n",
       "        [1]],\n",
       "\n",
       "       [[2],\n",
       "        [1]]])"
      ]
     },
     "execution_count": 17,
     "metadata": {},
     "output_type": "execute_result"
    }
   ],
   "source": [
    "#prints a 3 dimensional array with a high value of 3\n",
    "np.random.randint(3,size=(3,2,1))"
   ]
  },
  {
   "cell_type": "code",
   "execution_count": 18,
   "metadata": {},
   "outputs": [
    {
     "data": {
      "text/plain": [
       "array([[[5],\n",
       "        [5]],\n",
       "\n",
       "       [[6],\n",
       "        [4]],\n",
       "\n",
       "       [[6],\n",
       "        [6]]])"
      ]
     },
     "execution_count": 18,
     "metadata": {},
     "output_type": "execute_result"
    }
   ],
   "source": [
    "#A three dimensional array with a low of 3 and a high of 7 so array values have to be between 3 and including 6\n",
    "np.random.randint(3,7,size=(3,2,1))"
   ]
  },
  {
   "cell_type": "code",
   "execution_count": 19,
   "metadata": {},
   "outputs": [
    {
     "data": {
      "text/plain": [
       "array([[[4],\n",
       "        [3]],\n",
       "\n",
       "       [[5],\n",
       "        [3]],\n",
       "\n",
       "       [[3],\n",
       "        [6]]])"
      ]
     },
     "execution_count": 19,
     "metadata": {},
     "output_type": "execute_result"
    }
   ],
   "source": [
    "np.random.randint(3,7,size=(3,2,1),dtype='i')"
   ]
  },
  {
   "cell_type": "markdown",
   "metadata": {},
   "source": [
    "### Conclusion on the randint() function\n",
    "\n",
    "Lets you pick the low and high range of values that is output, Out put shape can also be input,\n",
    "the dtype can be input if you want values greater than 65535, so if you want values greater that that you can set the dtype to 'int64', 'f' will not be accepted and cause an error as that is an unsupported type float\n",
    "\n",
    "A valueError is thrown if the first value(low) is greater than the second value(high) for example randint(7,4)"
   ]
  },
  {
   "cell_type": "markdown",
   "metadata": {},
   "source": [
    "## 4. numpy.random.sample(size=None)"
   ]
  },
  {
   "cell_type": "code",
   "execution_count": 20,
   "metadata": {},
   "outputs": [
    {
     "data": {
      "text/plain": [
       "0.0763550803881694"
      ]
     },
     "execution_count": 20,
     "metadata": {},
     "output_type": "execute_result"
    }
   ],
   "source": [
    "np.random.sample()"
   ]
  },
  {
   "cell_type": "code",
   "execution_count": 21,
   "metadata": {},
   "outputs": [
    {
     "data": {
      "text/plain": [
       "array([0.02893123, 0.11073361, 0.24990105, 0.74053998, 0.3129122 ,\n",
       "       0.05983996, 0.84237022, 0.75581703, 0.4917546 , 0.79790537])"
      ]
     },
     "execution_count": 21,
     "metadata": {},
     "output_type": "execute_result"
    }
   ],
   "source": [
    "np.random.sample(10)"
   ]
  },
  {
   "cell_type": "code",
   "execution_count": 22,
   "metadata": {},
   "outputs": [
    {
     "data": {
      "text/plain": [
       "array([[0.26252298, 0.61672049],\n",
       "       [0.48966608, 0.65654469],\n",
       "       [0.07599632, 0.60044389],\n",
       "       [0.0499467 , 0.36754302],\n",
       "       [0.72492322, 0.99309106],\n",
       "       [0.88631794, 0.99987359],\n",
       "       [0.97673683, 0.02148337],\n",
       "       [0.88650356, 0.12816641],\n",
       "       [0.08765608, 0.60947139],\n",
       "       [0.7057877 , 0.43046664]])"
      ]
     },
     "execution_count": 22,
     "metadata": {},
     "output_type": "execute_result"
    }
   ],
   "source": [
    "#np.random.sample(10,2) Gives an error as only a single value is expected\n",
    "s=np.random.sample((10,2))\n",
    "s"
   ]
  },
  {
   "cell_type": "code",
   "execution_count": 23,
   "metadata": {},
   "outputs": [
    {
     "data": {
      "text/plain": [
       "([array([3., 0., 1., 0., 1., 0., 1., 1., 2., 1.]),\n",
       "  array([1., 1., 0., 1., 1., 1., 3., 0., 0., 2.])],\n",
       " array([0.02148337, 0.11932239, 0.21716141, 0.31500044, 0.41283946,\n",
       "        0.51067848, 0.6085175 , 0.70635653, 0.80419555, 0.90203457,\n",
       "        0.99987359]),\n",
       " <a list of 2 Lists of Patches objects>)"
      ]
     },
     "execution_count": 23,
     "metadata": {},
     "output_type": "execute_result"
    },
    {
     "data": {
      "image/png": "[encoded data removed]",
      "text/plain": [
       "<Figure size 432x288 with 1 Axes>"
      ]
     },
     "metadata": {
      "needs_background": "light"
     },
     "output_type": "display_data"
    }
   ],
   "source": [
    "plt.hist(s)"
   ]
  },
  {
   "cell_type": "markdown",
   "metadata": {},
   "source": [
    "From the test above we can see that all 20 values are between 0.0 and 1.0, so for a default input we can take it that 0-1 is the range of values"
   ]
  },
  {
   "cell_type": "code",
   "execution_count": 24,
   "metadata": {},
   "outputs": [
    {
     "data": {
      "text/plain": [
       "array([3.45540599, 3.06358699, 3.64156561, 3.82411561, 3.8943904 ,\n",
       "       3.47690447])"
      ]
     },
     "execution_count": 24,
     "metadata": {},
     "output_type": "execute_result"
    }
   ],
   "source": [
    "np.random.sample(6)+3"
   ]
  },
  {
   "cell_type": "markdown",
   "metadata": {},
   "source": [
    "A Error is not thrown when we add on a integer, so when we add on three the new values will be between 3.0 and 4.0"
   ]
  },
  {
   "cell_type": "code",
   "execution_count": 25,
   "metadata": {},
   "outputs": [
    {
     "data": {
      "text/plain": [
       "array([[0.19890836, 0.31970396],\n",
       "       [0.45796696, 0.43686171],\n",
       "       [0.74531773, 0.03598014],\n",
       "       [0.30002543, 0.93697028],\n",
       "       [0.39272469, 0.40180772]])"
      ]
     },
     "execution_count": 25,
     "metadata": {},
     "output_type": "execute_result"
    }
   ],
   "source": [
    "a = np.random.sample((5,2))\n",
    "a"
   ]
  },
  {
   "cell_type": "code",
   "execution_count": 26,
   "metadata": {},
   "outputs": [
    {
     "data": {
      "text/plain": [
       "array([[0.99454181, 1.59851978],\n",
       "       [2.2898348 , 2.18430855],\n",
       "       [3.72658863, 0.17990072],\n",
       "       [1.50012715, 4.68485139],\n",
       "       [1.96362346, 2.00903862]])"
      ]
     },
     "execution_count": 26,
     "metadata": {},
     "output_type": "execute_result"
    }
   ],
   "source": [
    "5*a"
   ]
  },
  {
   "cell_type": "code",
   "execution_count": 27,
   "metadata": {},
   "outputs": [
    {
     "data": {
      "text/plain": [
       "array([[-4.00545819, -3.40148022],\n",
       "       [-2.7101652 , -2.81569145],\n",
       "       [-1.27341137, -4.82009928],\n",
       "       [-3.49987285, -0.31514861],\n",
       "       [-3.03637654, -2.99096138]])"
      ]
     },
     "execution_count": 27,
     "metadata": {},
     "output_type": "execute_result"
    }
   ],
   "source": [
    "s1 = 5*a-5\n",
    "s1"
   ]
  },
  {
   "cell_type": "code",
   "execution_count": 28,
   "metadata": {},
   "outputs": [
    {
     "data": {
      "text/plain": [
       "([array([0., 1., 1., 1., 1., 0., 0., 1., 0., 0.]),\n",
       "  array([1., 0., 0., 1., 2., 0., 0., 0., 0., 1.])],\n",
       " array([-4.82009928, -4.36960421, -3.91910914, -3.46861407, -3.01811901,\n",
       "        -2.56762394, -2.11712887, -1.66663381, -1.21613874, -0.76564367,\n",
       "        -0.31514861]),\n",
       " <a list of 2 Lists of Patches objects>)"
      ]
     },
     "execution_count": 28,
     "metadata": {},
     "output_type": "execute_result"
    },
    {
     "data": {
      "image/png": "[encoded data removed]",
      "text/plain": [
       "<Figure size 432x288 with 1 Axes>"
      ]
     },
     "metadata": {
      "needs_background": "light"
     },
     "output_type": "display_data"
    }
   ],
   "source": [
    "plt.hist(s1)"
   ]
  },
  {
   "cell_type": "markdown",
   "metadata": {},
   "source": [
    "## Conclusion on the Sample()\n",
    "\n",
    "From the above tests the sample accepts no parameter or a single parameter, It does not accept floating point numbers or negative numbers.\n",
    "All samples printed are between 0.0 and 1.0\n",
    "A shape can be input as that is a single input for example \"sample((3,2))\"\n",
    "The sample values can then be multiplied,subtracted or added to a different figure\n"
   ]
  },
  {
   "cell_type": "markdown",
   "metadata": {},
   "source": [
    "#  <font color='red'>Permutations</font>\n",
    "\n",
    "Here i will try to describe the two permutations functions\n"
   ]
  },
  {
   "cell_type": "markdown",
   "metadata": {},
   "source": [
    "## 1. numpy.random.shuffle(x)"
   ]
  },
  {
   "cell_type": "code",
   "execution_count": 29,
   "metadata": {},
   "outputs": [
    {
     "data": {
      "text/plain": [
       "array([ 0,  1,  2,  3,  4,  5,  6,  7,  8,  9, 10, 11])"
      ]
     },
     "execution_count": 29,
     "metadata": {},
     "output_type": "execute_result"
    }
   ],
   "source": [
    "x = np.arange(12)\n",
    "x"
   ]
  },
  {
   "cell_type": "code",
   "execution_count": 30,
   "metadata": {},
   "outputs": [
    {
     "data": {
      "text/plain": [
       "array([ 7,  4,  6,  8,  3,  9, 11,  0, 10,  1,  5,  2])"
      ]
     },
     "execution_count": 30,
     "metadata": {},
     "output_type": "execute_result"
    }
   ],
   "source": [
    "np.random.shuffle(x)\n",
    "x"
   ]
  },
  {
   "cell_type": "markdown",
   "metadata": {},
   "source": [
    "From the above two tests it is clear what the shuffle function does, In the first section of code the numbers are in order from 0-11 and in the second the same numbers are all shuffled"
   ]
  },
  {
   "cell_type": "code",
   "execution_count": 31,
   "metadata": {},
   "outputs": [
    {
     "data": {
      "text/plain": [
       "array([[ 0,  1,  2],\n",
       "       [ 3,  4,  5],\n",
       "       [ 6,  7,  8],\n",
       "       [ 9, 10, 11]])"
      ]
     },
     "execution_count": 31,
     "metadata": {},
     "output_type": "execute_result"
    }
   ],
   "source": [
    "y =np.arange(12).reshape((4,3))\n",
    "y"
   ]
  },
  {
   "cell_type": "code",
   "execution_count": 32,
   "metadata": {},
   "outputs": [
    {
     "data": {
      "text/plain": [
       "array([[ 9, 10, 11],\n",
       "       [ 6,  7,  8],\n",
       "       [ 3,  4,  5],\n",
       "       [ 0,  1,  2]])"
      ]
     },
     "execution_count": 32,
     "metadata": {},
     "output_type": "execute_result"
    }
   ],
   "source": [
    "np.random.shuffle(y)\n",
    "y"
   ]
  },
  {
   "cell_type": "markdown",
   "metadata": {},
   "source": [
    "From the above test using shapes as the input parameters, The sub-arrays are shuffled while the contents remain the same"
   ]
  },
  {
   "cell_type": "markdown",
   "metadata": {},
   "source": [
    "### Conclusion on the Shuffle()\n",
    "\n",
    "Shuffles the contents of an array, If there is sub arrays in that array only the sub array locations are shuffled, The values inside the sub array remain in the same position,\n",
    "\n",
    "Negative and floating point numbers cannot be input"
   ]
  },
  {
   "cell_type": "markdown",
   "metadata": {},
   "source": [
    "## 2. numpy.random.permutation(x)"
   ]
  },
  {
   "cell_type": "code",
   "execution_count": 33,
   "metadata": {},
   "outputs": [
    {
     "data": {
      "text/plain": [
       "array([ 0,  1,  2,  3,  4,  5,  6,  7,  8,  9, 10, 11])"
      ]
     },
     "execution_count": 33,
     "metadata": {},
     "output_type": "execute_result"
    }
   ],
   "source": [
    "x1 = np.arange(12)\n",
    "x1"
   ]
  },
  {
   "cell_type": "code",
   "execution_count": 34,
   "metadata": {},
   "outputs": [
    {
     "data": {
      "text/plain": [
       "array([ 3,  4,  0,  7,  5,  6, 10,  9,  1,  2, 11,  8])"
      ]
     },
     "execution_count": 34,
     "metadata": {},
     "output_type": "execute_result"
    }
   ],
   "source": [
    "np.random.permutation(x1)"
   ]
  },
  {
   "cell_type": "code",
   "execution_count": 35,
   "metadata": {},
   "outputs": [
    {
     "data": {
      "text/plain": [
       "array([[ 0,  1,  2],\n",
       "       [ 3,  4,  5],\n",
       "       [ 6,  7,  8],\n",
       "       [ 9, 10, 11]])"
      ]
     },
     "execution_count": 35,
     "metadata": {},
     "output_type": "execute_result"
    }
   ],
   "source": [
    "y1 =np.arange(12).reshape((4,3))\n",
    "y1"
   ]
  },
  {
   "cell_type": "code",
   "execution_count": 36,
   "metadata": {},
   "outputs": [
    {
     "data": {
      "text/plain": [
       "array([[ 9, 10, 11],\n",
       "       [ 0,  1,  2],\n",
       "       [ 3,  4,  5],\n",
       "       [ 6,  7,  8]])"
      ]
     },
     "execution_count": 36,
     "metadata": {},
     "output_type": "execute_result"
    }
   ],
   "source": [
    "np.random.permutation(y1)"
   ]
  },
  {
   "cell_type": "markdown",
   "metadata": {},
   "source": [
    "### Conclusion on permutation()\n",
    "\n",
    "From running the same tests that were ran on the shuffle function it is clear that the shuffle and permutation functions are the same,\n",
    "\n",
    "Both shuffle the contents of an array that is arranged from 0-10 and both shuffle the sub arrays while leaving the contents the same\n"
   ]
  },
  {
   "cell_type": "markdown",
   "metadata": {},
   "source": [
    "#  <font color='red'>Distributions</font>"
   ]
  },
  {
   "cell_type": "markdown",
   "metadata": {},
   "source": [
    "## 1. numpy.random.normal(loc=0.0, scale=1.0, size=None)¶"
   ]
  },
  {
   "cell_type": "markdown",
   "metadata": {},
   "source": [
    "What is Normal Distribution?\n",
    "Normal distribution, also known as the Gaussian distribution, is a probability distribution that is symmetric about the mean, showing that data near the mean are more frequent in occurrence than data far from the mean. In graph form, normal distribution will appear as a bell curve\n",
    "\n",
    "numpy.random.normal draws random samples from a normal distribution. It has three parameters: loc, scale and size\n",
    "\n",
    "Link: https://www.investopedia.com/terms/n/normaldistribution.asp"
   ]
  },
  {
   "cell_type": "code",
   "execution_count": 37,
   "metadata": {},
   "outputs": [
    {
     "data": {
      "text/plain": [
       "array([-0.30099002, -0.56231862, -0.5099046 , ..., -0.52219711,\n",
       "        1.77562521,  0.11453772])"
      ]
     },
     "execution_count": 37,
     "metadata": {},
     "output_type": "execute_result"
    }
   ],
   "source": [
    "n = np.random.normal(size=2000)\n",
    "n"
   ]
  },
  {
   "cell_type": "code",
   "execution_count": 38,
   "metadata": {},
   "outputs": [
    {
     "data": {
      "text/plain": [
       "(array([  8.,  36., 115., 348., 514., 504., 312., 111.,  41.,  11.]),\n",
       " array([-3.36239412, -2.6819082 , -2.00142228, -1.32093635, -0.64045043,\n",
       "         0.04003549,  0.72052142,  1.40100734,  2.08149326,  2.76197919,\n",
       "         3.44246511]),\n",
       " <a list of 10 Patch objects>)"
      ]
     },
     "execution_count": 38,
     "metadata": {},
     "output_type": "execute_result"
    },
    {
     "data": {
      "image/png": "[encoded data removed]",
      "text/plain": [
       "<Figure size 432x288 with 1 Axes>"
      ]
     },
     "metadata": {
      "needs_background": "light"
     },
     "output_type": "display_data"
    }
   ],
   "source": [
    "plt.hist(n)"
   ]
  },
  {
   "cell_type": "code",
   "execution_count": 39,
   "metadata": {},
   "outputs": [
    {
     "name": "stderr",
     "output_type": "stream",
     "text": [
      "C:\\ProgrammingApps\\Anaconda3\\lib\\site-packages\\scipy\\stats\\stats.py:1713: FutureWarning: Using a non-tuple sequence for multidimensional indexing is deprecated; use `arr[tuple(seq)]` instead of `arr[seq]`. In the future this will be interpreted as an array index, `arr[np.array(seq)]`, which will result either in an error or a different result.\n",
      "  return np.add.reduce(sorted[indexer] * weights, axis=axis) / sumval\n"
     ]
    },
    {
     "data": {
      "text/plain": [
       "<matplotlib.axes._subplots.AxesSubplot at 0x1c3bd2d2518>"
      ]
     },
     "execution_count": 39,
     "metadata": {},
     "output_type": "execute_result"
    },
    {
     "data": {
      "image/png": "[encoded data removed]",
      "text/plain": [
       "<Figure size 432x288 with 1 Axes>"
      ]
     },
     "metadata": {
      "needs_background": "light"
     },
     "output_type": "display_data"
    }
   ],
   "source": [
    "sns.distplot(n)"
   ]
  },
  {
   "cell_type": "code",
   "execution_count": 40,
   "metadata": {
    "scrolled": true
   },
   "outputs": [
    {
     "data": {
      "text/plain": [
       "1.0772706400866887"
      ]
     },
     "execution_count": 40,
     "metadata": {},
     "output_type": "execute_result"
    }
   ],
   "source": [
    "np.random.normal(loc=0.0,scale=1.0,size=None)"
   ]
  },
  {
   "cell_type": "code",
   "execution_count": 41,
   "metadata": {},
   "outputs": [
    {
     "data": {
      "text/plain": [
       "array([ 1.68644768e+00,  2.75837132e+00,  1.70777941e+00,  5.16083103e-02,\n",
       "        2.02512534e+00,  1.72909683e+00,  2.23914061e+00,  1.65559374e+00,\n",
       "        1.11237780e+00,  2.13270357e+00,  7.54602989e-01,  9.03807847e-01,\n",
       "        8.09666200e-01,  2.93475867e+00,  3.93665305e+00,  5.26676793e+00,\n",
       "        1.64143022e+00, -9.60349434e-01,  2.76048226e+00,  2.73997687e+00,\n",
       "        1.25896363e+00,  7.77020006e+00,  3.88723441e+00,  7.85461046e-01,\n",
       "        1.26581608e+00,  4.08278518e-01,  5.67200112e+00,  3.30824407e+00,\n",
       "        4.27552641e+00,  2.26383393e+00,  4.25884047e+00,  2.32556685e+00,\n",
       "        5.25892651e+00,  4.22136414e+00,  1.39456339e+00,  6.32040287e+00,\n",
       "        4.34415821e+00,  2.85995286e+00,  1.45749883e+00,  2.01975399e+00,\n",
       "        4.87373846e+00,  5.66949364e-01,  3.66430042e+00,  4.52720342e-01,\n",
       "       -1.41348700e+00,  3.78010383e+00,  3.12411138e+00,  1.69382880e+00,\n",
       "       -1.00057324e+00,  1.66894169e+00,  1.67045426e+00,  8.10170083e-01,\n",
       "        7.46420809e-01,  4.24134056e+00,  1.94928467e+00,  1.81846771e+00,\n",
       "       -1.42747712e+00,  2.40517452e+00,  1.65592522e+00,  2.43188933e+00,\n",
       "        3.64177968e+00,  6.09328167e+00,  7.57622664e-02,  3.63490546e+00,\n",
       "        2.23343491e+00,  3.83828557e+00,  3.15520098e+00,  2.00330582e+00,\n",
       "       -7.49134027e-01,  4.92366171e+00,  1.54742453e+00,  1.52859634e+00,\n",
       "       -6.95827056e-01,  1.78682442e+00,  2.97432208e+00, -8.85362396e-01,\n",
       "        5.46054068e+00, -1.84905266e-01, -2.07422708e+00,  3.14892245e+00,\n",
       "        3.09574196e+00,  2.72715430e+00,  4.10260496e+00,  2.05233998e+00,\n",
       "        6.38932752e+00,  2.10098051e+00,  2.30826455e+00,  8.67984772e-01,\n",
       "        3.70448781e+00,  2.56346737e+00, -5.75541326e-01,  3.78644656e+00,\n",
       "        4.04463077e+00,  3.11769272e-01,  5.81409114e+00,  5.09204384e+00,\n",
       "        2.38072215e+00,  9.48090937e-02,  1.39161259e+00,  2.75564891e+00,\n",
       "        2.37770677e+00,  4.81042847e+00,  6.32823105e+00,  4.69301117e+00,\n",
       "       -1.26767109e-01,  1.74225289e+00,  3.03679481e+00,  4.37866020e+00,\n",
       "        1.88045729e+00,  1.01730841e+00,  3.05976868e+00,  3.65603120e+00,\n",
       "        1.58779500e+00,  3.92401930e+00,  3.31047504e+00,  2.88725547e+00,\n",
       "        4.51926755e-01,  3.61446589e+00,  4.54705001e+00, -2.62339969e+00,\n",
       "        2.45580674e+00,  3.31949288e+00,  4.42454873e+00,  6.84886109e+00,\n",
       "        3.97311541e+00,  4.15980188e+00,  3.10247606e+00,  4.58037401e-01,\n",
       "        3.70521869e+00,  5.17725922e+00,  5.09989608e+00,  3.84568960e+00,\n",
       "        2.67453717e+00,  1.06825433e+00,  1.28134874e+00,  4.48339435e+00,\n",
       "       -2.05597142e+00,  1.51981861e+00,  2.35943017e-01,  3.35704926e+00,\n",
       "        5.53300676e+00,  2.92982571e+00,  2.93100290e+00,  9.69158896e-01,\n",
       "        6.78144219e+00,  3.34799823e+00,  1.56438906e+00,  3.52309867e+00,\n",
       "        9.02546646e-01,  2.49392961e+00,  6.72668891e-01,  6.14987817e-03,\n",
       "        1.19911313e+00,  2.66500664e+00,  3.09287375e+00,  3.09042803e+00,\n",
       "        1.22699404e+00,  2.00563430e-01, -6.74546656e-01,  1.23311627e+00,\n",
       "       -3.75798638e+00,  2.18264886e+00,  1.31026284e+00,  4.65408446e+00,\n",
       "        4.14459992e+00,  4.63079762e+00, -1.06542091e+00,  1.93827356e-01,\n",
       "        3.22696364e+00,  3.64156907e-01,  2.81715934e+00,  2.13797028e-01,\n",
       "       -1.03621519e+00,  7.57279636e-01,  1.76407120e+00,  3.29731103e+00,\n",
       "        3.18613515e+00, -1.88800936e-01, -1.99116755e-02,  1.36811152e+00,\n",
       "        3.91202548e+00,  8.84327787e-01,  4.09138650e+00,  3.12949482e+00,\n",
       "        4.72798789e+00, -2.84642074e-01,  9.45824541e-02,  2.18541947e+00,\n",
       "        3.84173539e+00,  4.99100403e+00,  4.83327105e+00,  4.58238540e+00,\n",
       "        3.04016646e+00,  2.54211332e+00,  3.89349399e+00,  8.54127009e-01,\n",
       "        5.48495731e+00, -8.57436935e-01,  9.93027539e-01,  3.04663994e+00,\n",
       "        2.58462541e+00,  2.32280835e+00,  5.28608455e+00,  2.31762409e+00,\n",
       "        2.93104822e+00,  4.34424380e+00,  2.37289101e+00,  4.47686025e-01,\n",
       "        2.76765753e+00,  4.56126400e+00,  4.75675446e+00,  2.36237727e+00,\n",
       "        2.49556460e+00,  5.84231453e+00,  5.47232609e+00,  1.11876449e+00,\n",
       "        3.28958327e-01,  1.51261588e-01, -6.79440891e-01,  2.34088199e+00,\n",
       "        8.19959243e-01,  2.65685057e+00,  1.13787404e+00, -9.05615280e-01,\n",
       "        9.21887074e-01,  3.09456299e-02,  6.82054848e-01,  9.44734409e-01,\n",
       "        1.54594934e+00,  3.64809321e+00,  1.91544129e+00,  9.84396433e-01,\n",
       "        4.15554171e+00, -1.37147141e-01,  1.24357629e+00,  4.44120105e+00,\n",
       "        5.72547909e-01, -1.35895247e+00,  4.09902031e+00,  2.29780710e+00,\n",
       "        4.37663500e-01,  4.67200228e-01, -1.11269383e-01, -1.55373254e+00,\n",
       "        4.35158690e+00,  5.61133523e+00,  3.44696369e-01,  2.58667834e+00,\n",
       "        4.97685609e+00,  4.76656293e+00,  2.99346664e+00,  5.69969420e+00,\n",
       "        2.21576897e+00, -3.93665038e-01,  5.41947476e+00,  1.44442515e-01,\n",
       "        1.49185929e+00,  2.31328141e+00,  3.33165418e+00,  4.78470795e+00,\n",
       "       -8.46550923e-01,  5.17960660e-01,  2.73014216e+00,  8.22827233e-01,\n",
       "        2.65093916e-01,  3.91250827e+00,  8.26276923e-01,  1.55721413e+00,\n",
       "        1.26585144e+00,  4.88969384e+00,  2.96161767e+00, -2.11734554e+00,\n",
       "        2.43690689e+00,  3.29053499e+00,  5.77482950e+00,  2.59518645e+00,\n",
       "        2.16905714e+00,  6.91192653e-01,  4.04174987e+00,  3.40566794e+00,\n",
       "        6.27270981e+00, -1.30665903e+00,  2.66510983e+00,  3.16223386e+00,\n",
       "        3.40656746e+00,  3.30728454e+00,  5.36226940e-01,  2.85392300e+00,\n",
       "        3.29682245e+00,  5.46758967e+00,  5.38549629e+00, -1.87955336e-01,\n",
       "        2.86412283e+00,  5.47854816e+00,  2.83684752e+00,  4.81652374e+00,\n",
       "        1.93616449e+00,  1.07540929e+00,  5.16520939e+00,  1.08713758e+00,\n",
       "        3.38264153e+00,  4.93660516e+00, -1.56465836e-02,  3.57738004e+00,\n",
       "        2.32384680e+00,  1.87190312e+00,  8.20673332e-01,  2.05907046e-01,\n",
       "        1.98607615e+00,  2.82668780e+00,  2.96171710e+00, -1.33356425e+00,\n",
       "        1.60112547e+00,  1.15372479e+00,  2.01774839e+00,  3.45437490e+00,\n",
       "        4.60341211e+00,  4.34733848e+00,  2.43507891e+00,  4.14439171e+00,\n",
       "        1.91090904e+00,  1.17678472e+00,  7.91345534e-01,  1.35389902e+00,\n",
       "       -2.19132593e+00,  2.32415511e+00,  4.60085220e-01, -5.48407107e-01,\n",
       "        3.40202885e+00,  3.86478280e+00, -2.03379661e+00,  1.20241263e+00,\n",
       "        4.27233620e+00,  1.39435043e+00,  3.13900274e+00,  3.43591485e+00,\n",
       "        2.08031159e+00,  4.05359029e-01,  2.88653802e+00,  7.37822092e-01,\n",
       "        9.19145518e-01,  3.21602954e+00,  4.35117202e+00,  3.93674857e+00,\n",
       "        1.11042993e-01,  3.76642284e+00,  2.59457666e+00,  2.44103579e+00,\n",
       "        3.24245640e+00,  2.43673776e-01,  7.10385373e+00,  5.90463332e+00,\n",
       "        1.05812827e+00,  2.79981452e+00,  2.89693122e+00,  5.08050129e+00,\n",
       "        1.91044130e+00,  4.83752434e+00,  2.10867183e+00, -4.27529952e-01,\n",
       "        2.21474105e+00,  4.23759403e+00,  3.84806373e+00,  1.66839654e+00,\n",
       "        7.43630006e+00,  2.14670188e+00,  3.24953979e-01,  1.49327199e+00,\n",
       "        4.88023683e+00,  2.11599149e+00,  1.21067044e+00,  1.20124294e+00,\n",
       "        1.45060926e+00,  1.77574196e+00,  2.36197891e+00,  6.31000523e-01,\n",
       "        3.85640157e+00,  2.23266741e+00,  8.54291415e-01,  1.14324950e+00,\n",
       "       -3.00314443e+00,  6.67803315e+00,  5.61414309e+00, -1.34562108e+00,\n",
       "        2.11113159e-01, -6.24113133e-01,  6.55008927e-01, -7.43208484e-01,\n",
       "        1.03106589e+00,  4.00194544e+00,  2.33566152e+00, -1.88924652e+00,\n",
       "        2.19697600e+00,  3.46993433e+00,  3.42192385e+00,  4.93073962e+00,\n",
       "        3.80610170e+00,  2.85529757e+00,  7.36455098e-01,  2.31747745e+00,\n",
       "        1.20313926e+00,  2.44762863e+00,  3.53941218e+00,  2.96885083e+00,\n",
       "        2.96054073e+00,  7.86642886e-01,  3.97501007e+00,  2.74307374e+00,\n",
       "        4.15795701e+00,  2.89738438e+00,  4.83772882e+00,  3.92265720e+00,\n",
       "        3.28150037e+00,  1.56550744e+00,  4.68754406e-01,  1.61898012e+00,\n",
       "        4.23165844e+00,  3.74731519e+00,  3.81432029e+00, -1.77490541e+00,\n",
       "        5.55626855e+00,  4.05970670e+00,  2.93016987e+00,  5.34171281e+00,\n",
       "        3.59871935e+00,  1.10868450e+00,  3.69341418e+00,  1.47606608e+00,\n",
       "        5.50856868e+00, -3.07224567e+00,  1.35912857e+00,  3.30305767e-01,\n",
       "        4.47396297e+00,  2.32960085e+00,  8.38447905e-01,  3.91082207e+00,\n",
       "        1.33010090e+00,  3.05592496e+00, -1.41774582e+00,  5.14642204e+00,\n",
       "        2.46399887e+00,  2.35499756e+00,  5.68267787e-01, -7.56105617e-01,\n",
       "        1.51938459e+00,  4.40495457e+00, -5.24708897e-01,  1.69586540e+00,\n",
       "        3.71196920e+00,  5.67516209e-01,  4.72684065e+00,  2.01136104e+00,\n",
       "        6.25937113e+00,  3.93965423e+00,  3.19110056e+00,  7.18550798e-01,\n",
       "        4.01998116e+00, -2.00993771e-01,  1.56367695e+00, -9.74012228e-01,\n",
       "        3.16717457e+00, -3.38762463e-01, -1.43413398e+00,  3.37632333e+00,\n",
       "        4.74275800e-01,  1.09165676e+00,  8.71139081e-01, -4.37667041e-01,\n",
       "        3.70615193e+00,  1.82915436e+00, -2.80371687e-01,  2.84695725e+00,\n",
       "        3.38140410e-01,  2.04424213e+00,  3.09592681e+00,  6.78115347e-01,\n",
       "        2.63048119e+00,  1.58473822e+00,  4.23086096e+00, -6.48768240e-02,\n",
       "        3.41817855e+00,  3.40806656e+00,  8.89564145e-01,  2.35245164e+00,\n",
       "        5.34274817e-01, -4.15955671e-01, -7.17875075e-01,  3.05750917e+00,\n",
       "        1.73220809e+00,  1.80485941e+00,  4.78959439e+00,  4.62736966e+00,\n",
       "        4.48509315e+00,  4.48882259e+00,  5.43026998e+00,  2.48557087e+00,\n",
       "        6.52685905e-01,  1.84653469e+00, -2.43462139e-01,  2.77235306e+00,\n",
       "        4.67563347e+00,  4.15969311e+00,  1.85473055e-02,  3.25466471e+00,\n",
       "       -5.98201737e-01,  1.45140848e+00,  2.74219032e+00,  2.52448562e+00,\n",
       "       -1.62818701e-02,  3.18617930e+00,  1.40404390e+00,  3.68777133e+00,\n",
       "       -2.00537689e-01,  1.20906816e+00,  1.97814972e+00,  2.39947797e+00,\n",
       "        3.20546878e-01,  1.51330580e+00,  3.87532211e-01,  5.85288051e+00,\n",
       "       -1.02474343e+00,  8.83463053e-01,  2.77145968e+00,  4.64169429e+00,\n",
       "       -1.62656594e+00,  3.50398046e+00,  4.06916564e+00, -2.34155094e+00,\n",
       "        1.36757850e+00,  3.72678208e+00,  3.11159994e+00,  2.92881299e+00,\n",
       "        2.12064059e-01,  7.03476191e+00,  5.09180008e+00,  2.08801911e+00,\n",
       "        2.24385285e+00, -1.37132455e+00, -2.84067432e+00,  1.68382770e+00,\n",
       "        2.76740550e+00,  2.09497280e+00,  2.19106023e+00,  2.87126054e+00,\n",
       "        5.10374802e+00,  4.25421958e+00,  2.22567143e+00,  2.87921958e-01,\n",
       "        5.41566431e-01,  3.40881173e+00,  1.49483381e-01,  1.03465886e-01,\n",
       "        5.05021490e+00, -2.17053645e-01,  2.75016825e+00,  3.27461342e+00,\n",
       "        8.23119854e-01,  4.47253294e+00, -5.33149518e-01,  7.48909517e-01,\n",
       "        4.58100724e+00,  1.35231550e+00, -7.85157512e-01,  4.37460031e+00,\n",
       "        2.64172163e+00,  3.05296548e+00,  1.02577350e+00,  4.35920224e-01,\n",
       "        1.46466314e+00,  4.59019280e+00, -5.00615181e-01,  1.24889797e-01,\n",
       "        4.30670163e+00, -1.84987949e+00,  8.07490218e-01,  2.98677832e+00,\n",
       "        2.94221759e+00,  5.03990739e+00, -4.66542044e-01,  3.83541082e+00,\n",
       "        1.82157082e+00,  3.35935602e+00,  9.70859099e-01,  2.18706926e+00,\n",
       "        3.57307825e+00,  2.29541900e+00,  3.50431616e+00,  2.10007135e+00,\n",
       "        1.39923067e+00, -3.12840041e-01,  2.45750753e+00,  2.43311403e+00,\n",
       "        1.99312949e+00,  1.84781535e+00,  4.10468399e+00,  1.67460591e+00,\n",
       "        3.16777740e+00,  1.24970858e+00,  2.23131457e+00,  1.88114223e+00,\n",
       "        1.79587093e+00,  4.90634167e+00,  6.74929797e+00,  2.07171861e+00,\n",
       "        1.50584202e+00,  3.19870080e+00,  7.86706645e-01,  2.22649791e+00,\n",
       "        5.99049345e-01,  9.25065984e-01,  2.56824759e+00,  3.94648541e+00,\n",
       "        9.25176482e-01,  4.60232090e+00,  4.20451365e+00,  2.44355301e+00,\n",
       "        6.79455648e+00,  6.53898492e+00,  2.63972964e+00, -2.68673429e+00,\n",
       "        2.99045337e+00,  3.25313305e+00,  4.25409156e+00,  3.14163885e+00,\n",
       "        7.81232801e-01,  3.55886279e+00,  1.84641764e+00,  8.08573228e-01,\n",
       "        2.64463621e+00,  8.12792432e-02,  1.93440585e-01,  4.30265739e+00,\n",
       "        2.92508231e+00,  7.65859008e-01,  2.01892679e+00,  1.25662092e-01,\n",
       "        3.40411746e+00,  4.32483553e+00, -3.16101922e-01,  2.20202120e-01,\n",
       "        1.60713865e+00,  3.04148073e+00, -6.20922732e-01,  1.45428025e+00,\n",
       "        1.44209788e+00,  2.03500076e+00, -1.32558132e+00,  3.62132791e+00,\n",
       "        8.21699692e-01,  3.52533142e+00,  4.83542365e+00,  4.26974938e+00,\n",
       "        4.66616286e-02,  1.43475609e+00,  1.44099092e+00,  2.13049325e+00,\n",
       "        4.65233738e+00,  3.98757586e-01,  1.96157797e+00,  1.72842075e-01,\n",
       "        1.37933095e+00,  2.90659816e+00,  2.67968394e+00, -1.59312835e+00,\n",
       "        4.58034079e+00,  7.67594277e-01,  4.28236315e+00,  4.24596968e+00,\n",
       "        6.67441728e+00,  9.10606407e-01,  5.56083724e-01,  4.04184128e+00,\n",
       "        1.45374338e+00,  1.61681993e+00,  4.53075780e+00, -1.68451682e+00,\n",
       "       -5.17279765e-01,  5.20747533e+00,  1.40636980e-01,  5.87942287e+00,\n",
       "        1.43970563e+00,  2.11799312e+00, -2.21103296e+00,  1.89035385e+00,\n",
       "        3.59443060e-01,  1.04309217e+00,  3.95115436e+00,  3.02988442e+00,\n",
       "        3.23317524e+00, -4.80510634e-01,  5.79098642e+00,  3.66056345e+00,\n",
       "       -9.31845855e-01,  3.00012809e+00,  3.83709604e-01, -5.92553220e-01,\n",
       "        2.98668461e+00,  5.89564276e-01,  1.61231324e+00,  3.09426750e+00,\n",
       "        2.68454802e+00, -1.40235194e+00,  4.55339240e+00,  4.83058246e+00,\n",
       "       -2.62102300e-01,  6.84673790e+00,  3.02179604e-01, -1.49299316e+00,\n",
       "        8.47375457e-01,  2.27691795e+00,  1.07819915e+00,  1.62221825e-01,\n",
       "        1.41042551e+00, -1.36600389e+00,  1.14808744e+00, -9.85791186e-01,\n",
       "        5.25118073e+00,  3.31129336e+00,  1.55507527e+00,  2.88599383e+00,\n",
       "        2.57790558e+00,  2.44343721e+00,  1.10198335e+00, -2.23764604e+00,\n",
       "        3.44609289e-01, -1.48771007e+00,  6.39573013e-01,  5.48714962e-01,\n",
       "        2.14559624e+00, -1.54778358e+00,  3.62376242e+00,  1.09926298e+00,\n",
       "        1.45549940e+00,  6.82848641e-01,  8.49875852e-01,  1.11912596e+00,\n",
       "        2.51226047e+00,  3.86961878e+00,  1.85677398e-01,  1.71594341e+00,\n",
       "        2.11515540e+00,  5.49006836e+00,  2.74430002e+00,  1.94421138e+00,\n",
       "        2.83244229e+00,  1.56910794e+00,  1.91084978e+00,  2.62390189e+00,\n",
       "        1.24095037e+00,  3.23090828e+00,  9.96387591e-02,  1.88652108e+00,\n",
       "        1.37661435e+00,  4.46074362e+00, -7.81976190e-02,  5.80301362e-01,\n",
       "        3.34637028e+00,  3.51298746e+00, -8.55375365e-02,  4.58718208e+00,\n",
       "        2.59918263e+00,  3.74466756e+00,  4.72283828e+00,  4.18577794e+00,\n",
       "        7.36707393e-01,  1.51357813e+00,  4.09707194e-01,  5.33980499e+00,\n",
       "        4.80733791e+00, -9.49318446e-01,  2.59211746e+00,  3.72260107e+00,\n",
       "        4.04676167e+00,  7.29645696e-01,  9.71676236e-01,  4.70343798e+00,\n",
       "        1.50708041e+00,  4.15287092e+00,  1.17276056e+00,  1.77872697e+00,\n",
       "        4.36765354e+00,  2.63307540e+00,  4.42074895e+00,  3.92576258e+00,\n",
       "        2.63921899e-01, -3.02936644e-01, -3.43907331e+00,  2.10922394e+00,\n",
       "        2.71177516e+00,  4.25374054e+00,  1.68361776e+00,  3.12691184e+00,\n",
       "        1.49418335e+00,  2.50763210e+00, -1.39841862e+00, -6.75423802e-01,\n",
       "       -3.82510652e-01,  4.01855016e+00,  1.94868445e+00,  2.21930527e+00,\n",
       "        4.67952390e+00,  9.60941370e-01,  2.60234857e+00,  1.27139327e+00,\n",
       "        2.77579999e+00,  3.26128663e+00,  8.49547612e-01,  5.31535188e+00,\n",
       "        9.14801889e-01, -2.78324312e+00,  1.55240527e-01,  2.58508618e+00,\n",
       "        3.61701395e+00,  9.06607873e-01,  2.39680614e+00,  2.54788257e+00,\n",
       "        2.76282605e+00,  3.66469305e+00,  3.14671643e-01,  3.16466797e+00,\n",
       "        2.40877600e+00,  1.26551486e+00,  5.20317504e-01,  3.74971148e+00,\n",
       "        3.37089490e+00,  6.88394028e+00, -5.89648589e-01, -6.27623504e-01,\n",
       "        3.98618135e-01,  1.98234590e+00, -1.47879967e+00,  3.46611889e+00,\n",
       "        2.18173144e+00,  4.27475040e+00,  2.37385888e+00,  2.91890188e+00,\n",
       "        1.38791523e+00,  6.09259522e+00, -5.38548050e-01,  3.00635490e+00,\n",
       "        2.72605121e+00,  3.29652715e+00,  1.59953253e+00,  1.13967748e+00,\n",
       "        7.06363366e-01,  1.20903458e+00,  5.20552560e+00,  4.28920638e+00,\n",
       "        2.07649306e+00, -3.31628770e-01,  7.68005430e-01, -4.92139044e-01,\n",
       "       -2.60641022e+00,  5.29273952e+00, -9.67755760e-01,  2.50144077e+00,\n",
       "        5.20675640e+00,  3.52166318e+00,  2.33381430e+00,  1.09151404e+00,\n",
       "        5.03900992e+00,  3.30958438e+00,  4.69761307e+00,  1.39183159e+00,\n",
       "        1.84221038e+00,  2.13128876e+00,  5.59342752e+00,  1.80591477e+00,\n",
       "        4.57678520e+00,  1.26544874e+00,  1.36166157e+00,  1.58860630e+00,\n",
       "        4.33729857e+00,  3.73294622e+00,  3.87974678e+00,  2.24350530e+00,\n",
       "        1.55240375e+00,  2.70518060e+00,  3.66296614e+00, -6.47636113e-02,\n",
       "        3.30796102e+00,  4.55234156e+00,  2.55284677e+00,  2.96238481e+00,\n",
       "        3.82716395e+00,  5.55588285e-01,  9.17709823e-01,  1.80805768e+00,\n",
       "       -3.57743922e-01,  2.22508623e+00,  4.22704068e+00,  3.13033510e+00,\n",
       "        1.28754212e+00,  2.94297493e+00,  1.04920003e+00,  2.11440463e+00,\n",
       "        3.40735251e+00,  1.25412466e+00,  2.87089118e+00,  3.77489262e+00,\n",
       "        1.74928623e+00,  7.96151840e-01,  2.48014879e+00,  2.41213451e+00,\n",
       "        6.31438033e-01,  6.58623930e-01,  2.86260146e+00,  3.16155584e+00,\n",
       "        1.00360464e+00,  5.46132880e+00,  3.32350929e+00,  7.79723512e-01,\n",
       "        1.70152058e+00,  3.54881599e+00,  3.28220831e+00, -9.74808354e-01,\n",
       "       -1.40056221e+00,  2.19209376e+00,  4.60892541e-01,  2.59620041e+00,\n",
       "       -1.55292194e+00,  3.75804851e+00,  3.10917367e+00,  2.92636023e+00,\n",
       "       -1.04915632e+00,  1.65517139e+00,  1.48744878e+00, -8.06061409e-01,\n",
       "        1.02896718e+00,  6.23536610e+00,  5.71804656e+00,  3.72997539e+00,\n",
       "        8.06990506e-01,  1.84336409e+00,  3.31865714e+00,  5.91047993e+00,\n",
       "        3.08417022e+00,  3.13575263e+00,  2.65375910e+00, -1.20804655e+00,\n",
       "        5.78998025e+00,  5.50584327e+00,  6.02432124e+00, -4.52050901e-01,\n",
       "        2.32464220e+00, -1.17040505e+00,  4.11293874e+00,  1.97097058e+00,\n",
       "        4.49512369e-01,  3.49416526e+00,  4.68727957e+00,  7.22561613e+00,\n",
       "        6.79672395e-01,  5.21180352e+00,  2.27535006e+00,  1.85233935e-01,\n",
       "        6.49533256e+00,  1.68137028e+00,  5.43396308e+00,  7.75078262e+00,\n",
       "        5.68643298e+00,  2.77657280e+00, -9.03060231e-01, -7.69908520e-01,\n",
       "        1.40518368e+00,  2.61857261e+00, -3.75217681e-01,  6.52370661e+00,\n",
       "        5.48603400e+00,  6.59276097e+00,  3.05831277e+00,  1.22139533e-01,\n",
       "       -2.21721168e+00,  2.82648153e+00,  2.08632928e+00,  3.75576196e+00,\n",
       "        4.39704772e+00, -2.27097393e+00,  9.25880002e-01,  3.72930025e+00,\n",
       "        5.00310169e+00,  2.21504367e+00,  3.20008654e+00,  2.64089892e+00,\n",
       "        4.36224830e-01,  2.61139653e+00,  1.24216689e+00,  1.59580748e+00,\n",
       "       -2.35791793e+00,  1.67084337e+00,  8.42040753e-01, -3.80567286e-01,\n",
       "        1.95464233e+00,  4.20883979e+00,  4.65369877e+00,  9.20329455e-01,\n",
       "        1.27139568e+00,  6.16794890e+00,  6.61630700e-02,  1.69932524e+00])"
      ]
     },
     "execution_count": 41,
     "metadata": {},
     "output_type": "execute_result"
    }
   ],
   "source": [
    "n1 = np.random.normal(loc=2.2 ,scale=2.0,size=1000)\n",
    "n1"
   ]
  },
  {
   "cell_type": "code",
   "execution_count": 42,
   "metadata": {},
   "outputs": [
    {
     "data": {
      "text/plain": [
       "(array([  9.,  23.,  74., 153., 197., 220., 170., 100.,  40.,  14.]),\n",
       " array([-3.75798638, -2.60516774, -1.45234909, -0.29953045,  0.8532882 ,\n",
       "         2.00610684,  3.15892548,  4.31174413,  5.46456277,  6.61738142,\n",
       "         7.77020006]),\n",
       " <a list of 10 Patch objects>)"
      ]
     },
     "execution_count": 42,
     "metadata": {},
     "output_type": "execute_result"
    },
    {
     "data": {
      "image/png": "[encoded data removed]",
      "text/plain": [
       "<Figure size 432x288 with 1 Axes>"
      ]
     },
     "metadata": {
      "needs_background": "light"
     },
     "output_type": "display_data"
    }
   ],
   "source": [
    "plt.hist(n1)"
   ]
  },
  {
   "cell_type": "code",
   "execution_count": 43,
   "metadata": {},
   "outputs": [
    {
     "data": {
      "text/plain": [
       "<matplotlib.axes._subplots.AxesSubplot at 0x1c3bd476c88>"
      ]
     },
     "execution_count": 43,
     "metadata": {},
     "output_type": "execute_result"
    },
    {
     "data": {
      "image/png": "[encoded data removed]",
      "text/plain": [
       "<Figure size 432x288 with 1 Axes>"
      ]
     },
     "metadata": {
      "needs_background": "light"
     },
     "output_type": "display_data"
    }
   ],
   "source": [
    "sns.distplot(n1)"
   ]
  },
  {
   "cell_type": "markdown",
   "metadata": {},
   "source": [
    "## 2. numpy.random.uniform(low=0.0, high=1.0, size=None)"
   ]
  },
  {
   "cell_type": "markdown",
   "metadata": {},
   "source": [
    "Samples are uniformly distributed over the half-open interval (low, high) (includes low, but excludes high). In other words, any value within the given interval is equally likely to be drawn by uniform\n",
    "\n",
    "Its like rolling a dice, There is as much hance of a 1 been rolled as there is a 6\n",
    "\n",
    "This is shown by the box shaped plots below"
   ]
  },
  {
   "cell_type": "code",
   "execution_count": 44,
   "metadata": {},
   "outputs": [
    {
     "data": {
      "text/plain": [
       "array([-0.37585836, -0.91275989, -0.78529465, -0.67720615, -0.56660691,\n",
       "       -0.30288132, -0.2809552 , -0.67332712, -0.53828159, -0.08774337,\n",
       "       -0.70366574, -0.88923361, -0.70087037, -0.45306956, -0.90518167,\n",
       "       -0.99799939, -0.70149894, -0.26210935, -0.875033  , -0.91132385,\n",
       "       -0.86252281, -0.98328461, -0.26664398, -0.22687536, -0.78123758,\n",
       "       -0.72179042, -0.33172246, -0.20086627, -0.52952984, -0.87880126,\n",
       "       -0.30628119, -0.64846758, -0.47020574, -0.29079875, -0.8264254 ,\n",
       "       -0.81435373, -0.53384245, -0.51139301, -0.1627367 , -0.59044261,\n",
       "       -0.51584158, -0.4053943 , -0.23578278, -0.7789471 , -0.31732471,\n",
       "       -0.24026236, -0.20630512, -0.20329704, -0.3658009 , -0.511572  ,\n",
       "       -0.12203446, -0.0062147 , -0.15256382, -0.3336528 , -0.52253376,\n",
       "       -0.49768723, -0.35095009, -0.92976926, -0.61023919, -0.35497907,\n",
       "       -0.5755443 , -0.8100305 , -0.53625419, -0.27257338, -0.44093545,\n",
       "       -0.05269353, -0.48917445, -0.65807811, -0.96238447, -0.37797467,\n",
       "       -0.24750177, -0.97211014, -0.66710311, -0.8199454 , -0.44103215,\n",
       "       -0.25172419, -0.03559628, -0.49537554, -0.06360724, -0.40110014,\n",
       "       -0.6990875 , -0.09173275, -0.58990701, -0.34511914, -0.41092928,\n",
       "       -0.01452663, -0.90710088, -0.32422022, -0.56461327, -0.86684856,\n",
       "       -0.73661581, -0.06783731, -0.46876727, -0.75336447, -0.67853554,\n",
       "       -0.69631854, -0.08560157, -0.11723779, -0.80109597, -0.58066042,\n",
       "       -0.51379879, -0.62449932, -0.26723225, -0.82513496, -0.64922015,\n",
       "       -0.47323603, -0.05145676, -0.88062066, -0.68489497, -0.35546185,\n",
       "       -0.30574264, -0.7585984 , -0.44702269, -0.41987823, -0.6798643 ,\n",
       "       -0.50763877, -0.96378519, -0.97907591, -0.88885982, -0.07078285,\n",
       "       -0.13972675, -0.01046528, -0.81322637, -0.79498987, -0.36391766,\n",
       "       -0.96811147, -0.69035777, -0.75341008, -0.61064109, -0.60844082,\n",
       "       -0.48144174, -0.92190884, -0.30553166, -0.92127305, -0.47970187,\n",
       "       -0.04415759, -0.51780224, -0.69084563, -0.937214  , -0.94400407,\n",
       "       -0.7061864 , -0.01215046, -0.80329856, -0.71560016, -0.59737216,\n",
       "       -0.35702259, -0.97553525, -0.12461429, -0.41900919, -0.59536941,\n",
       "       -0.65655079, -0.7769329 , -0.37542532, -0.39781668, -0.82384621,\n",
       "       -0.1572559 , -0.66578065, -0.14761892, -0.18082012, -0.26107591,\n",
       "       -0.09177374, -0.05666328, -0.69531287, -0.21200829, -0.82989743,\n",
       "       -0.94845452, -0.22822395, -0.9806432 , -0.94051794, -0.59328684,\n",
       "       -0.05543863, -0.98824426, -0.2955255 , -0.84458047, -0.94593536,\n",
       "       -0.35777728, -0.09173069, -0.08152565, -0.1729157 , -0.68812735,\n",
       "       -0.87033947, -0.62128587, -0.79193738, -0.7909292 , -0.67855048,\n",
       "       -0.98822169, -0.63427462, -0.99522379, -0.00690589, -0.43049136,\n",
       "       -0.96432607, -0.38510293, -0.99033525, -0.07872312, -0.9522195 ,\n",
       "       -0.57164092, -0.69120385, -0.53775525, -0.89657987, -0.03197542,\n",
       "       -0.79768378, -0.27920037, -0.79660937, -0.98658852, -0.69369612,\n",
       "       -0.94655923, -0.59380787, -0.24108665, -0.16811621, -0.18950029,\n",
       "       -0.2013293 , -0.11709616, -0.43593657, -0.36378885, -0.18235221,\n",
       "       -0.84430133, -0.95976249, -0.07900774, -0.63923757, -0.41628025,\n",
       "       -0.86037593, -0.39776781, -0.35805324, -0.84975438, -0.22274622,\n",
       "       -0.9453223 , -0.56479015, -0.72833295, -0.25225363, -0.69107356,\n",
       "       -0.10864919, -0.23268277, -0.30264439, -0.37910364, -0.51746929,\n",
       "       -0.73161529, -0.42413955, -0.50899007, -0.2053681 , -0.98859557,\n",
       "       -0.31092927, -0.91593719, -0.06848041, -0.0258406 , -0.04754918,\n",
       "       -0.40901579, -0.75398027, -0.31861453, -0.73458857, -0.17364899,\n",
       "       -0.48882047, -0.75837091, -0.95882677, -0.13822678, -0.54704762,\n",
       "       -0.12945516, -0.4142753 , -0.62117842, -0.71586056, -0.35362707,\n",
       "       -0.76317129, -0.67456529, -0.99956058, -0.15653837, -0.39829645,\n",
       "       -0.36857794, -0.39210794, -0.20668097, -0.71319861, -0.81050444,\n",
       "       -0.70808615, -0.88602768, -0.2066611 , -0.58431672, -0.22410289,\n",
       "       -0.40256265, -0.7437726 , -0.06572195, -0.40396635, -0.60688502,\n",
       "       -0.8111027 , -0.02656716, -0.23825511, -0.45735738, -0.03198946,\n",
       "       -0.64763882, -0.78976668, -0.79218151, -0.42446397, -0.31327421,\n",
       "       -0.7163269 , -0.55823944, -0.12523143, -0.45835779, -0.09192311,\n",
       "       -0.39014394, -0.86833577, -0.64352723, -0.34551554, -0.40261733,\n",
       "       -0.7376308 , -0.49156092, -0.72943973, -0.6281866 , -0.2126914 ,\n",
       "       -0.47458425, -0.63744236, -0.49703908, -0.39305278, -0.90352893,\n",
       "       -0.32387166, -0.01721882, -0.02763324, -0.79286144, -0.38731583,\n",
       "       -0.27900178, -0.00186864, -0.12670796, -0.16460689, -0.42274749,\n",
       "       -0.51615177, -0.66931484, -0.82641055, -0.90586458, -0.24036275,\n",
       "       -0.94474569, -0.92096567, -0.1775114 , -0.96517991, -0.94049016,\n",
       "       -0.98150672, -0.58401387, -0.94039172, -0.30172442, -0.28232675,\n",
       "       -0.04952557, -0.00522129, -0.89327281, -0.38306247, -0.58038118,\n",
       "       -0.10526793, -0.69324742, -0.32171688, -0.79938396, -0.78967342,\n",
       "       -0.89443429, -0.5505486 , -0.45612929, -0.17585579, -0.97329916,\n",
       "       -0.28709608, -0.31877693, -0.63842505, -0.57833699, -0.72887615,\n",
       "       -0.96871961, -0.35247816, -0.81291371, -0.23635181, -0.15319907,\n",
       "       -0.17455737, -0.54548133, -0.74884058, -0.42939084, -0.6016014 ,\n",
       "       -0.8781027 , -0.45117114, -0.54839648, -0.78350176, -0.57966324,\n",
       "       -0.31362816, -0.20812407, -0.53203969, -0.2307551 , -0.37161308,\n",
       "       -0.22546951, -0.86696331, -0.31194175, -0.05955407, -0.93621448,\n",
       "       -0.72480676, -0.95684185, -0.7399318 , -0.66821799, -0.88630695,\n",
       "       -0.54586826, -0.85495874, -0.16886807, -0.67627151, -0.37571993,\n",
       "       -0.1392024 , -0.60195087, -0.14413952, -0.3002315 , -0.7449664 ,\n",
       "       -0.05448826, -0.63714091, -0.43879691, -0.84598149, -0.87250806,\n",
       "       -0.70110687, -0.00846128, -0.04036991, -0.05708112, -0.98450928,\n",
       "       -0.80144143, -0.04936762, -0.77830486, -0.63687159, -0.06382012,\n",
       "       -0.80806449, -0.82366537, -0.57791702, -0.2117169 , -0.41026537,\n",
       "       -0.31851953, -0.01833021, -0.36075163, -0.68355592, -0.82443512,\n",
       "       -0.19229711, -0.2114829 , -0.16928113, -0.46605578, -0.12780067,\n",
       "       -0.20627959, -0.80751925, -0.08257099, -0.49033448, -0.72756929,\n",
       "       -0.25252742, -0.01665759, -0.51159546, -0.59103845, -0.75652373,\n",
       "       -0.09854903, -0.00687368, -0.99382001, -0.12768722, -0.7640417 ,\n",
       "       -0.30159333, -0.8591917 , -0.93572005, -0.57628844, -0.12978993,\n",
       "       -0.48979229, -0.19927237, -0.55923239, -0.61961516, -0.80805604,\n",
       "       -0.98068958, -0.9160749 , -0.41877773, -0.74901281, -0.10419695,\n",
       "       -0.42877677, -0.14150929, -0.43499602, -0.83801682, -0.76808772,\n",
       "       -0.34616179, -0.88774671, -0.52562943, -0.11396554, -0.0119589 ,\n",
       "       -0.55473727, -0.89600947, -0.92490579, -0.19124889, -0.08582652,\n",
       "       -0.45595019, -0.84149331, -0.76647111, -0.18729127, -0.04275487,\n",
       "       -0.45824479, -0.43434254, -0.72664653, -0.35360804, -0.75051146,\n",
       "       -0.255584  , -0.41145036, -0.26328197, -0.94295386, -0.88562378,\n",
       "       -0.29607875, -0.56498015, -0.77362939, -0.41126412, -0.67834811,\n",
       "       -0.10278884, -0.01590525, -0.53445928, -0.48074219, -0.07608314,\n",
       "       -0.48142266, -0.72560255, -0.50918365, -0.66607203, -0.36536648,\n",
       "       -0.47107734, -0.72328512, -0.17753212, -0.47549426, -0.30489037,\n",
       "       -0.41931372, -0.1781167 , -0.52016174, -0.86756646, -0.33018939,\n",
       "       -0.60066673, -0.57728775, -0.86861661, -0.3831483 , -0.7481687 ,\n",
       "       -0.13785515, -0.33660261, -0.81325006, -0.37806119, -0.39189342,\n",
       "       -0.55699031, -0.79331031, -0.14093645, -0.60853176, -0.21958677,\n",
       "       -0.65311085, -0.96139667, -0.41916958, -0.67702766, -0.07879274,\n",
       "       -0.58268099, -0.04555576, -0.75054503, -0.91786743, -0.30077494,\n",
       "       -0.82214771, -0.16103353, -0.96529433, -0.85914157, -0.91947506,\n",
       "       -0.3833873 , -0.56261135, -0.81418922, -0.42616991, -0.50276361,\n",
       "       -0.44882951, -0.5003883 , -0.98453567, -0.81549161, -0.93952493,\n",
       "       -0.36880787, -0.58002154, -0.40225234, -0.4129103 , -0.31637383,\n",
       "       -0.78292145, -0.31643875, -0.81552193, -0.77321415, -0.60678449,\n",
       "       -0.30767217, -0.34373422, -0.72035961, -0.38513543, -0.31300995,\n",
       "       -0.77222431, -0.5114506 , -0.91382152, -0.55267244, -0.3775473 ,\n",
       "       -0.76103804, -0.90344305, -0.68689727, -0.63276194, -0.87046425,\n",
       "       -0.0446393 , -0.95998656, -0.4808038 , -0.05875358, -0.7183498 ,\n",
       "       -0.79578612, -0.79122037, -0.43300809, -0.74402613, -0.51595442,\n",
       "       -0.7574484 , -0.38934807, -0.1121145 , -0.71516832, -0.29854854,\n",
       "       -0.08580072, -0.5595947 , -0.34452303, -0.20309149, -0.11091367,\n",
       "       -0.22180305, -0.92160124, -0.66166968, -0.35943536, -0.12400612,\n",
       "       -0.55797342, -0.8905712 , -0.10629109, -0.16679325, -0.48211887,\n",
       "       -0.67205202, -0.49426265, -0.59647809, -0.02530158, -0.93353311,\n",
       "       -0.93361424, -0.17831229, -0.65502945, -0.95074858, -0.97058483,\n",
       "       -0.8524304 , -0.96267625, -0.21597314, -0.86791492, -0.47949587,\n",
       "       -0.77721583, -0.46771581, -0.13455595, -0.2436547 , -0.02566862,\n",
       "       -0.51551108, -0.22112875, -0.90157465, -0.89688076, -0.0159134 ,\n",
       "       -0.0951271 , -0.95720375, -0.62349983, -0.87372395, -0.88460387,\n",
       "       -0.84743093, -0.28344171, -0.90051785, -0.95551498, -0.25438749,\n",
       "       -0.59804084, -0.0092738 , -0.83955003, -0.37746354, -0.36019759,\n",
       "       -0.72666717, -0.36597116, -0.07817957, -0.78363276, -0.85072991,\n",
       "       -0.16286298, -0.54185516, -0.84616715, -0.12114755, -0.54912803,\n",
       "       -0.95288158, -0.27071895, -0.25380987, -0.33347422, -0.94163416,\n",
       "       -0.90927605, -0.50985648, -0.24334593, -0.88567706, -0.50377623,\n",
       "       -0.8431524 , -0.43728537, -0.14727144, -0.825732  , -0.65677855,\n",
       "       -0.89426149, -0.70755755, -0.2745658 , -0.66908634, -0.9048222 ,\n",
       "       -0.73046453, -0.11330438, -0.70363935, -0.55630126, -0.90627593,\n",
       "       -0.69402693, -0.40002353, -0.75209358, -0.29083471, -0.30079018,\n",
       "       -0.88377165, -0.78774071, -0.22584832, -0.63618711, -0.02011277,\n",
       "       -0.30671413, -0.42606287, -0.40087758, -0.2469135 , -0.77189409,\n",
       "       -0.20849325, -0.65704429, -0.34935175, -0.98842386, -0.03705622,\n",
       "       -0.32729868, -0.51461493, -0.82340676, -0.51077073, -0.32780405,\n",
       "       -0.99022443, -0.77711975, -0.2996284 , -0.88961977, -0.57865314,\n",
       "       -0.3202279 , -0.6916215 , -0.19845721, -0.98727592, -0.47385018,\n",
       "       -0.14592937, -0.29870501, -0.85002872, -0.67548302, -0.85506996,\n",
       "       -0.17687255, -0.46290021, -0.85667192, -0.62009422, -0.5365775 ,\n",
       "       -0.2774117 , -0.38549569, -0.9648446 , -0.71330481, -0.1212966 ,\n",
       "       -0.43727173, -0.43024356, -0.43072052, -0.1206534 , -0.44279475,\n",
       "       -0.66989846, -0.51665901, -0.56013165, -0.86432171, -0.71439609,\n",
       "       -0.38268003, -0.11733966, -0.40308733, -0.97594943, -0.16198916,\n",
       "       -0.68265871, -0.79728917, -0.65026739, -0.04079359, -0.63035476,\n",
       "       -0.90540407, -0.68380323, -0.23276736, -0.73979709, -0.67683703,\n",
       "       -0.09383586, -0.186024  , -0.99150476, -0.34498669, -0.48062969,\n",
       "       -0.95073162, -0.10871831, -0.20590762, -0.41449612, -0.74637039,\n",
       "       -0.88899103, -0.70533975, -0.06154284, -0.67341687, -0.97832091,\n",
       "       -0.49135531, -0.69820355, -0.72027427, -0.40737946, -0.41043617,\n",
       "       -0.53748393, -0.03747788, -0.65243669, -0.5529719 , -0.55037187,\n",
       "       -0.70428402, -0.37224368, -0.347469  , -0.53972456, -0.20742152,\n",
       "       -0.70976593, -0.75452424, -0.86211446, -0.7719475 , -0.20293546,\n",
       "       -0.32071846, -0.25842605, -0.11266329, -0.95310712, -0.33666363,\n",
       "       -0.82655639, -0.66472885, -0.69030202, -0.07806848, -0.85607032,\n",
       "       -0.67706293, -0.62046086, -0.84780487, -0.79807976, -0.6871119 ,\n",
       "       -0.21102193, -0.33766685, -0.4216489 , -0.22239129, -0.74555463,\n",
       "       -0.30056014, -0.87807231, -0.5732458 , -0.2690945 , -0.22249217,\n",
       "       -0.53186087, -0.01566472, -0.38810484, -0.19783403, -0.83210441,\n",
       "       -0.55712667, -0.18702906, -0.5331    , -0.66590453, -0.85053213,\n",
       "       -0.70433818, -0.37499514, -0.26427222, -0.83591825, -0.329016  ,\n",
       "       -0.29674444, -0.38257177, -0.43178654, -0.29649428, -0.28002939,\n",
       "       -0.9442761 , -0.15463821, -0.46868367, -0.67762789, -0.31291797,\n",
       "       -0.02767834, -0.79039782, -0.71339431, -0.16735185, -0.81504157,\n",
       "       -0.80203418, -0.56137572, -0.88996999, -0.22608822, -0.7667773 ,\n",
       "       -0.32358963, -0.86373142, -0.73551397, -0.17141523, -0.34336097,\n",
       "       -0.10104654, -0.51604949, -0.2267948 , -0.05411267, -0.50248021,\n",
       "       -0.81564302, -0.44232434, -0.99592201, -0.48520661, -0.35240048,\n",
       "       -0.03639346, -0.56511856, -0.92936362, -0.14331273, -0.2446963 ,\n",
       "       -0.19182828, -0.45122367, -0.19765125, -0.03943094, -0.39144985,\n",
       "       -0.70278742, -0.0242054 , -0.80963802, -0.41202008, -0.45706589,\n",
       "       -0.41008158, -0.87484642, -0.56410092, -0.99281794, -0.76939773,\n",
       "       -0.61578158, -0.61080544, -0.33198433, -0.5460453 , -0.30230506,\n",
       "       -0.59972921, -0.40114465, -0.77986877, -0.20713091, -0.84113512,\n",
       "       -0.30935801, -0.16346388, -0.44535017, -0.83616371, -0.00588949,\n",
       "       -0.7952396 , -0.78800634, -0.1681529 , -0.09854453, -0.33132762,\n",
       "       -0.18036765, -0.81012496, -0.99771637, -0.52886223, -0.30785184,\n",
       "       -0.73940657, -0.70947096, -0.38135104, -0.67091969, -0.53070919,\n",
       "       -0.41136454, -0.47851253, -0.54128419, -0.10576769, -0.27549125,\n",
       "       -0.45676843, -0.33214179, -0.83295734, -0.41339173, -0.3188412 ,\n",
       "       -0.19422776, -0.14414295, -0.30548276, -0.54508901, -0.40401866,\n",
       "       -0.10391486, -0.80303912, -0.58752209, -0.74927827, -0.61573658,\n",
       "       -0.42085259, -0.90632779, -0.60159616, -0.10798093, -0.88279093,\n",
       "       -0.05496967, -0.41423631, -0.98310082, -0.26783635, -0.59860801,\n",
       "       -0.4930918 , -0.27288043, -0.3333969 , -0.02948343, -0.50135722,\n",
       "       -0.43749536, -0.8597427 , -0.70372397, -0.05444703, -0.37884898,\n",
       "       -0.30825114, -0.90291138, -0.73833404, -0.515236  , -0.23875983,\n",
       "       -0.33583686, -0.41610047, -0.09217084, -0.46891613, -0.44473107,\n",
       "       -0.02511491, -0.38066675, -0.74307635, -0.88312565, -0.77697525,\n",
       "       -0.45383815, -0.35236474, -0.3803251 , -0.31812906, -0.2473181 ,\n",
       "       -0.08458657, -0.39036278, -0.38047332, -0.85460756, -0.71383929,\n",
       "       -0.42867793, -0.28388353, -0.02572012, -0.90673725, -0.63944286,\n",
       "       -0.6727115 , -0.6464113 , -0.68707653, -0.89036906, -0.71281366,\n",
       "       -0.33589432, -0.50233667, -0.19485621, -0.13575515, -0.01938808,\n",
       "       -0.25208269, -0.64177941, -0.05564296, -0.90977549, -0.89856778])"
      ]
     },
     "execution_count": 44,
     "metadata": {},
     "output_type": "execute_result"
    }
   ],
   "source": [
    "u = np.random.uniform(-1,0,1000)\n",
    "u"
   ]
  },
  {
   "cell_type": "code",
   "execution_count": 45,
   "metadata": {},
   "outputs": [
    {
     "data": {
      "text/plain": [
       "(array([ 98., 106., 112.,  93.,  99., 106., 119.,  91.,  88.,  88.]),\n",
       " array([-0.99956058, -0.89979138, -0.80002219, -0.700253  , -0.6004838 ,\n",
       "        -0.50071461, -0.40094542, -0.30117622, -0.20140703, -0.10163784,\n",
       "        -0.00186864]),\n",
       " <a list of 10 Patch objects>)"
      ]
     },
     "execution_count": 45,
     "metadata": {},
     "output_type": "execute_result"
    },
    {
     "data": {
      "image/png": "[encoded data removed]",
      "text/plain": [
       "<Figure size 432x288 with 1 Axes>"
      ]
     },
     "metadata": {
      "needs_background": "light"
     },
     "output_type": "display_data"
    }
   ],
   "source": [
    "plt.hist(u)"
   ]
  },
  {
   "cell_type": "code",
   "execution_count": 46,
   "metadata": {},
   "outputs": [
    {
     "name": "stderr",
     "output_type": "stream",
     "text": [
      "C:\\ProgrammingApps\\Anaconda3\\lib\\site-packages\\matplotlib\\axes\\_axes.py:6521: MatplotlibDeprecationWarning: \n",
      "The 'normed' kwarg was deprecated in Matplotlib 2.1 and will be removed in 3.1. Use 'density' instead.\n",
      "  alternative=\"'density'\", removal=\"3.1\")\n"
     ]
    },
    {
     "data": {
      "text/plain": [
       "[<matplotlib.lines.Line2D at 0x1c3bd597940>]"
      ]
     },
     "execution_count": 46,
     "metadata": {},
     "output_type": "execute_result"
    },
    {
     "data": {
      "image/png": "[encoded data removed]",
      "text/plain": [
       "<Figure size 432x288 with 1 Axes>"
      ]
     },
     "metadata": {
      "needs_background": "light"
     },
     "output_type": "display_data"
    }
   ],
   "source": [
    "count, bins, ignored = plt.hist(u, 15, normed=True)\n",
    "plt.plot(bins, np.ones_like(bins), linewidth=2, color='r')"
   ]
  },
  {
   "cell_type": "code",
   "execution_count": null,
   "metadata": {},
   "outputs": [],
   "source": []
  },
  {
   "cell_type": "markdown",
   "metadata": {},
   "source": [
    "## 3. numpy.random.binomial(n, p, size=None)"
   ]
  },
  {
   "cell_type": "markdown",
   "metadata": {},
   "source": [
    "A Binomial distribution can be thought of as the of the success or failure outcome that is repeated multiple times\n",
    "\n",
    "The distribution has two possible outcomes, An example of this would be like flipping a coin\n",
    "\n",
    "n is the number of times its is to be repeated\n",
    "\n",
    "p is the probability"
   ]
  },
  {
   "cell_type": "code",
   "execution_count": 47,
   "metadata": {},
   "outputs": [
    {
     "data": {
      "text/plain": [
       "array([6, 6, 5, 2, 5, 5, 7, 7, 6, 4, 5, 3, 4, 4, 3, 5, 7, 6, 4, 6, 4, 1,\n",
       "       7, 5, 6, 3, 5, 5, 5, 5, 7, 5, 5, 7, 6, 7, 5, 4, 2, 7, 6, 4, 5, 4,\n",
       "       4, 4, 5, 7, 4, 3, 3, 5, 5, 5, 6, 5, 4, 4, 6, 3, 4, 4, 4, 4, 3, 6,\n",
       "       4, 6, 7, 6, 2, 5, 3, 6, 3, 6, 6, 6, 4, 4, 3, 6, 4, 3, 7, 6, 5, 5,\n",
       "       4, 3, 8, 5, 7, 5, 4, 5, 5, 5, 6, 4])"
      ]
     },
     "execution_count": 47,
     "metadata": {},
     "output_type": "execute_result"
    }
   ],
   "source": [
    "n = 10\n",
    "p = 0.5\n",
    "b= np.random.binomial(n,p,100)\n",
    "b"
   ]
  },
  {
   "cell_type": "code",
   "execution_count": 48,
   "metadata": {},
   "outputs": [
    {
     "data": {
      "text/plain": [
       "<matplotlib.axes._subplots.AxesSubplot at 0x1c3bd6b7cf8>"
      ]
     },
     "execution_count": 48,
     "metadata": {},
     "output_type": "execute_result"
    },
    {
     "data": {
      "image/png": "[encoded data removed]",
      "text/plain": [
       "<Figure size 432x288 with 1 Axes>"
      ]
     },
     "metadata": {
      "needs_background": "light"
     },
     "output_type": "display_data"
    }
   ],
   "source": [
    "sns.distplot(b)"
   ]
  },
  {
   "cell_type": "markdown",
   "metadata": {},
   "source": [
    "The above test was flipping a coin 10 times with a 50/50 chance of heads or tails\n",
    "This was tested 100 times"
   ]
  },
  {
   "cell_type": "markdown",
   "metadata": {},
   "source": [
    "## 3. numpy.random.triangular(left, mode, right, size=None)\n",
    "\n",
    "left : float or array_like of floats\n",
    "\n",
    "mode : float or array_like of floats\n",
    "\n",
    "right : float or array_like of floats\n",
    "\n",
    "size : int or tuple of ints, optional"
   ]
  },
  {
   "cell_type": "code",
   "execution_count": 59,
   "metadata": {},
   "outputs": [
    {
     "data": {
      "text/plain": [
       "(array([ 15.,  50.,  76.,  92., 135., 144., 181., 242., 271., 304., 346.,\n",
       "        373., 368., 416., 429., 458., 491., 529., 578., 574., 605., 638.,\n",
       "        639., 637., 633., 583., 581., 563., 558., 550., 515., 488., 445.,\n",
       "        441., 453., 454., 404., 400., 398., 382., 350., 330., 308., 275.,\n",
       "        258., 259., 229., 234., 198., 205., 162., 161., 148., 118.,  90.,\n",
       "         84.,  69.,  36.,  26.,  21.]),\n",
       " array([2.30417616, 2.35888021, 2.41358425, 2.4682883 , 2.52299235,\n",
       "        2.5776964 , 2.63240044, 2.68710449, 2.74180854, 2.79651259,\n",
       "        2.85121663, 2.90592068, 2.96062473, 3.01532878, 3.07003283,\n",
       "        3.12473687, 3.17944092, 3.23414497, 3.28884902, 3.34355306,\n",
       "        3.39825711, 3.45296116, 3.50766521, 3.56236925, 3.6170733 ,\n",
       "        3.67177735, 3.7264814 , 3.78118544, 3.83588949, 3.89059354,\n",
       "        3.94529759, 4.00000164, 4.05470568, 4.10940973, 4.16411378,\n",
       "        4.21881783, 4.27352187, 4.32822592, 4.38292997, 4.43763402,\n",
       "        4.49233806, 4.54704211, 4.60174616, 4.65645021, 4.71115425,\n",
       "        4.7658583 , 4.82056235, 4.8752664 , 4.92997045, 4.98467449,\n",
       "        5.03937854, 5.09408259, 5.14878664, 5.20349068, 5.25819473,\n",
       "        5.31289878, 5.36760283, 5.42230687, 5.47701092, 5.53171497,\n",
       "        5.58641902]),\n",
       " <a list of 60 Patch objects>)"
      ]
     },
     "execution_count": 59,
     "metadata": {},
     "output_type": "execute_result"
    },
    {
     "data": {
      "image/png": "[encoded data removed]",
      "text/plain": [
       "<Figure size 432x288 with 1 Axes>"
      ]
     },
     "metadata": {
      "needs_background": "light"
     },
     "output_type": "display_data"
    }
   ],
   "source": [
    "l = 2.3 # left position\n",
    "m = 3.5 # mode (being the peak location of the triangle)\n",
    "r = 5.6 # Right position of the triangle\n",
    "size = 20000 #the larger the size the more accurate the triangle will be\n",
    "\n",
    "t = np.random.triangular(l,m,r,size)\n",
    "plt.hist(t,bins = 60)"
   ]
  }
 ],
 "metadata": {
  "kernelspec": {
   "display_name": "Python 3",
   "language": "python",
   "name": "python3"
  },
  "language_info": {
   "codemirror_mode": {
    "name": "ipython",
    "version": 3
   },
   "file_extension": ".py",
   "mimetype": "text/x-python",
   "name": "python",
   "nbconvert_exporter": "python",
   "pygments_lexer": "ipython3",
   "version": "3.7.1"
  }
 },
 "nbformat": 4,
 "nbformat_minor": 2
}
