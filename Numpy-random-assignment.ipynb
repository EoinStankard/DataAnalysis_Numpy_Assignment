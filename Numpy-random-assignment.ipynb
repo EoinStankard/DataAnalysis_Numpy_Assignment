{
 "cells": [
  {
   "cell_type": "markdown",
   "metadata": {},
   "source": [
    "# <span style='background :yellow' > Programming for Data Analysis Assignment </span>\n",
    "\n",
    "### Assignment Outlines\n",
    "The following assignment concerns the numpy.random package in Python \n",
    "1. Explain the overall purpose of the package. \n",
    "2. Explain the use of the “Simple random data” and “Permutations” functions. \n",
    "3. Explain the use and purpose of at least ﬁve “Distributions” functions. \n",
    "4. Explain the use of seeds in generating pseudorandom numbers.\n",
    "\n",
    "### The numpy.random package"
   ]
  },
  {
   "cell_type": "markdown",
   "metadata": {},
   "source": [
    "The numpy.random package is a sub package of numpy. NumPy is the fundamental package for scientific computing in Python. It is a Python library that provides a multidimensional array object, various derived objects (such as masked arrays and matrices), and an assortment of routines for fast operations on arrays, including mathematical, logical, shape manipulation, sorting, selecting, I/O, discrete Fourier transforms, basic linear algebra, basic statistical operations, random simulation and much more.\n",
    "\n",
    "There are four different sections to the numpy.random package\n",
    "1. Simple random Data\n",
    "\n",
    "Simple random data is used for the basic functions of the package such as generate a random integer between 1 and 10, or generate an array of 2 rows and 2 columns and fill it will random numbers between 0-1\n",
    "There are assumptions based on the numbers that are generated.\n",
    "\n",
    "2. Permutations\n",
    "\n",
    "This section only contains two functions and they are both similar as they both shuffle or rearrange the number or numbers they are given\n",
    "\n",
    "3. Distributions\n",
    "\n",
    "The distributions section is the largest section of the four and they are all different probability distributions.\n",
    "\n",
    "4. Random Generator\n",
    "\n",
    "This section you can get the seed of the random number generator, get the state and set the state."
   ]
  },
  {
   "cell_type": "markdown",
   "metadata": {},
   "source": [
    "# <font color='red'>Simple random data</font>\n",
    "\n",
    "In this section i am going to pick a few of the functions and try to explain them using plots instead of text."
   ]
  },
  {
   "cell_type": "markdown",
   "metadata": {},
   "source": [
    "## 1. rand(d0, d1, …, dn)\n",
    "\n",
    "Random values in a given shape.\n",
    "\n",
    "Rand is a function that can take unlimited inputs and returns a set of values in a given\n",
    "\n",
    "#### Parameters: \n",
    "- d0, d1, …, dn : int, optional\n",
    "\n"
   ]
  },
  {
   "cell_type": "code",
   "execution_count": 1,
   "metadata": {},
   "outputs": [],
   "source": [
    "import numpy as np\n",
    "import matplotlib.pyplot as plt\n",
    "import seaborn as sns"
   ]
  },
  {
   "cell_type": "code",
   "execution_count": 2,
   "metadata": {},
   "outputs": [
    {
     "data": {
      "text/plain": [
       "array([0.61128844, 0.69906771, 0.21746673, 0.53333392, 0.1146666 ,\n",
       "       0.42969281, 0.62633718, 0.40848384, 0.17432245, 0.2212952 ,\n",
       "       0.89176415, 0.79125941, 0.65348717, 0.46428019, 0.59947183,\n",
       "       0.16881951, 0.10948474, 0.89565063, 0.60117848, 0.88741786,\n",
       "       0.19159611, 0.20765088, 0.81615753, 0.50830089, 0.60488079,\n",
       "       0.96519936, 0.06665168, 0.75665191, 0.68458039, 0.97927982,\n",
       "       0.99918998, 0.15211946, 0.04599179, 0.63779741, 0.92715799,\n",
       "       0.8245453 , 0.31192092, 0.77970995, 0.72115095, 0.95521149,\n",
       "       0.74233228, 0.36537334, 0.49478148, 0.25035161, 0.30688744,\n",
       "       0.83314033, 0.93806176, 0.84932686, 0.60355787, 0.21499793])"
      ]
     },
     "execution_count": 2,
     "metadata": {},
     "output_type": "execute_result"
    }
   ],
   "source": [
    "x = np.random.rand(50)\n",
    "x"
   ]
  },
  {
   "cell_type": "code",
   "execution_count": 3,
   "metadata": {},
   "outputs": [
    {
     "data": {
      "text/plain": [
       "(array([4., 8., 3., 2., 4., 6., 5., 5., 7., 6.]),\n",
       " array([0.04599179, 0.14131161, 0.23663143, 0.33195125, 0.42727107,\n",
       "        0.52259089, 0.61791071, 0.71323053, 0.80855035, 0.90387017,\n",
       "        0.99918998]),\n",
       " <a list of 10 Patch objects>)"
      ]
     },
     "execution_count": 3,
     "metadata": {},
     "output_type": "execute_result"
    },
    {
     "data": {
      "image/png": "[encoded data removed]",
      "text/plain": [
       "<Figure size 432x288 with 1 Axes>"
      ]
     },
     "metadata": {
      "needs_background": "light"
     },
     "output_type": "display_data"
    }
   ],
   "source": [
    "plt.hist(x)"
   ]
  },
  {
   "cell_type": "markdown",
   "metadata": {},
   "source": [
    "Most basic is to see what happens when we send a single value into the function, and as send above when 10 is entered it returns an array of 10 random numbers between 0-1"
   ]
  },
  {
   "cell_type": "code",
   "execution_count": 4,
   "metadata": {},
   "outputs": [
    {
     "data": {
      "text/plain": [
       "array([0.61128844, 0.69906771, 0.21746673, 0.53333392, 0.1146666 ,\n",
       "       0.42969281, 0.62633718, 0.40848384, 0.17432245, 0.2212952 ,\n",
       "       0.89176415, 0.79125941, 0.65348717, 0.46428019, 0.59947183,\n",
       "       0.16881951, 0.10948474, 0.89565063, 0.60117848, 0.88741786,\n",
       "       0.19159611, 0.20765088, 0.81615753, 0.50830089, 0.60488079,\n",
       "       0.96519936, 0.06665168, 0.75665191, 0.68458039, 0.97927982,\n",
       "       0.99918998, 0.15211946, 0.04599179, 0.63779741, 0.92715799,\n",
       "       0.8245453 , 0.31192092, 0.77970995, 0.72115095, 0.95521149,\n",
       "       0.74233228, 0.36537334, 0.49478148, 0.25035161, 0.30688744,\n",
       "       0.83314033, 0.93806176, 0.84932686, 0.60355787, 0.21499793])"
      ]
     },
     "execution_count": 4,
     "metadata": {},
     "output_type": "execute_result"
    }
   ],
   "source": [
    "x1 = np.random.rand(3,3)\n",
    "x"
   ]
  },
  {
   "cell_type": "code",
   "execution_count": 5,
   "metadata": {},
   "outputs": [
    {
     "data": {
      "text/plain": [
       "([array([0., 0., 0., 0., 1., 0., 0., 0., 0., 2.]),\n",
       "  array([2., 0., 0., 0., 0., 0., 0., 0., 0., 1.]),\n",
       "  array([1., 0., 0., 0., 0., 0., 0., 0., 1., 1.])],\n",
       " array([0.06180925, 0.12918646, 0.19656367, 0.26394088, 0.33131809,\n",
       "        0.3986953 , 0.46607251, 0.53344972, 0.60082693, 0.66820414,\n",
       "        0.73558135]),\n",
       " <a list of 3 Lists of Patches objects>)"
      ]
     },
     "execution_count": 5,
     "metadata": {},
     "output_type": "execute_result"
    },
    {
     "data": {
      "image/png": "[encoded data removed]",
      "text/plain": [
       "<Figure size 432x288 with 1 Axes>"
      ]
     },
     "metadata": {
      "needs_background": "light"
     },
     "output_type": "display_data"
    }
   ],
   "source": [
    "plt.hist(x1)"
   ]
  },
  {
   "cell_type": "markdown",
   "metadata": {},
   "source": [
    "Two input values then shows an array with two sets of arrays with three values between 0-1"
   ]
  },
  {
   "cell_type": "code",
   "execution_count": 6,
   "metadata": {},
   "outputs": [],
   "source": [
    "x3 = np.random.rand(1,3,2,5)"
   ]
  },
  {
   "cell_type": "markdown",
   "metadata": {},
   "source": [
    "A four input rand function shows an array with Three sets of random numbers and in each one of them sets is two more sets containing five random numbers between 0-1"
   ]
  },
  {
   "cell_type": "code",
   "execution_count": 7,
   "metadata": {},
   "outputs": [
    {
     "data": {
      "text/plain": [
       "array([[[[0.12954835, 0.08877516, 0.57735188, 0.90271744, 0.70881391],\n",
       "         [0.69204721, 0.89084974, 0.38086522, 0.0597443 , 0.62849187]],\n",
       "\n",
       "        [[0.33100168, 0.13506312, 0.25559391, 0.02176187, 0.67469379],\n",
       "         [0.13985507, 0.55790761, 0.93674251, 0.93665695, 0.67042653]],\n",
       "\n",
       "        [[0.75140257, 0.72686977, 0.42467109, 0.50994947, 0.45572442],\n",
       "         [0.55140111, 0.02791616, 0.73673014, 0.27107082, 0.95542081]]],\n",
       "\n",
       "\n",
       "       [[[0.86701225, 0.78022566, 0.63015992, 0.2755265 , 0.17910512],\n",
       "         [0.01843603, 0.64591784, 0.12089763, 0.23307161, 0.88164121]],\n",
       "\n",
       "        [[0.13163663, 0.18990759, 0.42578018, 0.82993848, 0.72438446],\n",
       "         [0.86172785, 0.07827991, 0.8004764 , 0.961027  , 0.53803574]],\n",
       "\n",
       "        [[0.59118692, 0.64964322, 0.85776534, 0.76520096, 0.70639026],\n",
       "         [0.57065033, 0.56435779, 0.04749625, 0.36243154, 0.99736628]]]])"
      ]
     },
     "execution_count": 7,
     "metadata": {},
     "output_type": "execute_result"
    }
   ],
   "source": [
    "np.random.rand(2,3,2,5)"
   ]
  },
  {
   "cell_type": "markdown",
   "metadata": {},
   "source": [
    "A four input random array with similar input values apart from the first where the first value is a 2. This shows a single array with two sets of arrays that contains two sets with five random values between 0-1."
   ]
  },
  {
   "cell_type": "code",
   "execution_count": 8,
   "metadata": {},
   "outputs": [
    {
     "data": {
      "text/plain": [
       "array([], dtype=float64)"
      ]
     },
     "execution_count": 8,
     "metadata": {},
     "output_type": "execute_result"
    }
   ],
   "source": [
    "np.random.rand(0)"
   ]
  },
  {
   "cell_type": "code",
   "execution_count": 9,
   "metadata": {},
   "outputs": [
    {
     "data": {
      "text/plain": [
       "0.13692455822367766"
      ]
     },
     "execution_count": 9,
     "metadata": {},
     "output_type": "execute_result"
    }
   ],
   "source": [
    "np.random.rand()"
   ]
  },
  {
   "cell_type": "markdown",
   "metadata": {},
   "source": [
    "##### Conclusion on rand() function\n",
    "From Looking at the numpy.random.rand function it appears that the last number given in the function is the amount of random numbers between 0-1 in each array, so a single number input gives that number of random numbers.\n",
    "An input value of (2,3) will give two array sets with 3 random numbers in each.\n",
    "An input of (3,2,1) will give three array sets each containing two array sets that each contain one random number,\n",
    "\n",
    "A negative number gives an ValueError\n",
    "\n",
    "An input value of 0 gives an empty array\n",
    "\n",
    "an empty function will give an output of a single random value\n",
    "\n"
   ]
  },
  {
   "cell_type": "markdown",
   "metadata": {},
   "source": [
    "## 2. numpy.random.randn(d0, d1, ..., dn)\n",
    "\n",
    "Return a sample (or samples) from the “standard normal” distribution.\n",
    "\n",
    "#### Parameters: \n",
    "- d0, d1, …, dn : int, optional"
   ]
  },
  {
   "cell_type": "code",
   "execution_count": 10,
   "metadata": {},
   "outputs": [
    {
     "data": {
      "text/plain": [
       "array([-2.05805832, -0.07097613,  0.4606043 ,  0.49791488,  0.68242958,\n",
       "       -0.10043124, -0.88084087, -2.2137881 ,  1.96375555, -1.25342879])"
      ]
     },
     "execution_count": 10,
     "metadata": {},
     "output_type": "execute_result"
    }
   ],
   "source": [
    "n = np.random.randn(10)\n",
    "n"
   ]
  },
  {
   "cell_type": "code",
   "execution_count": 11,
   "metadata": {},
   "outputs": [
    {
     "data": {
      "text/plain": [
       "(array([2., 0., 1., 1., 0., 2., 3., 0., 0., 1.]),\n",
       " array([-2.2137881 , -1.79603373, -1.37827937, -0.960525  , -0.54277064,\n",
       "        -0.12501627,  0.29273809,  0.71049246,  1.12824682,  1.54600119,\n",
       "         1.96375555]),\n",
       " <a list of 10 Patch objects>)"
      ]
     },
     "execution_count": 11,
     "metadata": {},
     "output_type": "execute_result"
    },
    {
     "data": {
      "image/png": "[encoded data removed]",
      "text/plain": [
       "<Figure size 432x288 with 1 Axes>"
      ]
     },
     "metadata": {
      "needs_background": "light"
     },
     "output_type": "display_data"
    }
   ],
   "source": [
    "plt.hist(n)"
   ]
  },
  {
   "cell_type": "code",
   "execution_count": 12,
   "metadata": {},
   "outputs": [
    {
     "data": {
      "text/plain": [
       "array([], dtype=float64)"
      ]
     },
     "execution_count": 12,
     "metadata": {},
     "output_type": "execute_result"
    }
   ],
   "source": [
    "np.random.randn(0)"
   ]
  },
  {
   "cell_type": "markdown",
   "metadata": {},
   "source": [
    "dtype=float64 is the return type of the function"
   ]
  },
  {
   "cell_type": "code",
   "execution_count": 13,
   "metadata": {},
   "outputs": [
    {
     "data": {
      "text/plain": [
       "array([[[ 0.16888804],\n",
       "        [-2.18944298]],\n",
       "\n",
       "       [[ 1.67973871],\n",
       "        [-0.03883832]],\n",
       "\n",
       "       [[-0.12544261],\n",
       "        [ 1.96084423]]])"
      ]
     },
     "execution_count": 13,
     "metadata": {},
     "output_type": "execute_result"
    }
   ],
   "source": [
    "np.random.randn(3,2,1)"
   ]
  },
  {
   "cell_type": "code",
   "execution_count": 14,
   "metadata": {},
   "outputs": [
    {
     "data": {
      "text/plain": [
       "array([[[9.35935837, 8.37309132, 7.51151567, 7.24863851, 7.76952069],\n",
       "        [6.87250752, 7.54857575, 8.54279326, 8.34609224, 6.93687079],\n",
       "        [7.20150863, 8.53009964, 8.59056484, 9.68929863, 6.72018932]],\n",
       "\n",
       "       [[6.79952061, 8.95479345, 6.18425789, 6.36163922, 8.65291318],\n",
       "        [8.64469775, 7.45992067, 8.3830459 , 6.74845581, 9.17542467],\n",
       "        [7.44082671, 9.18686942, 7.01785656, 9.54275206, 7.88251726]],\n",
       "\n",
       "       [[9.19662109, 8.12620468, 7.22836285, 8.53812848, 8.71684345],\n",
       "        [8.44611928, 8.09639474, 7.72259894, 8.21815613, 8.57411721],\n",
       "        [7.01865544, 8.65680583, 7.83575338, 7.38280348, 7.83066723]]])"
      ]
     },
     "execution_count": 14,
     "metadata": {},
     "output_type": "execute_result"
    }
   ],
   "source": [
    "np.random.randn(3,3,5)+4*2"
   ]
  },
  {
   "cell_type": "markdown",
   "metadata": {},
   "source": [
    "#### Conclusion on the randn() function\n",
    "\n",
    "From running some tests on the randn() function it is clear that it had the same functionality as the rand() function but it gives random number both positive and negative\n",
    "\n",
    "A positive number has to be input into the function, If a negative number is input a valueError is thrown"
   ]
  },
  {
   "cell_type": "markdown",
   "metadata": {},
   "source": [
    "-------------------------------------------------------------------------------------------------------------------------------\n",
    "## 3. numpy.random.randint(low, high=None, size=None, dtype='l')"
   ]
  },
  {
   "cell_type": "markdown",
   "metadata": {},
   "source": [
    "Return random integers from low (inclusive) to high (exclusive).\n",
    "\n",
    "Return random integers from the “discrete uniform” distribution of the specified dtype in the “half-open” interval (low, high). If high is None (the default), then results are from (0, low)\n",
    "\n",
    "#### Parameters:\n",
    "\n",
    "- low : int\n",
    "- high : int, optional\n",
    "- size : int or tuple of ints, optional\n",
    "- dtype : dtype, optional"
   ]
  },
  {
   "cell_type": "code",
   "execution_count": 15,
   "metadata": {},
   "outputs": [
    {
     "data": {
      "text/plain": [
       "3"
      ]
     },
     "execution_count": 15,
     "metadata": {},
     "output_type": "execute_result"
    }
   ],
   "source": [
    "#prints a random number between 0-10 as 10 is the max in the situation\n",
    "np.random.randint(10)"
   ]
  },
  {
   "cell_type": "code",
   "execution_count": 16,
   "metadata": {},
   "outputs": [
    {
     "data": {
      "text/plain": [
       "6"
      ]
     },
     "execution_count": 16,
     "metadata": {},
     "output_type": "execute_result"
    }
   ],
   "source": [
    "#prints a random number with a low of 3 and a high of 7\n",
    "np.random.randint(3,7)"
   ]
  },
  {
   "cell_type": "code",
   "execution_count": 17,
   "metadata": {},
   "outputs": [
    {
     "data": {
      "text/plain": [
       "array([[[0],\n",
       "        [0]],\n",
       "\n",
       "       [[2],\n",
       "        [0]],\n",
       "\n",
       "       [[0],\n",
       "        [2]]])"
      ]
     },
     "execution_count": 17,
     "metadata": {},
     "output_type": "execute_result"
    }
   ],
   "source": [
    "#prints a 3 dimensional array with a high value of 3\n",
    "np.random.randint(3,size=(3,2,1))"
   ]
  },
  {
   "cell_type": "code",
   "execution_count": 18,
   "metadata": {},
   "outputs": [
    {
     "data": {
      "text/plain": [
       "array([[[4],\n",
       "        [6]],\n",
       "\n",
       "       [[6],\n",
       "        [3]],\n",
       "\n",
       "       [[5],\n",
       "        [6]]])"
      ]
     },
     "execution_count": 18,
     "metadata": {},
     "output_type": "execute_result"
    }
   ],
   "source": [
    "#A three dimensional array with a low of 3 and a high of 7 so array values have to be between 3 and including 6\n",
    "np.random.randint(3,7,size=(3,2,1))"
   ]
  },
  {
   "cell_type": "code",
   "execution_count": 19,
   "metadata": {},
   "outputs": [
    {
     "data": {
      "text/plain": [
       "array([[[5],\n",
       "        [3]],\n",
       "\n",
       "       [[3],\n",
       "        [4]],\n",
       "\n",
       "       [[4],\n",
       "        [3]]])"
      ]
     },
     "execution_count": 19,
     "metadata": {},
     "output_type": "execute_result"
    }
   ],
   "source": [
    "np.random.randint(3,7,size=(3,2,1),dtype='i')"
   ]
  },
  {
   "cell_type": "markdown",
   "metadata": {},
   "source": [
    "### Conclusion on the randint() function\n",
    "\n",
    "Lets you pick the low and high range of values that is output, Out put shape can also be input,\n",
    "the dtype can be input if you want values greater than 65535, so if you want values greater that that you can set the dtype to 'int64', 'f' will not be accepted and cause an error as that is an unsupported type float\n",
    "\n",
    "A valueError is thrown if the first value(low) is greater than the second value(high) for example randint(7,4)"
   ]
  },
  {
   "cell_type": "markdown",
   "metadata": {},
   "source": [
    "## 4. numpy.random.sample(size=None)\n",
    "Return random floats in the half-open interval [0.0, 1.0).\n",
    "\n",
    "Results are from the “continuous uniform” distribution over the stated interval. To sample Unif(a, b), b > a multiply the output of random_sample by (b-a) and add a:\n",
    "<img src=\"SampleFunct.png\">\n",
    "\n",
    "#### Parameters: \n",
    "- size : int or tuple of ints, optional"
   ]
  },
  {
   "cell_type": "code",
   "execution_count": 20,
   "metadata": {},
   "outputs": [
    {
     "data": {
      "text/plain": [
       "0.9099925379801461"
      ]
     },
     "execution_count": 20,
     "metadata": {},
     "output_type": "execute_result"
    }
   ],
   "source": [
    "np.random.sample()"
   ]
  },
  {
   "cell_type": "code",
   "execution_count": 21,
   "metadata": {},
   "outputs": [
    {
     "data": {
      "text/plain": [
       "array([0.64416375, 0.2902874 , 0.02368488, 0.00673566, 0.29395387,\n",
       "       0.16049465, 0.54716947, 0.99123097, 0.22824427, 0.55752393])"
      ]
     },
     "execution_count": 21,
     "metadata": {},
     "output_type": "execute_result"
    }
   ],
   "source": [
    "np.random.sample(10)"
   ]
  },
  {
   "cell_type": "code",
   "execution_count": 22,
   "metadata": {},
   "outputs": [
    {
     "data": {
      "text/plain": [
       "array([[0.48976826, 0.46816195],\n",
       "       [0.00150107, 0.8945458 ],\n",
       "       [0.15448446, 0.36665748],\n",
       "       [0.20833974, 0.34869078],\n",
       "       [0.24203223, 0.06973707],\n",
       "       [0.46287458, 0.58977911],\n",
       "       [0.56783476, 0.05027873],\n",
       "       [0.44375998, 0.3908037 ],\n",
       "       [0.11693039, 0.10457435],\n",
       "       [0.53388714, 0.26626311]])"
      ]
     },
     "execution_count": 22,
     "metadata": {},
     "output_type": "execute_result"
    }
   ],
   "source": [
    "#np.random.sample(10,2) Gives an error as only a single value is expected\n",
    "s=np.random.sample((10,2))\n",
    "s"
   ]
  },
  {
   "cell_type": "code",
   "execution_count": 23,
   "metadata": {},
   "outputs": [
    {
     "data": {
      "text/plain": [
       "([array([1., 2., 2., 0., 1., 3., 1., 0., 0., 0.]),\n",
       "  array([2., 1., 1., 1., 2., 1., 1., 0., 0., 1.])],\n",
       " array([0.00150107, 0.09080554, 0.18011002, 0.26941449, 0.35871896,\n",
       "        0.44802344, 0.53732791, 0.62663238, 0.71593686, 0.80524133,\n",
       "        0.8945458 ]),\n",
       " <a list of 2 Lists of Patches objects>)"
      ]
     },
     "execution_count": 23,
     "metadata": {},
     "output_type": "execute_result"
    },
    {
     "data": {
      "image/png": "[encoded data removed]",
      "text/plain": [
       "<Figure size 432x288 with 1 Axes>"
      ]
     },
     "metadata": {
      "needs_background": "light"
     },
     "output_type": "display_data"
    }
   ],
   "source": [
    "plt.hist(s)"
   ]
  },
  {
   "cell_type": "markdown",
   "metadata": {},
   "source": [
    "From the test above we can see that all 20 values are between 0.0 and 1.0, so for a default input we can take it that 0-1 is the range of values"
   ]
  },
  {
   "cell_type": "code",
   "execution_count": 24,
   "metadata": {},
   "outputs": [
    {
     "data": {
      "text/plain": [
       "array([3.02745857, 3.77443573, 3.53170622, 3.22422719, 3.91391899,\n",
       "       3.57016998])"
      ]
     },
     "execution_count": 24,
     "metadata": {},
     "output_type": "execute_result"
    }
   ],
   "source": [
    "np.random.sample(6)+3"
   ]
  },
  {
   "cell_type": "markdown",
   "metadata": {},
   "source": [
    "A Error is not thrown when we add on a integer, so when we add on three the new values will be between 3.0 and 4.0"
   ]
  },
  {
   "cell_type": "code",
   "execution_count": 25,
   "metadata": {},
   "outputs": [
    {
     "data": {
      "text/plain": [
       "array([[0.52983307, 0.17430786],\n",
       "       [0.36286157, 0.66205764],\n",
       "       [0.96852266, 0.21238739],\n",
       "       [0.27043911, 0.53765879],\n",
       "       [0.32048624, 0.20331889]])"
      ]
     },
     "execution_count": 25,
     "metadata": {},
     "output_type": "execute_result"
    }
   ],
   "source": [
    "a = np.random.sample((5,2))\n",
    "a"
   ]
  },
  {
   "cell_type": "code",
   "execution_count": 26,
   "metadata": {},
   "outputs": [
    {
     "data": {
      "text/plain": [
       "array([[2.64916536, 0.87153929],\n",
       "       [1.81430787, 3.31028822],\n",
       "       [4.8426133 , 1.06193695],\n",
       "       [1.35219555, 2.68829394],\n",
       "       [1.6024312 , 1.01659445]])"
      ]
     },
     "execution_count": 26,
     "metadata": {},
     "output_type": "execute_result"
    }
   ],
   "source": [
    "5*a"
   ]
  },
  {
   "cell_type": "code",
   "execution_count": 27,
   "metadata": {},
   "outputs": [
    {
     "data": {
      "text/plain": [
       "array([[-2.35083464, -4.12846071],\n",
       "       [-3.18569213, -1.68971178],\n",
       "       [-0.1573867 , -3.93806305],\n",
       "       [-3.64780445, -2.31170606],\n",
       "       [-3.3975688 , -3.98340555]])"
      ]
     },
     "execution_count": 27,
     "metadata": {},
     "output_type": "execute_result"
    }
   ],
   "source": [
    "s1 = 5*a-5\n",
    "s1"
   ]
  },
  {
   "cell_type": "code",
   "execution_count": 28,
   "metadata": {},
   "outputs": [
    {
     "data": {
      "text/plain": [
       "([array([0., 2., 1., 0., 1., 0., 0., 0., 0., 1.]),\n",
       "  array([3., 0., 0., 0., 1., 0., 1., 0., 0., 0.])],\n",
       " array([-4.12846071, -3.73135331, -3.33424591, -2.93713851, -2.5400311 ,\n",
       "        -2.1429237 , -1.7458163 , -1.3487089 , -0.9516015 , -0.5544941 ,\n",
       "        -0.1573867 ]),\n",
       " <a list of 2 Lists of Patches objects>)"
      ]
     },
     "execution_count": 28,
     "metadata": {},
     "output_type": "execute_result"
    },
    {
     "data": {
      "image/png": "[encoded data removed]",
      "text/plain": [
       "<Figure size 432x288 with 1 Axes>"
      ]
     },
     "metadata": {
      "needs_background": "light"
     },
     "output_type": "display_data"
    }
   ],
   "source": [
    "plt.hist(s1)"
   ]
  },
  {
   "cell_type": "markdown",
   "metadata": {},
   "source": [
    "## Conclusion on the Sample()\n",
    "\n",
    "From the above tests the sample accepts no parameter or a single parameter, It does not accept floating point numbers or negative numbers.\n",
    "All samples printed are between 0.0 and 1.0\n",
    "A shape can be input as that is a single input for example \"sample((3,2))\"\n",
    "The sample values can then be multiplied,subtracted or added to a different figure\n"
   ]
  },
  {
   "cell_type": "markdown",
   "metadata": {},
   "source": [
    "#  <font color='red'>Permutations</font>\n",
    "\n",
    "Here i will try to describe the two permutations functions\n"
   ]
  },
  {
   "cell_type": "markdown",
   "metadata": {},
   "source": [
    "## 1. numpy.random.shuffle(x)"
   ]
  },
  {
   "cell_type": "code",
   "execution_count": 29,
   "metadata": {},
   "outputs": [
    {
     "data": {
      "text/plain": [
       "array([ 0,  1,  2,  3,  4,  5,  6,  7,  8,  9, 10, 11])"
      ]
     },
     "execution_count": 29,
     "metadata": {},
     "output_type": "execute_result"
    }
   ],
   "source": [
    "x = np.arange(12)\n",
    "x"
   ]
  },
  {
   "cell_type": "code",
   "execution_count": 30,
   "metadata": {},
   "outputs": [
    {
     "data": {
      "text/plain": [
       "array([ 6, 11,  9,  0,  5,  4,  2, 10,  1,  7,  3,  8])"
      ]
     },
     "execution_count": 30,
     "metadata": {},
     "output_type": "execute_result"
    }
   ],
   "source": [
    "np.random.shuffle(x)\n",
    "x"
   ]
  },
  {
   "cell_type": "markdown",
   "metadata": {},
   "source": [
    "From the above two tests it is clear what the shuffle function does, In the first section of code the numbers are in order from 0-11 and in the second the same numbers are all shuffled"
   ]
  },
  {
   "cell_type": "code",
   "execution_count": 31,
   "metadata": {},
   "outputs": [
    {
     "data": {
      "text/plain": [
       "array([[ 0,  1,  2],\n",
       "       [ 3,  4,  5],\n",
       "       [ 6,  7,  8],\n",
       "       [ 9, 10, 11]])"
      ]
     },
     "execution_count": 31,
     "metadata": {},
     "output_type": "execute_result"
    }
   ],
   "source": [
    "y =np.arange(12).reshape((4,3))\n",
    "y"
   ]
  },
  {
   "cell_type": "code",
   "execution_count": 32,
   "metadata": {},
   "outputs": [
    {
     "data": {
      "text/plain": [
       "array([[ 6,  7,  8],\n",
       "       [ 0,  1,  2],\n",
       "       [ 3,  4,  5],\n",
       "       [ 9, 10, 11]])"
      ]
     },
     "execution_count": 32,
     "metadata": {},
     "output_type": "execute_result"
    }
   ],
   "source": [
    "np.random.shuffle(y)\n",
    "y"
   ]
  },
  {
   "cell_type": "markdown",
   "metadata": {},
   "source": [
    "From the above test using shapes as the input parameters, The sub-arrays are shuffled while the contents remain the same"
   ]
  },
  {
   "cell_type": "markdown",
   "metadata": {},
   "source": [
    "### Conclusion on the Shuffle()\n",
    "\n",
    "Shuffles the contents of an array, If there is sub arrays in that array only the sub array locations are shuffled, The values inside the sub array remain in the same position,\n",
    "\n",
    "Negative and floating point numbers cannot be input"
   ]
  },
  {
   "cell_type": "markdown",
   "metadata": {},
   "source": [
    "## 2. numpy.random.permutation(x)"
   ]
  },
  {
   "cell_type": "code",
   "execution_count": 33,
   "metadata": {},
   "outputs": [
    {
     "data": {
      "text/plain": [
       "array([ 0,  1,  2,  3,  4,  5,  6,  7,  8,  9, 10, 11])"
      ]
     },
     "execution_count": 33,
     "metadata": {},
     "output_type": "execute_result"
    }
   ],
   "source": [
    "x1 = np.arange(12)\n",
    "x1"
   ]
  },
  {
   "cell_type": "code",
   "execution_count": 34,
   "metadata": {},
   "outputs": [
    {
     "data": {
      "text/plain": [
       "array([ 5,  6,  9,  7,  8,  2, 10,  3,  1, 11,  4,  0])"
      ]
     },
     "execution_count": 34,
     "metadata": {},
     "output_type": "execute_result"
    }
   ],
   "source": [
    "np.random.permutation(x1)"
   ]
  },
  {
   "cell_type": "code",
   "execution_count": 35,
   "metadata": {},
   "outputs": [
    {
     "data": {
      "text/plain": [
       "array([[ 0,  1,  2],\n",
       "       [ 3,  4,  5],\n",
       "       [ 6,  7,  8],\n",
       "       [ 9, 10, 11]])"
      ]
     },
     "execution_count": 35,
     "metadata": {},
     "output_type": "execute_result"
    }
   ],
   "source": [
    "y1 =np.arange(12).reshape((4,3))\n",
    "y1"
   ]
  },
  {
   "cell_type": "code",
   "execution_count": 36,
   "metadata": {},
   "outputs": [
    {
     "data": {
      "text/plain": [
       "array([[ 3,  4,  5],\n",
       "       [ 6,  7,  8],\n",
       "       [ 0,  1,  2],\n",
       "       [ 9, 10, 11]])"
      ]
     },
     "execution_count": 36,
     "metadata": {},
     "output_type": "execute_result"
    }
   ],
   "source": [
    "np.random.permutation(y1)"
   ]
  },
  {
   "cell_type": "markdown",
   "metadata": {},
   "source": [
    "### Conclusion on permutation()\n",
    "\n",
    "From running the same tests that were ran on the shuffle function it is clear that the shuffle and permutation functions are the same,\n",
    "\n",
    "Both shuffle the contents of an array that is arranged from 0-10 and both shuffle the sub arrays while leaving the contents the same\n"
   ]
  },
  {
   "cell_type": "markdown",
   "metadata": {},
   "source": [
    "#  <font color='red'>Distributions</font>"
   ]
  },
  {
   "cell_type": "markdown",
   "metadata": {},
   "source": [
    "## 1. numpy.random.normal(loc=0.0, scale=1.0, size=None)¶"
   ]
  },
  {
   "cell_type": "markdown",
   "metadata": {},
   "source": [
    "What is Normal Distribution?\n",
    "Normal distribution, also known as the Gaussian distribution, is a probability distribution that is symmetric about the mean, showing that data near the mean are more frequent in occurrence than data far from the mean. In graph form, normal distribution will appear as a bell curve\n",
    "\n",
    "numpy.random.normal draws random samples from a normal distribution. It has three parameters: loc, scale and size\n",
    "\n",
    "Link: https://www.investopedia.com/terms/n/normaldistribution.asp"
   ]
  },
  {
   "cell_type": "code",
   "execution_count": 37,
   "metadata": {},
   "outputs": [
    {
     "data": {
      "text/plain": [
       "array([ 1.05938591,  0.95140529, -0.06174049, ..., -1.79180782,\n",
       "       -0.78873372, -0.52167097])"
      ]
     },
     "execution_count": 37,
     "metadata": {},
     "output_type": "execute_result"
    }
   ],
   "source": [
    "n = np.random.normal(size=2000)\n",
    "n"
   ]
  },
  {
   "cell_type": "code",
   "execution_count": 38,
   "metadata": {},
   "outputs": [
    {
     "data": {
      "text/plain": [
       "(array([  5.,  30., 127., 391., 555., 527., 269.,  77.,  17.,   2.]),\n",
       " array([-3.65243074, -2.89582596, -2.13922118, -1.3826164 , -0.62601163,\n",
       "         0.13059315,  0.88719793,  1.64380271,  2.40040749,  3.15701227,\n",
       "         3.91361705]),\n",
       " <a list of 10 Patch objects>)"
      ]
     },
     "execution_count": 38,
     "metadata": {},
     "output_type": "execute_result"
    },
    {
     "data": {
      "image/png": "[encoded data removed]",
      "text/plain": [
       "<Figure size 432x288 with 1 Axes>"
      ]
     },
     "metadata": {
      "needs_background": "light"
     },
     "output_type": "display_data"
    }
   ],
   "source": [
    "plt.hist(n)"
   ]
  },
  {
   "cell_type": "code",
   "execution_count": 39,
   "metadata": {},
   "outputs": [
    {
     "name": "stderr",
     "output_type": "stream",
     "text": [
      "C:\\ProgrammingApps\\Anaconda3\\lib\\site-packages\\scipy\\stats\\stats.py:1713: FutureWarning: Using a non-tuple sequence for multidimensional indexing is deprecated; use `arr[tuple(seq)]` instead of `arr[seq]`. In the future this will be interpreted as an array index, `arr[np.array(seq)]`, which will result either in an error or a different result.\n",
      "  return np.add.reduce(sorted[indexer] * weights, axis=axis) / sumval\n"
     ]
    },
    {
     "data": {
      "text/plain": [
       "<matplotlib.axes._subplots.AxesSubplot at 0x1d4d3a8dc88>"
      ]
     },
     "execution_count": 39,
     "metadata": {},
     "output_type": "execute_result"
    },
    {
     "data": {
      "image/png": "[encoded data removed]",
      "text/plain": [
       "<Figure size 432x288 with 1 Axes>"
      ]
     },
     "metadata": {
      "needs_background": "light"
     },
     "output_type": "display_data"
    }
   ],
   "source": [
    "sns.distplot(n)"
   ]
  },
  {
   "cell_type": "code",
   "execution_count": 40,
   "metadata": {
    "scrolled": true
   },
   "outputs": [
    {
     "data": {
      "text/plain": [
       "1.6909061673469181"
      ]
     },
     "execution_count": 40,
     "metadata": {},
     "output_type": "execute_result"
    }
   ],
   "source": [
    "np.random.normal(loc=0.0,scale=1.0,size=None)"
   ]
  },
  {
   "cell_type": "code",
   "execution_count": 41,
   "metadata": {},
   "outputs": [
    {
     "data": {
      "text/plain": [
       "array([ 1.92239792,  0.17024371,  5.68238051,  4.65148586,  1.45881353,\n",
       "        2.17718934,  1.83543145,  3.62800521, -2.37327812,  4.40433868,\n",
       "        0.37716243, -0.08877829, -0.75997184,  3.20425841,  4.44504145,\n",
       "        3.93841974,  1.78483245,  2.8365861 ,  1.54621741,  3.64771208,\n",
       "        4.46356192, -0.20284751,  6.07446592,  0.6174056 ,  2.35747964,\n",
       "        0.45055712,  7.17959516, -0.67144111,  6.9347304 ,  3.70993369,\n",
       "        4.2851122 ,  4.8440504 ,  1.80547002, -0.06943166,  1.66732107,\n",
       "        4.4091576 ,  5.06301186,  4.50599017,  2.44862317, -1.40630655,\n",
       "        3.25016955,  0.89813079, -0.23738298,  3.97395483, -0.36817535,\n",
       "        0.67649405, -1.94323252,  0.71704625,  1.5612961 ,  0.27571518,\n",
       "        2.63561713,  1.50839433,  3.0823577 ,  3.10364901, -2.31618176,\n",
       "        1.61842766,  2.25789646,  0.10482616, -0.34743475,  2.16834572,\n",
       "       -0.53880012,  1.78484126,  3.357633  , -0.3858985 ,  2.97960405,\n",
       "        0.79031962,  2.93062844,  2.41783984,  2.1772832 ,  4.6689461 ,\n",
       "        2.83044634,  3.52965262, -0.02089804,  3.53302962,  1.72235359,\n",
       "        1.72599261,  0.02483218, -0.01785233,  3.24502072, -0.71570303,\n",
       "        5.25439552,  1.80246498,  0.72365735,  3.47173799,  5.067739  ,\n",
       "       -0.46776563,  5.61229229,  1.10534255,  2.86928812,  5.30112213,\n",
       "        2.17868569,  1.11486973,  1.80993401,  1.37241801,  4.98285133,\n",
       "        0.31685646,  1.0933839 ,  0.67545539,  2.4389161 ,  2.65553165,\n",
       "        4.63181471, -1.30900467,  3.1020082 ,  5.09696934, -1.29338513,\n",
       "        3.51646079,  4.66959582,  2.7692467 ,  2.56025401,  3.18153758,\n",
       "        1.11829415,  4.90837673,  2.46712572,  3.90212666, -1.20534694,\n",
       "        0.84367029,  2.61556958,  3.80707101,  3.53125997,  0.51730252,\n",
       "        5.16641847,  2.73493735,  2.2939052 ,  1.94926877,  2.12315977,\n",
       "        1.90716915,  1.19868491,  3.84304566,  1.32377922,  2.04225254,\n",
       "        0.18872235,  2.99246801,  2.02883071, -0.91682851,  1.9024547 ,\n",
       "        0.95464791,  0.59577662,  0.54729393,  3.80442829, -0.48606612,\n",
       "        0.67846034,  5.02596611,  4.07988916,  5.75390176, -0.31781416,\n",
       "        3.82528634,  2.55984829,  4.3872568 ,  1.26786745, -1.41796753,\n",
       "        4.1681409 , -0.1009528 , -0.90335914,  4.16581603,  1.10566626,\n",
       "        1.20801823,  2.06717969,  1.06940921,  0.97210746,  2.76348061,\n",
       "       -0.56320294,  2.46995778,  3.87770152,  4.08246727,  1.74188787,\n",
       "        3.45194987,  0.79452973,  5.84807333,  3.52415181,  1.65462204,\n",
       "       -0.51656617,  0.2411769 ,  1.64369   , -0.05507602,  2.48122558,\n",
       "        4.0510485 ,  2.06185413,  0.27291653,  3.13794686,  0.39507386,\n",
       "        2.143767  ,  3.7237335 ,  1.28612245,  1.45776701,  2.09597116,\n",
       "        1.86088329,  6.96249145,  0.68563535,  6.43301114,  2.5782819 ,\n",
       "        1.20567494, -1.87858592,  8.30094593,  2.82582509,  1.42737617,\n",
       "        1.38267045,  1.83709483,  1.50211174,  7.54381322,  3.12424656,\n",
       "        4.73382159,  4.01143111,  1.96445284,  0.34896453, -0.19006378,\n",
       "        3.12816127,  0.81863712,  2.0476859 ,  3.7703357 ,  1.22084716,\n",
       "        1.21508199,  3.41033025,  4.21714449,  2.57556564,  1.66041085,\n",
       "        2.17035897,  3.43488326,  0.65767617,  0.73805923,  0.8507119 ,\n",
       "        1.97485487,  4.46978538,  2.62984893,  3.97677357,  5.14217168,\n",
       "        3.69553489,  1.15007141,  1.16204666, -2.10770137,  4.3361223 ,\n",
       "       -2.60264085,  4.29918383,  6.92837732,  2.30149367,  0.73902247,\n",
       "        1.6839688 ,  0.56535833,  3.64063628,  1.37899123,  1.28936661,\n",
       "       -1.08027365,  6.08824043,  0.45150536, -0.885788  ,  3.98506707,\n",
       "        2.12364799,  4.35193376,  3.5118537 ,  1.76185131,  4.25355676,\n",
       "        1.74438585,  2.01887266,  0.81778001,  1.66704784,  2.7444217 ,\n",
       "        2.26058597,  1.00335084,  6.63026784,  5.78931549,  3.87399877,\n",
       "        1.75104043,  3.03511102, -0.67081395,  2.06516987,  1.13942815,\n",
       "        0.78608416,  0.82108856,  5.35024557,  1.95467736,  1.73371191,\n",
       "        3.6160696 , -0.35287556,  3.17159488,  2.59971346,  2.27359835,\n",
       "        0.06854184,  0.90475794,  0.54954116,  0.58683487,  1.16733383,\n",
       "        1.69827279, -1.45445   ,  5.91302966,  3.50965305,  2.98065552,\n",
       "        4.16006527,  3.32102326,  2.67603731,  2.04468327,  4.40317862,\n",
       "        5.13196158,  1.77776488, -3.73334989,  0.61281992,  3.43658439,\n",
       "        1.68802552,  3.18837764, -0.1525617 ,  2.40399228,  3.92256065,\n",
       "        1.2908104 ,  3.83795858,  1.46091004,  2.03296122,  1.19765511,\n",
       "        4.62346883,  1.81159585,  2.5170232 ,  1.62189947,  2.0007542 ,\n",
       "        2.4019221 ,  0.74861351,  1.44654544,  3.93558903,  1.47840636,\n",
       "        3.44095028,  0.6729847 ,  0.89722832,  0.13738024,  5.21707825,\n",
       "        1.00355753, -0.54287081,  2.32847165,  3.61892756, -0.83597473,\n",
       "        3.33449049,  3.54816704,  1.65875559, -0.32299439,  4.01221928,\n",
       "        5.01837818,  3.3332729 , -0.11100508,  2.54730618,  4.09965142,\n",
       "        2.21668966,  0.90596001, -3.77537326,  4.34854953,  2.81631528,\n",
       "        4.30062314,  0.53423954,  0.21991929,  2.77697094,  2.66769879,\n",
       "        2.8195833 , -2.67503402,  1.00659426,  1.82845352,  1.60158826,\n",
       "        2.23657751,  0.47641593,  4.79306811, -1.08588852, -0.77439145,\n",
       "        2.08776206,  2.12335001,  2.74543647,  1.53409615,  2.21540507,\n",
       "        2.39678382,  4.32803291,  5.8374639 , -0.07240721, -1.3300603 ,\n",
       "        5.16325397, -0.72713938, -0.94662586, -0.746517  , -0.76737001,\n",
       "        2.06333455,  2.84182764,  2.75903855, -0.12439588,  2.53688032,\n",
       "        3.23562476,  4.47444563,  3.94601039,  3.03107475, -1.65555873,\n",
       "        3.29869224,  2.92103288,  1.08563559,  1.11632911,  0.25659979,\n",
       "       -0.02070628,  3.2887933 ,  1.50282676, -0.33947794,  2.68493224,\n",
       "        2.29928825, -0.14272928,  3.44949211,  2.15123695,  2.1113715 ,\n",
       "       -2.05752751,  2.16179248, -0.02465865,  4.1210571 ,  2.07366851,\n",
       "       -0.36245527,  1.44718652,  2.52307958,  2.47648797,  1.29802752,\n",
       "        1.76682713, -0.17212112,  6.68665707,  2.58677438,  1.83223911,\n",
       "       -1.01233169,  7.39001836,  2.75814327,  2.04128973,  6.94124229,\n",
       "        4.52507393,  1.76843696,  5.14423214,  1.08686488,  3.23698322,\n",
       "        0.28043353,  2.49567689,  3.93384185,  0.23216665,  0.71841952,\n",
       "       -0.01442301,  0.38450325,  2.10057811,  2.17126423,  2.31525247,\n",
       "        0.76017837,  4.56063864,  1.84415555,  4.38067504,  2.87164468,\n",
       "        0.60121387,  2.98127667, -1.89774175,  3.77300791,  4.39184915,\n",
       "        5.45069198,  2.02974498,  0.97096094, -0.39409925,  1.36276345,\n",
       "        1.04171654,  2.35461714,  2.84517504,  1.33853272,  1.75107483,\n",
       "        3.71590542,  1.48799847,  2.73387096,  5.14195588,  0.59302102,\n",
       "        0.11888246,  1.99296795,  2.96203664,  2.28678947,  1.09211958,\n",
       "       -1.43797512,  2.002259  ,  1.29520683,  2.63019405,  0.7716297 ,\n",
       "       -0.32827204,  0.88529006, -1.31991092,  6.68523479,  0.57112534,\n",
       "        3.09683293,  4.02727656,  1.63189089,  4.24725946,  2.95959474,\n",
       "        3.25202912,  0.92344463,  1.3283064 ,  1.36316789,  3.17313704,\n",
       "        7.29680739,  4.36063081,  1.74040019, -0.75159367,  2.25972409,\n",
       "        2.12746252,  1.97917638,  0.94946746,  0.617804  ,  1.63324543,\n",
       "        0.54646154,  4.02560811,  0.8673394 , -0.21955535,  1.5509323 ,\n",
       "        1.29173212,  0.08298818,  1.29721047,  4.5225787 ,  2.17090184,\n",
       "        1.80067759,  1.56649069,  2.91152394,  0.21259003, -0.07567707,\n",
       "        0.65423592,  3.60235213, -0.51879164,  2.7803705 ,  0.76761413,\n",
       "        3.20553569,  0.23376817,  5.9688841 , -2.59710246,  0.90719502,\n",
       "        3.63694224, -0.26735125,  2.25473722,  1.906333  ,  2.63868852,\n",
       "        3.94965001,  2.41987038,  0.42660009,  6.04380394,  4.58274044,\n",
       "        5.69484308,  2.05505512,  0.77196911,  2.1490024 ,  0.33950003,\n",
       "       -1.99826107, -2.0841089 ,  4.01686216,  3.6198445 ,  3.87161242,\n",
       "        2.82250971, -0.43670043,  1.40211474, -1.18126809,  2.14572067,\n",
       "        0.8399669 ,  1.26694181,  3.75486463,  2.31959604,  3.21820065,\n",
       "        3.00225979,  4.9313715 ,  2.68655435,  1.53779289,  3.21797808,\n",
       "        0.62712505,  0.63640629,  2.56377324, -0.47720886,  2.03581497,\n",
       "        2.67478694,  3.43140627,  0.24896152, -0.32908424, -1.45968906,\n",
       "        3.22778959,  4.15506246,  2.32507685,  1.42283159,  2.49597137,\n",
       "        0.86458328,  1.88058232,  2.39166315, -1.46347944,  3.43965241,\n",
       "        0.49518573, -0.04013127,  0.63585567,  0.65413446,  2.33937966,\n",
       "       -1.53539307,  3.0415073 ,  1.21684846,  2.57701825,  2.59929936,\n",
       "        3.62479476,  1.76182105,  0.72768538,  0.35895872,  2.03468617,\n",
       "        2.55673524,  2.52581797,  2.76380254,  3.98617264, -0.04717772,\n",
       "        0.47371344,  1.42187896,  4.0598297 ,  2.12859797,  3.96578768,\n",
       "        3.71226926, -0.02493412,  3.56310137,  2.874062  ,  4.99126831,\n",
       "        4.65223047,  3.40768887,  0.01711821,  2.25680791,  3.96567717,\n",
       "       -0.24208955,  3.43428088,  2.22777714,  1.23827633,  2.32167425,\n",
       "        4.62749767,  0.09570171,  3.68569536,  4.37419742,  3.38051826,\n",
       "        5.5980672 ,  0.81299371,  0.76260851,  0.47217496,  2.50290859,\n",
       "        4.37465971,  1.07377617,  5.24227262,  2.07798759,  1.54305876,\n",
       "        3.42191193,  1.0487098 ,  4.07025391,  4.51261001,  4.74673833,\n",
       "        0.06820803,  5.30375686,  5.5040452 ,  3.41908667,  1.30096563,\n",
       "        4.60197169,  3.86040965,  4.48144166, -1.10823875,  1.70587808,\n",
       "        3.2440086 , -0.53124568, -0.85161093,  1.16034629,  3.86619188,\n",
       "        1.54086365,  3.05123862,  3.09273542,  2.21032226,  3.96394099,\n",
       "        1.97402477,  2.65806798,  0.93851091,  4.7353125 ,  1.26868802,\n",
       "        2.50284268,  4.52445942,  2.72866249,  2.84137887,  3.71873817,\n",
       "        1.20736617,  4.16546025,  2.69747623,  5.63801445,  3.71346562,\n",
       "        4.45760906,  4.33441256,  3.47544653,  0.593989  ,  1.73160174,\n",
       "        3.1645078 ,  1.11181515, -2.94959941,  0.94034239,  2.56273223,\n",
       "        0.68809521,  3.05411186,  5.26334503,  5.55783542, -1.10491677,\n",
       "        1.69402783,  3.52485324,  0.89310516, -1.38024556,  1.72599227,\n",
       "        1.8622432 ,  0.83322125,  4.14983458,  2.39541806,  3.4674812 ,\n",
       "        3.67441209, -0.08378443,  1.71354323,  3.31622755,  1.67566039,\n",
       "        2.00669854, -0.59373874,  2.87685808, -0.59827302,  0.0874407 ,\n",
       "        1.96966335,  4.91982125,  1.46100308,  4.17585865,  1.30434509,\n",
       "        1.03750386,  4.03073714,  2.6949159 ,  2.21117449, -0.41089956,\n",
       "        3.80113934,  2.84457791,  4.96856845,  1.08842927,  0.4308297 ,\n",
       "        0.20595152,  2.39687885,  4.85168254,  2.84198023,  2.6630393 ,\n",
       "        3.73263492,  2.07046253,  2.33557522,  1.54151729,  0.06381844,\n",
       "        3.91175823, -2.05022191,  5.87476391,  3.21299951, -0.09066784,\n",
       "        5.19058391,  4.13158913,  2.58728792, -2.08257491,  4.89025231,\n",
       "        1.31271665,  4.74985432,  1.51368399, -0.58084302,  1.09867385,\n",
       "        4.81158315,  1.27678107,  3.67945574,  0.26117494,  1.05541202,\n",
       "        1.83194149,  5.78586509,  0.56341108,  0.54927446,  0.45302684,\n",
       "        5.04298626,  2.05702609, -0.02775632, -0.31057752, -1.69463329,\n",
       "        2.14686915,  0.35105485, -1.53726237,  4.77137805,  1.1790728 ,\n",
       "        2.39465817, -2.27829744,  5.70982452,  2.3693864 , -1.16160507,\n",
       "        1.8196494 , -0.44042601,  4.21833318,  3.97109429,  2.80744191,\n",
       "        0.71450001,  5.18083964, -1.91986619,  4.194503  ,  4.11082059,\n",
       "       -1.753829  , -0.02199442,  1.92629265,  2.54778199,  4.18208756,\n",
       "        2.98174996,  0.64801921, -0.88504519,  3.73421927,  1.51643276,\n",
       "        3.03010317,  2.93357279,  4.27752991,  0.84302144,  1.60836521,\n",
       "       -0.44672703,  2.77142765,  3.42354689,  1.25260092, -1.12421773,\n",
       "        6.49226961,  3.2656429 , -1.08795502, -1.44106784,  1.18974165,\n",
       "        0.9635146 ,  1.02611145,  4.28528408,  2.48872406,  2.64602743,\n",
       "        2.4740035 ,  3.70914553,  2.20371848,  1.53439219, -1.53706895,\n",
       "        1.98864382,  1.74933308,  0.39726294,  3.16230817,  9.13876227,\n",
       "        1.5037535 ,  4.40908746,  0.47620768,  3.17021767,  0.77690514,\n",
       "        2.69537834,  2.93746449,  3.1472413 ,  3.89810781,  2.06731986,\n",
       "        1.8669893 ,  1.67735418,  2.27576397,  4.26371624,  3.52644542,\n",
       "        3.99977829,  2.39949415,  2.82161943,  7.09665435,  1.00955972,\n",
       "        6.58487399,  1.89753166,  3.44264548,  6.25374034,  1.50394289,\n",
       "        5.93437996,  1.8637171 ,  2.96034336,  1.01337991,  3.78400856,\n",
       "        0.77895295,  2.87253035,  5.29107123,  1.73386131,  2.76768704,\n",
       "        2.05566276,  3.58465251,  4.4427745 ,  0.66534021,  0.79667925,\n",
       "        4.75024687,  4.19430999,  4.6074424 ,  3.17098596,  3.78464281,\n",
       "        1.3283271 ,  3.60578852,  3.76311894,  0.08591335,  4.60511546,\n",
       "        2.47627359,  2.68948044,  5.28401918, -2.86815881,  1.90512503,\n",
       "        3.0594501 ,  0.55564445,  2.84671821,  0.99791575,  1.22799912,\n",
       "        2.05488953,  3.89368158,  5.16437977,  3.59775702,  0.1123343 ,\n",
       "        4.20281241,  1.33407048,  5.05403208, -2.22288016,  3.37254401,\n",
       "        3.21993123,  0.53419349,  2.33491154,  5.18434781,  3.80892334,\n",
       "       -1.68497496,  3.68903404,  0.69225522, -0.98751607,  3.67291624,\n",
       "       -0.2950647 ,  3.27239845,  6.73715085,  2.8033147 ,  0.95865661,\n",
       "        0.50080742,  3.48332584,  3.04984813,  0.29106824,  2.95460662,\n",
       "        1.28953601, -2.14125638,  2.70450752,  4.26117629,  0.48850592,\n",
       "        1.93928483,  0.76416998,  2.46632247,  4.66098374,  2.48079271,\n",
       "        4.18037251,  3.10155647,  5.3759298 , -0.13587894,  1.66100496,\n",
       "        0.05544978,  4.45563411,  1.13818059,  3.404516  ,  2.05177572,\n",
       "        1.96493795,  2.78118592,  2.70280956,  5.49150238, -2.72558984,\n",
       "        4.06315141, -2.5469321 ,  2.59869193,  3.64555204,  4.27982879,\n",
       "       -0.11277402,  4.67753031,  3.08817151, -0.67332506,  3.97401734,\n",
       "        1.57352661, -0.57175047,  3.44316192,  0.93012032,  2.77142999,\n",
       "        3.16793302,  0.8046202 , -2.82949205,  3.74721562,  1.96848126,\n",
       "        2.68208076, -1.97323761,  4.42180868,  3.31560539,  1.82432819,\n",
       "        5.41825975,  1.29930078, -1.51021783,  0.55434676,  1.54170007,\n",
       "        1.88692725,  3.14812017,  0.84275892,  5.66898291, -1.14288708,\n",
       "        0.34038435,  3.07542811,  0.67825633,  5.17617962,  1.59818957,\n",
       "        2.3634475 ,  5.44890167,  4.10857877,  3.46493655,  1.91722132,\n",
       "        2.58913313,  1.18693467,  0.86078902,  2.39944777,  2.17158626,\n",
       "        4.14438069,  3.34664928, -0.10367611,  5.18141827,  3.24144465,\n",
       "        2.49386812,  2.55401326,  0.88995263, -0.38461224,  0.69014607,\n",
       "       -0.35556114, -1.00457704,  1.33995794,  4.16815174,  4.36694292,\n",
       "        0.40757065,  3.73028692,  0.37257608,  1.55721193, -0.64719609])"
      ]
     },
     "execution_count": 41,
     "metadata": {},
     "output_type": "execute_result"
    }
   ],
   "source": [
    "n1 = np.random.normal(loc=2.2 ,scale=2.0,size=1000)\n",
    "n1"
   ]
  },
  {
   "cell_type": "code",
   "execution_count": 42,
   "metadata": {},
   "outputs": [
    {
     "data": {
      "text/plain": [
       "(array([ 10.,  37., 104., 204., 251., 211., 133.,  34.,  14.,   2.]),\n",
       " array([-3.77537326, -2.4839597 , -1.19254615,  0.0988674 ,  1.39028096,\n",
       "         2.68169451,  3.97310806,  5.26452161,  6.55593517,  7.84734872,\n",
       "         9.13876227]),\n",
       " <a list of 10 Patch objects>)"
      ]
     },
     "execution_count": 42,
     "metadata": {},
     "output_type": "execute_result"
    },
    {
     "data": {
      "image/png": "[encoded data removed]",
      "text/plain": [
       "<Figure size 432x288 with 1 Axes>"
      ]
     },
     "metadata": {
      "needs_background": "light"
     },
     "output_type": "display_data"
    }
   ],
   "source": [
    "plt.hist(n1)"
   ]
  },
  {
   "cell_type": "code",
   "execution_count": 43,
   "metadata": {},
   "outputs": [
    {
     "data": {
      "text/plain": [
       "<matplotlib.axes._subplots.AxesSubplot at 0x1d4d3c78f98>"
      ]
     },
     "execution_count": 43,
     "metadata": {},
     "output_type": "execute_result"
    },
    {
     "data": {
      "image/png": "[encoded data removed]",
      "text/plain": [
       "<Figure size 432x288 with 1 Axes>"
      ]
     },
     "metadata": {
      "needs_background": "light"
     },
     "output_type": "display_data"
    }
   ],
   "source": [
    "sns.distplot(n1)"
   ]
  },
  {
   "cell_type": "markdown",
   "metadata": {},
   "source": [
    "## 2. numpy.random.uniform(low=0.0, high=1.0, size=None)"
   ]
  },
  {
   "cell_type": "markdown",
   "metadata": {},
   "source": [
    "Samples are uniformly distributed over the half-open interval (low, high) (includes low, but excludes high). In other words, any value within the given interval is equally likely to be drawn by uniform\n",
    "\n",
    "Its like rolling a dice, There is as much hance of a 1 been rolled as there is a 6\n",
    "\n",
    "This is shown by the box shaped plots below"
   ]
  },
  {
   "cell_type": "code",
   "execution_count": 57,
   "metadata": {},
   "outputs": [
    {
     "data": {
      "text/plain": [
       "array([-8.77826362e-01, -5.31008187e-01, -6.82535454e-01, -1.71066906e-01,\n",
       "       -3.02606555e-01, -5.05399783e-01, -7.69224779e-01, -6.73413235e-01,\n",
       "       -8.43407638e-01, -9.80577872e-01, -4.95314901e-01, -6.27241779e-01,\n",
       "       -7.84214893e-01, -2.41565651e-01, -5.68906141e-03, -3.72960266e-01,\n",
       "       -4.75457174e-01, -5.91324802e-01, -1.87348656e-01, -5.59193156e-01,\n",
       "       -1.76846854e-01, -6.37121955e-01, -8.52434231e-01, -5.21729764e-01,\n",
       "       -7.25809327e-01, -9.23847186e-02, -2.58971332e-02, -6.52553364e-01,\n",
       "       -2.18010202e-01, -3.12701508e-01, -4.23017825e-01, -7.95266786e-01,\n",
       "       -4.37604471e-01, -9.61354532e-01, -9.42077275e-01, -7.12227607e-01,\n",
       "       -8.97568750e-01, -6.03472340e-01, -4.44966407e-01, -7.43327295e-01,\n",
       "       -9.33434611e-01, -1.90698119e-01, -8.36914591e-01, -1.59159462e-01,\n",
       "       -6.48405031e-01, -2.38046828e-01, -3.98581713e-01, -6.55847105e-01,\n",
       "       -9.65193566e-01, -3.67994097e-01, -8.40401882e-01, -7.21404953e-02,\n",
       "       -2.09247634e-01, -1.38175597e-01, -7.74350410e-01, -4.85149920e-01,\n",
       "       -8.43354078e-01, -2.17696791e-01, -8.16743646e-01, -2.78606208e-01,\n",
       "       -8.23984700e-01, -5.61865897e-01, -3.56054220e-01, -6.93808440e-01,\n",
       "       -6.13421800e-01, -7.68432995e-01, -1.76401692e-01, -5.32199328e-01,\n",
       "       -2.42117744e-01, -1.28743916e-01, -6.30072781e-01, -5.32195957e-01,\n",
       "       -3.13992296e-03, -2.19121504e-01, -8.52492016e-01, -4.93730370e-01,\n",
       "       -8.69287220e-01, -3.10966589e-01, -2.37894133e-01, -5.20896370e-01,\n",
       "       -6.29445224e-02, -7.23246863e-01, -1.38381399e-01, -6.78895405e-01,\n",
       "       -4.76008398e-01, -7.36137869e-01, -9.17056956e-01, -6.98718924e-01,\n",
       "       -4.75406405e-01, -2.67996485e-01, -7.13871118e-01, -5.51329705e-01,\n",
       "       -8.53025732e-01, -9.22558275e-01, -8.09436217e-01, -1.67905600e-01,\n",
       "       -6.85092098e-01, -6.73524732e-02, -4.78458542e-01, -5.71028515e-02,\n",
       "       -9.85851199e-01, -5.94702493e-01, -9.46262089e-01, -2.13657876e-01,\n",
       "       -2.88470225e-01, -4.88619064e-01, -4.88247890e-01, -5.96068500e-02,\n",
       "       -8.76404115e-01, -2.48713408e-01, -6.00067481e-01, -2.27149181e-01,\n",
       "       -8.33255181e-01, -8.04426418e-01, -8.71147656e-03, -1.21716322e-01,\n",
       "       -5.54603704e-01, -7.11299828e-01, -8.13692300e-01, -6.80670727e-01,\n",
       "       -4.86799598e-01, -9.53854685e-01, -8.96919639e-01, -3.29104155e-01,\n",
       "       -8.42978720e-01, -6.01507005e-01, -7.46103799e-01, -7.19463165e-01,\n",
       "       -3.92259262e-02, -6.80214269e-01, -9.18721373e-01, -5.99318812e-01,\n",
       "       -3.17167504e-01, -6.58771325e-01, -2.54319730e-01, -9.34996506e-01,\n",
       "       -1.38953595e-01, -6.63326255e-01, -2.85626816e-01, -5.31638250e-01,\n",
       "       -7.94610923e-01, -7.72256982e-01, -9.59302903e-01, -1.38309726e-01,\n",
       "       -4.89089778e-01, -2.93531660e-01, -9.04707709e-02, -1.05249733e-01,\n",
       "       -7.38265764e-01, -7.09979196e-01, -9.36409638e-01, -9.44837184e-01,\n",
       "       -4.01377878e-01, -8.98639271e-01, -3.13199219e-01, -3.50725440e-01,\n",
       "       -3.46990401e-01, -4.02730085e-01, -1.08699462e-01, -8.17593104e-01,\n",
       "       -1.16960187e-01, -5.35295641e-01, -6.69619858e-01, -9.48663567e-01,\n",
       "       -7.54707790e-01, -4.26350788e-01, -8.56310690e-01, -2.34989207e-01,\n",
       "       -5.46529470e-01, -9.57028353e-01, -8.09098544e-01, -5.12566815e-01,\n",
       "       -2.85508583e-01, -3.09993499e-02, -4.07672586e-01, -7.58624852e-01,\n",
       "       -8.15267275e-01, -3.66175995e-01, -2.46823687e-01, -9.57290042e-01,\n",
       "       -4.12535338e-01, -5.67335325e-01, -5.02176720e-01, -7.93794842e-01,\n",
       "       -2.85220782e-02, -1.06570779e-01, -2.51334539e-01, -3.02322366e-01,\n",
       "       -4.28142269e-01, -3.31868612e-01, -8.36282526e-01, -4.73336521e-01,\n",
       "       -2.91632813e-01, -1.03494966e-01, -8.86822303e-01, -9.03813618e-01,\n",
       "       -4.08255846e-01, -9.69141146e-01, -2.12977902e-01, -4.49092578e-01,\n",
       "       -2.73335616e-01, -6.43675858e-01, -3.57866796e-01, -7.22369367e-01,\n",
       "       -6.50137481e-01, -6.15120395e-01, -2.35701571e-01, -1.95587372e-02,\n",
       "       -5.58414037e-01, -9.32306481e-02, -9.15745318e-01, -8.26802435e-01,\n",
       "       -8.82112947e-01, -5.30337939e-01, -9.06310235e-01, -2.38207246e-01,\n",
       "       -5.56148342e-01, -5.69549508e-01, -2.26260432e-01, -4.98758221e-01,\n",
       "       -6.24917407e-01, -2.80332595e-01, -3.92597064e-01, -2.50404887e-01,\n",
       "       -6.38473966e-01, -6.02008321e-01, -8.06316660e-02, -9.74256570e-01,\n",
       "       -6.60826966e-01, -6.93163092e-01, -1.13242770e-01, -8.33624797e-01,\n",
       "       -1.93441687e-01, -4.69491757e-01, -4.11441367e-01, -3.33567792e-01,\n",
       "       -1.70953131e-01, -6.41171973e-02, -6.89119758e-01, -9.93235364e-01,\n",
       "       -6.37595855e-01, -9.29959877e-01, -2.41513615e-01, -6.31330812e-01,\n",
       "       -3.75376177e-01, -6.65749410e-02, -4.92507407e-02, -3.75701493e-01,\n",
       "       -3.96014337e-01, -2.02617275e-01, -1.57161774e-01, -8.14191955e-02,\n",
       "       -4.23871626e-01, -6.57887290e-01, -3.75920195e-01, -3.01180948e-02,\n",
       "       -7.35860802e-01, -4.14047493e-01, -6.92546449e-01, -8.66791612e-01,\n",
       "       -3.19668705e-02, -6.24498915e-02, -3.50171407e-01, -5.16135819e-01,\n",
       "       -4.36349980e-01, -5.35833760e-02, -7.49199088e-01, -1.93442772e-01,\n",
       "       -4.11308908e-01, -5.70217033e-01, -7.28144414e-01, -8.06313368e-01,\n",
       "       -1.89757297e-01, -8.99276001e-01, -5.37050520e-01, -2.97990892e-01,\n",
       "       -3.59874055e-01, -4.95516372e-01, -5.16240687e-01, -7.32109454e-01,\n",
       "       -8.29951949e-01, -4.73876222e-01, -9.26533360e-01, -1.13468884e-01,\n",
       "       -7.81669926e-01, -8.50612567e-01, -6.13730465e-02, -6.02756708e-01,\n",
       "       -8.14539773e-01, -5.60652858e-01, -2.95004440e-01, -7.75543964e-01,\n",
       "       -9.00817372e-01, -5.32547577e-01, -2.04188868e-01, -1.43815631e-01,\n",
       "       -4.05940620e-01, -7.29173470e-01, -5.37020012e-01, -6.59119458e-01,\n",
       "       -9.98509090e-01, -7.82126808e-01, -3.84491823e-01, -6.32155713e-01,\n",
       "       -6.07516962e-01, -2.58765129e-01, -7.87738382e-01, -3.63445349e-01,\n",
       "       -4.83696178e-01, -7.08718899e-01, -1.02618074e-01, -4.60797969e-01,\n",
       "       -5.09356938e-01, -7.93007934e-01, -2.33961191e-01, -6.30891641e-01,\n",
       "       -4.76227774e-01, -8.10588262e-01, -1.76207867e-01, -2.97065507e-01,\n",
       "       -8.33005993e-01, -2.58157999e-01, -2.89677462e-01, -8.14368134e-01,\n",
       "       -6.12526308e-01, -4.21940410e-01, -1.23589839e-01, -3.56113192e-01,\n",
       "       -7.85777598e-01, -1.65843240e-01, -6.96175797e-01, -2.73038350e-01,\n",
       "       -5.19779040e-01, -6.90626670e-01, -4.75556196e-02, -3.70212027e-01,\n",
       "       -8.77572719e-01, -2.14941560e-01, -5.03469330e-01, -9.17121271e-01,\n",
       "       -6.01942184e-01, -3.10554904e-01, -3.39489982e-01, -6.51842934e-01,\n",
       "       -4.19550078e-01, -7.39069582e-01, -8.40632170e-01, -1.80388846e-01,\n",
       "       -6.08460293e-01, -6.44211465e-01, -3.09688695e-01, -9.50850198e-02,\n",
       "       -7.64734315e-01, -7.98951078e-01, -9.60427257e-01, -5.17121325e-01,\n",
       "       -8.31355072e-01, -9.35254111e-01, -8.01497862e-02, -3.58693330e-01,\n",
       "       -8.12990272e-01, -1.28571723e-01, -7.17686098e-01, -4.92201258e-01,\n",
       "       -3.05901585e-03, -1.86841593e-01, -5.04049318e-01, -4.36892691e-01,\n",
       "       -2.42394753e-01, -1.94244051e-01, -8.67342752e-01, -6.48877326e-01,\n",
       "       -7.55134181e-02, -8.41723813e-01, -6.57343287e-01, -1.87366720e-01,\n",
       "       -6.80934213e-01, -2.89289154e-01, -7.05745200e-01, -3.06217419e-01,\n",
       "       -1.85872990e-01, -6.08200284e-01, -1.89642006e-02, -3.66848919e-01,\n",
       "       -7.05173914e-01, -6.56971544e-01, -4.36298128e-02, -7.62715826e-02,\n",
       "       -2.27672124e-01, -1.38054914e-01, -3.20767689e-02, -4.95268174e-01,\n",
       "       -7.75546061e-01, -4.28310001e-02, -8.89603913e-01, -1.60832075e-01,\n",
       "       -5.69199636e-01, -9.65546419e-02, -6.95806255e-02, -5.70902900e-01,\n",
       "       -3.01723226e-01, -5.54334222e-01, -2.29168471e-01, -4.01269289e-01,\n",
       "       -8.78815728e-01, -6.07995622e-01, -5.84490531e-01, -3.90692245e-01,\n",
       "       -6.18795645e-01, -8.65178414e-01, -2.88535578e-01, -1.97151779e-01,\n",
       "       -3.11960569e-01, -7.77752649e-01, -5.48258053e-02, -8.48970499e-01,\n",
       "       -2.84659423e-01, -2.06313272e-01, -2.07453953e-02, -2.47373482e-01,\n",
       "       -1.59433526e-01, -1.00807447e-01, -8.09449224e-01, -6.10695143e-01,\n",
       "       -8.85117881e-01, -8.60174017e-01, -5.95825296e-01, -2.48842245e-01,\n",
       "       -6.44950002e-01, -9.52804580e-01, -4.21866994e-01, -2.49914906e-01,\n",
       "       -1.60487119e-01, -2.50556194e-01, -2.87657387e-01, -5.88176212e-01,\n",
       "       -8.53646860e-01, -1.02617212e-01, -8.07273801e-01, -1.67340158e-01,\n",
       "       -7.89273320e-01, -4.02292379e-01, -6.39572195e-02, -5.43134363e-01,\n",
       "       -1.59558091e-01, -4.33541361e-01, -6.47833230e-01, -7.80322940e-01,\n",
       "       -9.26503441e-01, -5.07999644e-01, -2.64610846e-02, -6.73435511e-01,\n",
       "       -8.64242784e-01, -6.90592871e-01, -7.14218391e-01, -2.35588156e-01,\n",
       "       -6.07830305e-01, -8.53972542e-01, -3.72821516e-01, -4.44513422e-03,\n",
       "       -4.56484757e-01, -1.64295739e-01, -6.86577574e-03, -1.54719921e-01,\n",
       "       -4.26993342e-01, -2.88689359e-01, -5.12922235e-01, -4.06083889e-01,\n",
       "       -1.59908565e-01, -6.36785111e-01, -9.80776606e-01, -9.47998886e-01,\n",
       "       -5.08787509e-01, -8.97939670e-01, -5.37441983e-01, -9.75774423e-01,\n",
       "       -8.01633467e-01, -8.78808687e-01, -3.41182283e-01, -8.70316364e-01,\n",
       "       -9.21547710e-01, -3.86086327e-02, -3.48039647e-01, -1.21461621e-01,\n",
       "       -2.25185762e-01, -9.34371269e-01, -6.31555281e-01, -1.65092336e-01,\n",
       "       -1.85732371e-01, -9.21377112e-01, -2.25671539e-01, -2.63200433e-01,\n",
       "       -7.18889443e-01, -7.69631941e-01, -3.06233154e-02, -5.55458906e-02,\n",
       "       -4.92921728e-01, -6.13797902e-01, -8.17592991e-01, -1.65350341e-02,\n",
       "       -5.28308355e-02, -8.05659220e-01, -8.34188901e-01, -5.25536217e-01,\n",
       "       -3.12407515e-01, -9.88959288e-02, -2.58556655e-01, -2.42054875e-01,\n",
       "       -8.08875930e-01, -6.62966283e-01, -7.00610203e-01, -8.40218555e-01,\n",
       "       -5.51326400e-01, -4.55403865e-01, -8.67915223e-01, -8.99723295e-01,\n",
       "       -1.36577300e-01, -9.51891641e-01, -8.21313873e-01, -2.19884241e-02,\n",
       "       -9.25029536e-01, -5.69155886e-01, -4.86754329e-01, -6.34038908e-01,\n",
       "       -8.81142690e-01, -5.71775721e-01, -8.20655704e-01, -4.74948044e-01,\n",
       "       -7.34039620e-02, -1.91328518e-01, -3.96234970e-01, -2.13774678e-01,\n",
       "       -4.55860644e-02, -1.78654246e-01, -8.21715954e-01, -1.74579255e-01,\n",
       "       -5.97414892e-01, -5.71377795e-01, -3.78760999e-01, -3.68715435e-01,\n",
       "       -6.65729937e-01, -1.22249001e-01, -8.36466136e-01, -2.00430831e-01,\n",
       "       -7.75516014e-01, -6.64397408e-01, -4.73051120e-01, -2.62092934e-01,\n",
       "       -1.11837053e-01, -7.38144437e-01, -4.51955756e-02, -6.33893201e-01,\n",
       "       -3.34778687e-01, -2.58772567e-01, -7.27818066e-01, -1.43944020e-01,\n",
       "       -1.80077782e-01, -1.13895605e-01, -8.85140536e-01, -6.02038092e-01,\n",
       "       -3.58412060e-01, -1.33904476e-01, -4.39159607e-01, -2.15020513e-02,\n",
       "       -6.29445312e-01, -2.56844122e-01, -3.59411551e-01, -3.73545604e-01,\n",
       "       -4.06373339e-01, -6.31628956e-01, -8.95905133e-01, -5.26371338e-01,\n",
       "       -2.08722454e-01, -4.45611089e-01, -9.23686120e-01, -8.78932370e-01,\n",
       "       -3.05086961e-01, -6.36479770e-01, -7.39731293e-02, -8.47136049e-01,\n",
       "       -7.85242710e-01, -3.30594090e-01, -5.16185428e-01, -3.17250586e-01,\n",
       "       -3.95935026e-01, -1.66553516e-01, -7.79092060e-01, -8.27028681e-01,\n",
       "       -7.49897136e-01, -1.34124290e-01, -6.94490128e-01, -5.82425896e-01,\n",
       "       -7.18931985e-01, -4.17338944e-01, -4.18281287e-01, -2.67340183e-01,\n",
       "       -4.32176893e-01, -5.20840864e-01, -4.54087751e-01, -4.43083840e-01,\n",
       "       -3.73779575e-01, -1.36414958e-01, -1.72392548e-03, -7.48870716e-01,\n",
       "       -1.87463227e-01, -6.91142993e-01, -7.33102997e-01, -1.03272250e-01,\n",
       "       -8.23745185e-01, -4.41289695e-01, -1.06291669e-01, -5.37398337e-01,\n",
       "       -5.86167418e-01, -2.08658882e-01, -2.18977846e-01, -8.76911477e-01,\n",
       "       -9.68927723e-01, -9.12409211e-01, -9.51172094e-01, -2.81383826e-01,\n",
       "       -7.46946040e-01, -7.65555253e-01, -7.41976228e-02, -3.07248550e-01,\n",
       "       -1.41498340e-01, -2.75348754e-01, -1.50916765e-01, -6.01227073e-01,\n",
       "       -5.57019528e-01, -5.12210589e-01, -7.15443621e-03, -5.84713851e-01,\n",
       "       -9.15155825e-01, -7.53927304e-01, -2.88390068e-01, -9.12492212e-01,\n",
       "       -3.51353171e-01, -2.95511747e-01, -4.44014626e-02, -1.20016394e-01,\n",
       "       -1.26075790e-01, -2.28759151e-02, -2.16692566e-01, -4.86277477e-01,\n",
       "       -9.36640125e-01, -2.36883503e-02, -8.78670633e-01, -7.76440218e-01,\n",
       "       -4.47862488e-02, -1.94776501e-01, -2.15027499e-02, -2.89721292e-01,\n",
       "       -2.94518243e-01, -3.29936070e-01, -6.26832091e-01, -1.69967990e-01,\n",
       "       -7.14072509e-01, -8.55970400e-02, -1.24334831e-01, -3.59231803e-01,\n",
       "       -1.98124617e-01, -1.43505749e-01, -8.73548755e-01, -3.63906207e-01,\n",
       "       -1.64101324e-01, -5.70321538e-01, -2.45503161e-01, -7.40352783e-01,\n",
       "       -5.51453375e-01, -7.92702285e-01, -5.64713400e-01, -6.15522989e-01,\n",
       "       -2.76268007e-01, -9.16263231e-01, -7.25786959e-02, -1.74600987e-02,\n",
       "       -9.96841264e-01, -2.97958232e-01, -9.29257116e-01, -9.79095132e-01,\n",
       "       -2.14596058e-01, -3.63145732e-01, -1.77689075e-01, -3.00365396e-01,\n",
       "       -6.77473065e-01, -6.15748085e-01, -1.93450206e-01, -7.83938927e-01,\n",
       "       -7.13567631e-01, -7.89342692e-01, -7.80807017e-01, -5.19293234e-01,\n",
       "       -4.55511896e-01, -4.00498950e-01, -1.80149577e-01, -6.30607543e-01,\n",
       "       -3.42849961e-01, -5.65406652e-01, -4.01128174e-01, -1.95824067e-01,\n",
       "       -8.55416012e-01, -8.71826304e-01, -6.32429425e-01, -4.86962832e-01,\n",
       "       -3.49158737e-01, -8.23201111e-01, -2.44310354e-01, -4.50121719e-01,\n",
       "       -5.14930163e-01, -9.16422217e-01, -6.46008034e-02, -6.15796409e-01,\n",
       "       -7.52716684e-01, -3.95112607e-01, -1.29114240e-01, -1.77699771e-01,\n",
       "       -8.06126534e-01, -2.68175712e-01, -2.97829187e-01, -9.12789714e-01,\n",
       "       -1.42021535e-01, -9.31219604e-01, -2.72808037e-01, -9.18798794e-01,\n",
       "       -1.61088433e-01, -6.48493991e-01, -2.14779798e-01, -6.09361648e-01,\n",
       "       -9.16791494e-01, -7.73183918e-01, -9.10884602e-01, -9.85179544e-01,\n",
       "       -1.60953426e-01, -1.27173128e-01, -6.53988138e-01, -6.47184143e-02,\n",
       "       -1.67539037e-01, -8.45637872e-01, -4.85269765e-01, -4.83154996e-01,\n",
       "       -8.29451597e-01, -7.58424354e-01, -8.42949721e-02, -1.21240630e-01,\n",
       "       -3.74989178e-01, -2.31224726e-01, -3.24480956e-01, -4.08575345e-01,\n",
       "       -7.93819703e-01, -6.33446326e-01, -6.18668229e-01, -7.12411413e-01,\n",
       "       -9.39920993e-02, -2.30070904e-01, -3.46399792e-01, -1.35201251e-01,\n",
       "       -7.17681085e-01, -1.75313221e-01, -7.26616937e-01, -7.86138240e-01,\n",
       "       -3.04501094e-02, -6.92389887e-01, -1.08974799e-01, -5.07243995e-01,\n",
       "       -2.72314694e-01, -5.00290509e-01, -5.25332792e-01, -1.70436247e-01,\n",
       "       -6.06378006e-01, -9.90937582e-01, -1.44821025e-01, -2.57916591e-01,\n",
       "       -2.51539885e-01, -3.58207260e-01, -3.69286297e-01, -9.45180910e-01,\n",
       "       -5.07852698e-01, -5.73586512e-01, -6.49722692e-01, -1.07359938e-01,\n",
       "       -4.11350366e-01, -4.34705240e-02, -9.49797766e-02, -3.48201566e-02,\n",
       "       -2.37658449e-01, -6.62658028e-01, -3.01034889e-01, -1.90023582e-01,\n",
       "       -4.11555907e-01, -8.23579040e-01, -7.24855950e-01, -1.84807159e-01,\n",
       "       -9.02934412e-01, -1.99879010e-01, -8.32546834e-01, -7.21592651e-01,\n",
       "       -3.31046023e-02, -1.94215733e-01, -7.51323567e-01, -1.79347503e-01,\n",
       "       -3.94658761e-01, -5.03455737e-01, -3.37402530e-01, -2.19069192e-01,\n",
       "       -4.41966675e-01, -4.06818284e-01, -1.63116068e-01, -7.41024530e-01,\n",
       "       -5.64278229e-01, -7.18729010e-01, -1.15975963e-01, -5.71549658e-01,\n",
       "       -5.44338657e-01, -7.55993436e-01, -5.11084860e-01, -3.66800707e-02,\n",
       "       -6.98430898e-01, -1.90955571e-01, -4.12640112e-01, -8.14873385e-01,\n",
       "       -3.44500879e-02, -4.37487015e-01, -1.59754991e-02, -9.24008506e-02,\n",
       "       -4.50988591e-01, -6.02940785e-01, -1.04950265e-01, -9.98452499e-01,\n",
       "       -7.41251377e-01, -3.33869628e-01, -7.32616354e-01, -4.53067241e-01,\n",
       "       -5.00361139e-01, -1.02622191e-01, -4.52609916e-01, -5.59368266e-01,\n",
       "       -1.19621063e-01, -9.67340048e-01, -5.27084411e-01, -4.14625186e-01,\n",
       "       -3.44890095e-01, -7.70796058e-01, -6.76964402e-01, -8.47525182e-01,\n",
       "       -5.46005200e-01, -7.77400478e-01, -9.12917540e-01, -2.76501781e-01,\n",
       "       -4.01545117e-01, -5.39991102e-01, -6.66603012e-01, -3.90532703e-01,\n",
       "       -8.44277345e-01, -9.80527946e-01, -6.94747016e-02, -1.94032533e-01,\n",
       "       -6.76551328e-01, -6.96569423e-01, -4.17585734e-01, -2.15142000e-01,\n",
       "       -1.59837096e-01, -3.24875621e-01, -2.41968360e-01, -4.83362584e-01,\n",
       "       -3.13515292e-02, -5.82100487e-01, -5.66411824e-01, -4.55234868e-01,\n",
       "       -3.07100233e-01, -2.00831190e-01, -1.87556262e-01, -2.23832908e-02,\n",
       "       -2.92150621e-03, -1.55695945e-01, -7.40320027e-01, -9.25670509e-01,\n",
       "       -9.26015368e-01, -3.33123421e-01, -1.00440945e-01, -6.68635153e-02,\n",
       "       -4.83631216e-01, -2.06023862e-01, -6.26690088e-01, -3.74528284e-01,\n",
       "       -1.20622653e-01, -2.18653450e-01, -6.22593547e-01, -3.57125595e-01,\n",
       "       -1.14240571e-01, -2.63947250e-01, -8.74052836e-01, -4.87995681e-01,\n",
       "       -9.13635619e-01, -1.94389405e-01, -3.84440422e-01, -2.36894931e-01,\n",
       "       -8.34923639e-01, -7.48946689e-01, -2.32871732e-02, -4.26518069e-01,\n",
       "       -5.53029174e-01, -9.33038024e-01, -5.54759590e-01, -4.99710270e-01,\n",
       "       -1.51671310e-01, -7.05832625e-01, -7.72965744e-01, -4.62650998e-01,\n",
       "       -2.27616205e-01, -5.96296285e-01, -7.90003601e-01, -9.37662117e-01,\n",
       "       -1.97473458e-01, -6.24060478e-01, -2.18699363e-01, -2.63861601e-01,\n",
       "       -6.91088058e-02, -8.70902055e-01, -5.85393455e-01, -8.90520047e-01,\n",
       "       -5.41152363e-02, -8.92968966e-01, -4.39162390e-01, -2.66268060e-01,\n",
       "       -9.44397330e-01, -8.32784309e-01, -4.72953966e-02, -1.41976898e-01,\n",
       "       -1.80405004e-01, -2.71905902e-01, -3.32246355e-01, -2.53317331e-01,\n",
       "       -9.90273448e-01, -1.71854835e-01, -5.68337237e-01, -6.52848287e-01,\n",
       "       -6.43519166e-01, -3.77662049e-01, -2.42264584e-01, -9.06963139e-01,\n",
       "       -4.82636904e-01, -3.21974125e-01, -2.71385562e-01, -7.81045911e-01,\n",
       "       -9.25407931e-01, -5.35744882e-01, -9.04314624e-01, -2.92282465e-01,\n",
       "       -7.54354345e-01, -3.78921003e-01, -4.02785055e-01, -7.68878163e-01,\n",
       "       -4.46422779e-01, -9.32243325e-02, -1.60392717e-01, -1.41198131e-02,\n",
       "       -1.51524371e-01, -3.41057028e-01, -1.85129941e-01, -6.74468462e-02,\n",
       "       -6.76109068e-01, -5.34815629e-01, -8.21627767e-01, -3.66151703e-01,\n",
       "       -2.03987307e-01, -6.46942990e-01, -3.85439556e-01, -4.14266286e-01,\n",
       "       -3.91791187e-01, -4.39553960e-01, -7.69821070e-04, -9.80114792e-01,\n",
       "       -9.88102766e-01, -9.38989180e-01, -5.34365725e-01, -1.35085226e-01,\n",
       "       -5.76056338e-01, -5.87180289e-02, -6.28687638e-01, -8.68602513e-01,\n",
       "       -3.09622638e-01, -2.60328657e-01, -6.38730306e-01, -2.23551501e-01,\n",
       "       -3.32475814e-01, -8.57459351e-01, -5.30729186e-01, -7.83691712e-01,\n",
       "       -9.94498211e-01, -3.28719854e-01, -3.48166650e-01, -8.66326256e-01,\n",
       "       -6.21170195e-01, -7.81273774e-02, -2.11912813e-01, -6.64707774e-01,\n",
       "       -3.09022033e-01, -6.34655856e-01, -8.99009742e-01, -8.86440336e-01])"
      ]
     },
     "execution_count": 57,
     "metadata": {},
     "output_type": "execute_result"
    }
   ],
   "source": [
    "u = np.random.uniform(-1,0,1000)\n",
    "u"
   ]
  },
  {
   "cell_type": "code",
   "execution_count": 45,
   "metadata": {},
   "outputs": [
    {
     "data": {
      "text/plain": [
       "(array([ 98.,  93., 111.,  94., 105.,  94.,  87., 122.,  98.,  98.]),\n",
       " array([-9.99876716e-01, -8.99953170e-01, -8.00029625e-01, -7.00106079e-01,\n",
       "        -6.00182534e-01, -5.00258988e-01, -4.00335442e-01, -3.00411897e-01,\n",
       "        -2.00488351e-01, -1.00564805e-01, -6.41259888e-04]),\n",
       " <a list of 10 Patch objects>)"
      ]
     },
     "execution_count": 45,
     "metadata": {},
     "output_type": "execute_result"
    },
    {
     "data": {
      "image/png": "[encoded data removed]",
      "text/plain": [
       "<Figure size 432x288 with 1 Axes>"
      ]
     },
     "metadata": {
      "needs_background": "light"
     },
     "output_type": "display_data"
    }
   ],
   "source": [
    "plt.hist(u)"
   ]
  },
  {
   "cell_type": "code",
   "execution_count": 46,
   "metadata": {},
   "outputs": [
    {
     "name": "stderr",
     "output_type": "stream",
     "text": [
      "C:\\ProgrammingApps\\Anaconda3\\lib\\site-packages\\matplotlib\\axes\\_axes.py:6521: MatplotlibDeprecationWarning: \n",
      "The 'normed' kwarg was deprecated in Matplotlib 2.1 and will be removed in 3.1. Use 'density' instead.\n",
      "  alternative=\"'density'\", removal=\"3.1\")\n"
     ]
    },
    {
     "data": {
      "text/plain": [
       "[<matplotlib.lines.Line2D at 0x1d4d3d769b0>]"
      ]
     },
     "execution_count": 46,
     "metadata": {},
     "output_type": "execute_result"
    },
    {
     "data": {
      "image/png": "[encoded data removed]",
      "text/plain": [
       "<Figure size 432x288 with 1 Axes>"
      ]
     },
     "metadata": {
      "needs_background": "light"
     },
     "output_type": "display_data"
    }
   ],
   "source": [
    "count, bins, ignored = plt.hist(u, 15, normed=True)\n",
    "plt.plot(bins, np.ones_like(bins), linewidth=2, color='r')"
   ]
  },
  {
   "cell_type": "code",
   "execution_count": null,
   "metadata": {},
   "outputs": [],
   "source": []
  },
  {
   "cell_type": "markdown",
   "metadata": {},
   "source": [
    "## 3. numpy.random.binomial(n, p, size=None)"
   ]
  },
  {
   "cell_type": "markdown",
   "metadata": {},
   "source": [
    "A Binomial distribution can be thought of as the of the success or failure outcome that is repeated multiple times\n",
    "\n",
    "The distribution has two possible outcomes, An example of this would be like flipping a coin\n",
    "\n",
    "n is the number of times its is to be repeated\n",
    "\n",
    "p is the probability"
   ]
  },
  {
   "cell_type": "code",
   "execution_count": 47,
   "metadata": {},
   "outputs": [
    {
     "data": {
      "text/plain": [
       "array([6, 5, 2, 8, 5, 2, 3, 6, 6, 6, 4, 8, 5, 5, 4, 5, 3, 4, 4, 3, 7, 6,\n",
       "       7, 6, 5, 6, 3, 4, 6, 4, 8, 2, 8, 5, 8, 5, 7, 8, 3, 2, 5, 6, 4, 7,\n",
       "       5, 3, 3, 7, 3, 3, 4, 5, 5, 3, 5, 5, 6, 3, 3, 5, 4, 7, 7, 6, 7, 4,\n",
       "       4, 5, 5, 7, 6, 5, 3, 7, 5, 6, 2, 6, 5, 5, 4, 3, 2, 7, 6, 5, 4, 7,\n",
       "       3, 2, 4, 4, 8, 7, 1, 2, 6, 2, 5, 6])"
      ]
     },
     "execution_count": 47,
     "metadata": {},
     "output_type": "execute_result"
    }
   ],
   "source": [
    "n = 10\n",
    "p = 0.5\n",
    "b= np.random.binomial(n,p,100)\n",
    "b"
   ]
  },
  {
   "cell_type": "code",
   "execution_count": 48,
   "metadata": {},
   "outputs": [
    {
     "data": {
      "text/plain": [
       "<matplotlib.axes._subplots.AxesSubplot at 0x1d4d3ebc9b0>"
      ]
     },
     "execution_count": 48,
     "metadata": {},
     "output_type": "execute_result"
    },
    {
     "data": {
      "image/png": "[encoded data removed]",
      "text/plain": [
       "<Figure size 432x288 with 1 Axes>"
      ]
     },
     "metadata": {
      "needs_background": "light"
     },
     "output_type": "display_data"
    }
   ],
   "source": [
    "sns.distplot(b)"
   ]
  },
  {
   "cell_type": "markdown",
   "metadata": {},
   "source": [
    "The above test was flipping a coin 10 times with a 50/50 chance of heads or tails\n",
    "This was tested 100 times"
   ]
  },
  {
   "cell_type": "markdown",
   "metadata": {},
   "source": [
    "## 4. numpy.random.triangular(left, mode, right, size=None)\n",
    "\n",
    "left : float or array_like of floats\n",
    "\n",
    "mode : float or array_like of floats\n",
    "\n",
    "right : float or array_like of floats\n",
    "\n",
    "size : int or tuple of ints, optional"
   ]
  },
  {
   "cell_type": "code",
   "execution_count": 69,
   "metadata": {},
   "outputs": [
    {
     "data": {
      "text/plain": [
       "(array([ 21.,  46.,  83.,  95., 136., 190., 188., 268., 245., 282., 322.,\n",
       "        361., 388., 411., 463., 495., 508., 542., 522., 598., 625., 669.,\n",
       "        638., 624., 637., 623., 577., 572., 551., 502., 510., 500., 477.,\n",
       "        454., 423., 412., 391., 353., 341., 358., 329., 331., 310., 301.,\n",
       "        250., 266., 236., 221., 224., 204., 177., 163., 134., 106., 102.,\n",
       "         81.,  68.,  48.,  38.,  10.]),\n",
       " array([2.30514607, 2.35973844, 2.41433082, 2.46892319, 2.52351556,\n",
       "        2.57810793, 2.63270031, 2.68729268, 2.74188505, 2.79647742,\n",
       "        2.8510698 , 2.90566217, 2.96025454, 3.01484691, 3.06943929,\n",
       "        3.12403166, 3.17862403, 3.2332164 , 3.28780878, 3.34240115,\n",
       "        3.39699352, 3.45158589, 3.50617827, 3.56077064, 3.61536301,\n",
       "        3.66995538, 3.72454776, 3.77914013, 3.8337325 , 3.88832487,\n",
       "        3.94291724, 3.99750962, 4.05210199, 4.10669436, 4.16128673,\n",
       "        4.21587911, 4.27047148, 4.32506385, 4.37965622, 4.4342486 ,\n",
       "        4.48884097, 4.54343334, 4.59802571, 4.65261809, 4.70721046,\n",
       "        4.76180283, 4.8163952 , 4.87098758, 4.92557995, 4.98017232,\n",
       "        5.03476469, 5.08935707, 5.14394944, 5.19854181, 5.25313418,\n",
       "        5.30772656, 5.36231893, 5.4169113 , 5.47150367, 5.52609605,\n",
       "        5.58068842]),\n",
       " <a list of 60 Patch objects>)"
      ]
     },
     "execution_count": 69,
     "metadata": {},
     "output_type": "execute_result"
    },
    {
     "data": {
      "image/png": "[encoded data removed]",
      "text/plain": [
       "<Figure size 432x288 with 1 Axes>"
      ]
     },
     "metadata": {
      "needs_background": "light"
     },
     "output_type": "display_data"
    }
   ],
   "source": [
    "l = 2.3 # left position\n",
    "m = 3.5 # mode (being the peak location of the triangle)\n",
    "r = 5.6 # Right position of the triangle\n",
    "size = 20000 #the larger the size the more accurate the triangle will be\n",
    "\n",
    "t = np.random.triangular(l,m,r,size)\n",
    "plt.title(\"Figure 1A\")\n",
    "plt.hist(t,bins = 60)"
   ]
  },
  {
   "cell_type": "code",
   "execution_count": 70,
   "metadata": {},
   "outputs": [
    {
     "data": {
      "text/plain": [
       "<matplotlib.axes._subplots.AxesSubplot at 0x1d4d5cbb588>"
      ]
     },
     "execution_count": 70,
     "metadata": {},
     "output_type": "execute_result"
    },
    {
     "data": {
      "image/png": "[encoded data removed]",
      "text/plain": [
       "<Figure size 432x288 with 1 Axes>"
      ]
     },
     "metadata": {
      "needs_background": "light"
     },
     "output_type": "display_data"
    }
   ],
   "source": [
    "plt.title(\"Figure 1B\")\n",
    "sns.distplot(t)"
   ]
  },
  {
   "cell_type": "code",
   "execution_count": 73,
   "metadata": {},
   "outputs": [
    {
     "data": {
      "text/plain": [
       "(array([ 2.,  3.,  8.,  9., 11.,  5., 13., 18., 17., 17., 11., 20., 20.,\n",
       "        19., 28., 23., 23., 29., 19., 28., 26., 27., 33., 24., 27., 37.,\n",
       "        37., 31., 22., 30., 21., 23., 22., 24., 17., 24., 16., 18., 19.,\n",
       "        23., 19., 18.,  7., 13., 15., 15., 16., 14.,  8.,  8.,  3.,  5.,\n",
       "         5.,  6.,  9.,  3.,  4.,  4.,  3.,  1.]),\n",
       " array([2.38947069, 2.44056964, 2.49166858, 2.54276753, 2.59386648,\n",
       "        2.64496542, 2.69606437, 2.74716331, 2.79826226, 2.8493612 ,\n",
       "        2.90046015, 2.95155909, 3.00265804, 3.05375698, 3.10485593,\n",
       "        3.15595487, 3.20705382, 3.25815277, 3.30925171, 3.36035066,\n",
       "        3.4114496 , 3.46254855, 3.51364749, 3.56474644, 3.61584538,\n",
       "        3.66694433, 3.71804327, 3.76914222, 3.82024116, 3.87134011,\n",
       "        3.92243905, 3.973538  , 4.02463695, 4.07573589, 4.12683484,\n",
       "        4.17793378, 4.22903273, 4.28013167, 4.33123062, 4.38232956,\n",
       "        4.43342851, 4.48452745, 4.5356264 , 4.58672534, 4.63782429,\n",
       "        4.68892324, 4.74002218, 4.79112113, 4.84222007, 4.89331902,\n",
       "        4.94441796, 4.99551691, 5.04661585, 5.0977148 , 5.14881374,\n",
       "        5.19991269, 5.25101163, 5.30211058, 5.35320952, 5.40430847,\n",
       "        5.45540742]),\n",
       " <a list of 60 Patch objects>)"
      ]
     },
     "execution_count": 73,
     "metadata": {},
     "output_type": "execute_result"
    },
    {
     "data": {
      "image/png": "[encoded data removed]",
      "text/plain": [
       "<Figure size 432x288 with 1 Axes>"
      ]
     },
     "metadata": {
      "needs_background": "light"
     },
     "output_type": "display_data"
    }
   ],
   "source": [
    "l1 = 2.3 # left position\n",
    "m1 = 3.5 # mode (being the peak location of the triangle)\n",
    "r1 = 5.6 # Right position of the triangle\n",
    "size1 = 1000 #the larger the size the more accurate the triangle will be\n",
    "\n",
    "t1 = np.random.triangular(l1,m1,r1,size1)\n",
    "plt.title(\"Figure 2A\")\n",
    "plt.hist(t1,bins = 60)"
   ]
  },
  {
   "cell_type": "code",
   "execution_count": 74,
   "metadata": {},
   "outputs": [
    {
     "data": {
      "text/plain": [
       "<matplotlib.axes._subplots.AxesSubplot at 0x1d4d5ee1128>"
      ]
     },
     "execution_count": 74,
     "metadata": {},
     "output_type": "execute_result"
    },
    {
     "data": {
      "image/png": "[encoded data removed]",
      "text/plain": [
       "<Figure size 432x288 with 1 Axes>"
      ]
     },
     "metadata": {
      "needs_background": "light"
     },
     "output_type": "display_data"
    }
   ],
   "source": [
    "plt.title(\"Figure 2B\")\n",
    "sns.distplot(t1)"
   ]
  },
  {
   "cell_type": "markdown",
   "metadata": {},
   "source": [
    "## Conclusion\n",
    "\n",
    "From playing around with the parameters of the Triangular function, It is clear that the output shape is supposed to be triangular, The shape will be more accurate depending on how large the 'size' variable is. The mode variable sets the peak of the triangle.\n",
    "\n",
    "In the first plot Figure 1A above has a size of 20000 and it is clear that the shape is triangular, While Figure 2A has a size of 1000 and it not as clear"
   ]
  },
  {
   "cell_type": "markdown",
   "metadata": {},
   "source": [
    "## 5. numpy.random.negative_binomial(n, p, size=None)\n",
    "\n",
    "n : int or array_like of ints\n",
    "\n",
    "p : float or array_like of floats\n",
    "\n",
    "size : int or tuple of ints, optional\n",
    "\n",
    "The probability density for the negative binomial distribution is\n",
    "\n",
    "<img src=\"negBin.png\">\n",
    "\n",
    "where n is the number of successes, p is the probability of success, and N+n is the number of trials. The negative binomial distribution gives the probability of N failures given n successes, with a success on the last trial.\n",
    "\n",
    "If one throws a die repeatedly until the third time a “1” appears, then the probability distribution of the number of non-“1”s that appear before the third “1” is a negative binomial distribution.\n"
   ]
  },
  {
   "cell_type": "code",
   "execution_count": 51,
   "metadata": {},
   "outputs": [
    {
     "data": {
      "text/plain": [
       "<matplotlib.axes._subplots.AxesSubplot at 0x1d4d40d7ac8>"
      ]
     },
     "execution_count": 51,
     "metadata": {},
     "output_type": "execute_result"
    },
    {
     "data": {
      "image/png": "[encoded data removed]",
      "text/plain": [
       "<Figure size 432x288 with 1 Axes>"
      ]
     },
     "metadata": {
      "needs_background": "light"
     },
     "output_type": "display_data"
    }
   ],
   "source": [
    "n= 12\n",
    "p=0.5\n",
    "size=5000\n",
    "neg = np.random.negative_binomial(n,p,size)\n",
    "sns.distplot(neg,bins=50)"
   ]
  },
  {
   "cell_type": "code",
   "execution_count": 52,
   "metadata": {},
   "outputs": [
    {
     "data": {
      "text/plain": [
       "<matplotlib.axes._subplots.AxesSubplot at 0x1d4d41a1d68>"
      ]
     },
     "execution_count": 52,
     "metadata": {},
     "output_type": "execute_result"
    },
    {
     "data": {
      "image/png": "[encoded data removed]",
      "text/plain": [
       "<Figure size 432x288 with 1 Axes>"
      ]
     },
     "metadata": {
      "needs_background": "light"
     },
     "output_type": "display_data"
    }
   ],
   "source": [
    "n = 10\n",
    "n2 = 20\n",
    "n3 = 30\n",
    "p = 0.5\n",
    "size=5000\n",
    "neg = np.random.negative_binomial(n,p,size)\n",
    "neg1 = np.random.negative_binomial(n2,p,size)\n",
    "neg2 = np.random.negative_binomial(n3,p,size)\n",
    "sns.distplot(neg,bins=50)\n",
    "sns.distplot(neg1,bins=50)\n",
    "sns.distplot(neg2,bins=50)"
   ]
  },
  {
   "cell_type": "markdown",
   "metadata": {},
   "source": [
    "From the above graph it is clear that the curves get steeper the lower the n number, the blue curve n=10,orange curve n=10 and the green curve n=30\n",
    "\n"
   ]
  },
  {
   "cell_type": "markdown",
   "metadata": {},
   "source": [
    "#  <font color='red'>Numpy Seed</font>"
   ]
  },
  {
   "cell_type": "markdown",
   "metadata": {},
   "source": [
    "### Explain the use of seeds in generating pseudorandom numbers\n",
    "\n",
    "A random seed specifies the start point when a computer generates a random number sequence. This can be any number, but it usually comes from seconds on a computer system’s clock.\n",
    "\n",
    "For example, let’s say you wanted to generate a random number.If you set the seed before generating the random number, you’ll be able to use the same set of random numbers again. If you typed “6” into the box, and typed “6” the next time you run the random number generator, you will be given the same set of random numbers. If you type “9”, you’ll get an entirely different set of numbers. But if you revert back to a seed of 6, then you’ll get the same set of random numbers you started with.\n",
    "\n",
    "### numpy.random.seed(seed=None)"
   ]
  },
  {
   "cell_type": "code",
   "execution_count": 53,
   "metadata": {},
   "outputs": [
    {
     "name": "stdout",
     "output_type": "stream",
     "text": [
      "[0.26490404 0.884027   0.32382504 0.44777717 0.54862468]\n",
      "[0.957037   0.82409337 0.79854265 0.49161035 0.59571072]\n"
     ]
    }
   ],
   "source": [
    "print(np.random.rand(5))\n",
    "print(np.random.rand(5))"
   ]
  },
  {
   "cell_type": "markdown",
   "metadata": {},
   "source": [
    "Above i have ran the random number generator twice and printed the results, As seen all the results are completely different,\n",
    "I will set the seed and run the same test again below"
   ]
  },
  {
   "cell_type": "code",
   "execution_count": 54,
   "metadata": {},
   "outputs": [
    {
     "name": "stdout",
     "output_type": "stream",
     "text": [
      "[0.89286015 0.33197981 0.82122912 0.04169663 0.10765668]\n",
      "[0.89286015 0.33197981 0.82122912 0.04169663 0.10765668]\n"
     ]
    }
   ],
   "source": [
    "np.random.seed(6)\n",
    "print(np.random.rand(5))\n",
    "np.random.seed(6)\n",
    "print(np.random.rand(5))"
   ]
  },
  {
   "cell_type": "markdown",
   "metadata": {},
   "source": [
    "After setting the seed above and running the random number generator twice we can see that the two outputs are identical"
   ]
  },
  {
   "cell_type": "code",
   "execution_count": 83,
   "metadata": {},
   "outputs": [
    {
     "name": "stdout",
     "output_type": "stream",
     "text": [
      "Set seed to 6 and run rand() function: \n",
      "[0.89286015 0.33197981 0.82122912 0.04169663 0.10765668]\n",
      " \n",
      "Now set seed to 9 and run rand() function: \n",
      "[0.01037415 0.50187459 0.49577329 0.13382953 0.14211109]\n",
      " \n",
      "Set seed back to 6 and run rand() function one last time: \n",
      "[0.89286015 0.33197981 0.82122912 0.04169663 0.10765668]\n"
     ]
    }
   ],
   "source": [
    "print(\"Set seed to 6 and run rand() function: \")\n",
    "np.random.seed(6)\n",
    "print(np.random.rand(5))\n",
    "\n",
    "print(\" \")\n",
    "print(\"Now set seed to 9 and run rand() function: \")\n",
    "np.random.seed(9)\n",
    "print(np.random.rand(5))\n",
    "\n",
    "print(\" \")\n",
    "print(\"Set seed back to 6 and run rand() function one last time: \")\n",
    "np.random.seed(6)\n",
    "print(np.random.rand(5))"
   ]
  },
  {
   "cell_type": "markdown",
   "metadata": {},
   "source": [
    "From the above tests we can see that if the seed is set before calling the rand function the same numbers will be given every single time, that is seen just above where is set the seed to 6 and then to 9 and then back to 6 to see the results"
   ]
  },
  {
   "cell_type": "markdown",
   "metadata": {},
   "source": [
    "#  <font color='red'>References</font>\n",
    "\n",
    "https://docs.scipy.org/doc/numpy-1.16.0/reference/routines.random.html\n",
    "\n",
    "https://www.investopedia.com/terms/n/normaldistribution.asp\n",
    "\n",
    "https://docs.w3cub.com/numpy~1.14/generated/numpy.random.beta/\n",
    "\n",
    "https://www.youtube.com/watch?v=5QraKdZ_hUo\n",
    "\n",
    "https://en.wikipedia.org/wiki/Negative_binomial_distribution\n",
    "\n",
    "https://www.boost.org/doc/libs/1_65_0/libs/math/doc/html/math_toolkit/dist_ref/dists/negative_binomial_dist.html\n",
    "\n",
    "https://stackoverflow.com/questions/10628262/inserting-image-into-ipython-notebook-markdown\n",
    "\n",
    "https://www.statisticshowto.datasciencecentral.com/random-seed-definition/\n",
    "\n",
    "https://stackoverflow.com/questions/15474159/shuffle-vs-permute-numpy"
   ]
  }
 ],
 "metadata": {
  "kernelspec": {
   "display_name": "Python 3",
   "language": "python",
   "name": "python3"
  },
  "language_info": {
   "codemirror_mode": {
    "name": "ipython",
    "version": 3
   },
   "file_extension": ".py",
   "mimetype": "text/x-python",
   "name": "python",
   "nbconvert_exporter": "python",
   "pygments_lexer": "ipython3",
   "version": "3.7.1"
  }
 },
 "nbformat": 4,
 "nbformat_minor": 2
}
