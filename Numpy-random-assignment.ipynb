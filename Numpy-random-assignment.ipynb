{
 "cells": [
  {
   "cell_type": "markdown",
   "metadata": {},
   "source": [
    "# <span style='background :yellow' > Programming for Data Analysis Assignment </span>\n",
    "\n",
    "### Assignment Outlines\n",
    "The following assignment concerns the numpy.random package in Python \n",
    "1. Explain the overall purpose of the package. \n",
    "2. Explain the use of the “Simple random data” and “Permutations” functions. \n",
    "3. Explain the use and purpose of at least ﬁve “Distributions” functions. \n",
    "4. Explain the use of seeds in generating pseudorandom numbers.\n",
    "\n",
    "### The numpy.random package"
   ]
  },
  {
   "cell_type": "markdown",
   "metadata": {},
   "source": [
    "The numpy.random package is a sub package of numpy. NumPy is the fundamental package for scientific computing in Python. It is a Python library that provides a multidimensional array object, various derived objects (such as masked arrays and matrices), and an assortment of routines for fast operations on arrays, including mathematical, logical, shape manipulation, sorting, selecting, I/O, discrete Fourier transforms, basic linear algebra, basic statistical operations, random simulation and much more.\n",
    "\n",
    "There are four different sections to the numpy.random package\n",
    "1. Simple random Data\n",
    "\n",
    "Simple random data is used for the basic functions of the package such as generate a random integer between 1 and 10, or generate an array of 2 rows and 2 columns and fill it will random numbers between 0-1\n",
    "There are assumptions based on the numbers that are generated.\n",
    "\n",
    "2. Permutations\n",
    "\n",
    "This section only contains two functions and they are both similar as they both shuffle or rearrange the number or numbers they are given\n",
    "\n",
    "3. Distributions\n",
    "\n",
    "The distributions section is the largest section of the four and they are all different probability distributions.\n",
    "\n",
    "4. Random Generator\n",
    "\n",
    "This section you can get the seed of the random number generator, get the state and set the state."
   ]
  },
  {
   "cell_type": "markdown",
   "metadata": {},
   "source": [
    "# <font color='red'>Simple random data</font>\n",
    "\n",
    "In this section i am going to pick a few of the functions and try to explain them using plots instead of text."
   ]
  },
  {
   "cell_type": "markdown",
   "metadata": {},
   "source": [
    "-------------------------------------------------------------------------------------------------------------------------------\n",
    "## 1. rand(d0, d1, …, dn)"
   ]
  },
  {
   "cell_type": "raw",
   "metadata": {},
   "source": [
    "Rand is a function that can take unlimited inputs and returns a set of values in a given"
   ]
  },
  {
   "cell_type": "code",
   "execution_count": 1,
   "metadata": {},
   "outputs": [],
   "source": [
    "import numpy as np\n",
    "import matplotlib.pyplot as plt\n",
    "import seaborn as sns"
   ]
  },
  {
   "cell_type": "code",
   "execution_count": 63,
   "metadata": {},
   "outputs": [
    {
     "data": {
      "text/plain": [
       "array([0.60502047, 0.48132277, 0.02081698, 0.9495527 , 0.6378629 ,\n",
       "       0.14279617, 0.81907676, 0.85011492, 0.67175528, 0.18639537,\n",
       "       0.37792293, 0.39428949, 0.11690824, 0.11142646, 0.20405215,\n",
       "       0.80244372, 0.53593326, 0.82034081, 0.2426944 , 0.78359112,\n",
       "       0.95546231, 0.18475653, 0.86503604, 0.60387481, 0.22776163,\n",
       "       0.73987438, 0.84268982, 0.24875961, 0.47482879, 0.68465675,\n",
       "       0.75296789, 0.88032546, 0.76997253, 0.21643937, 0.04350916,\n",
       "       0.7793846 , 0.55836671, 0.43123139, 0.86856683, 0.17553839,\n",
       "       0.12486688, 0.70194578, 0.68258948, 0.02183064, 0.12204869,\n",
       "       0.10092482, 0.62161585, 0.96288234, 0.0911886 , 0.31463409])"
      ]
     },
     "execution_count": 63,
     "metadata": {},
     "output_type": "execute_result"
    }
   ],
   "source": [
    "x = np.random.rand(50)\n",
    "x"
   ]
  },
  {
   "cell_type": "code",
   "execution_count": 64,
   "metadata": {},
   "outputs": [
    {
     "data": {
      "text/plain": [
       "(array([6., 8., 4., 3., 3., 2., 5., 6., 9., 4.]),\n",
       " array([0.02081698, 0.11502352, 0.20923005, 0.30343659, 0.39764312,\n",
       "        0.49184966, 0.5860562 , 0.68026273, 0.77446927, 0.8686758 ,\n",
       "        0.96288234]),\n",
       " <a list of 10 Patch objects>)"
      ]
     },
     "execution_count": 64,
     "metadata": {},
     "output_type": "execute_result"
    },
    {
     "data": {
      "image/png": "[encoded data removed]",
      "text/plain": [
       "<Figure size 432x288 with 1 Axes>"
      ]
     },
     "metadata": {
      "needs_background": "light"
     },
     "output_type": "display_data"
    }
   ],
   "source": [
    "plt.hist(x)"
   ]
  },
  {
   "cell_type": "markdown",
   "metadata": {},
   "source": [
    "Most basic is to see what happens when we send a single value into the function, and as send above when 10 is entered it returns an array of 10 random numbers between 0-1"
   ]
  },
  {
   "cell_type": "code",
   "execution_count": 62,
   "metadata": {},
   "outputs": [
    {
     "data": {
      "text/plain": [
       "array([10,  7,  9,  2,  3,  5, 11,  1,  8,  6,  4,  0])"
      ]
     },
     "execution_count": 62,
     "metadata": {},
     "output_type": "execute_result"
    }
   ],
   "source": [
    "x1 = np.random.rand(3,3)\n",
    "x"
   ]
  },
  {
   "cell_type": "code",
   "execution_count": 65,
   "metadata": {},
   "outputs": [
    {
     "data": {
      "text/plain": [
       "([array([1., 1., 0., 0., 1., 0., 0., 0., 0., 0.]),\n",
       "  array([1., 1., 0., 0., 0., 0., 0., 0., 0., 1.]),\n",
       "  array([0., 0., 0., 0., 2., 0., 0., 0., 0., 1.])],\n",
       " array([0.06211589, 0.13794495, 0.213774  , 0.28960305, 0.3654321 ,\n",
       "        0.44126116, 0.51709021, 0.59291926, 0.66874831, 0.74457737,\n",
       "        0.82040642]),\n",
       " <a list of 3 Lists of Patches objects>)"
      ]
     },
     "execution_count": 65,
     "metadata": {},
     "output_type": "execute_result"
    },
    {
     "data": {
      "image/png": "[encoded data removed]",
      "text/plain": [
       "<Figure size 432x288 with 1 Axes>"
      ]
     },
     "metadata": {
      "needs_background": "light"
     },
     "output_type": "display_data"
    }
   ],
   "source": [
    "plt.hist(x1)"
   ]
  },
  {
   "cell_type": "markdown",
   "metadata": {},
   "source": [
    "Two input values then shows an array with two sets of arrays with three values between 0-1"
   ]
  },
  {
   "cell_type": "code",
   "execution_count": 6,
   "metadata": {},
   "outputs": [],
   "source": [
    "x3 = np.random.rand(1,3,2,5)"
   ]
  },
  {
   "cell_type": "markdown",
   "metadata": {},
   "source": [
    "A four input rand function shows an array with Three sets of random numbers and in each one of them sets is two more sets containing five random numbers between 0-1"
   ]
  },
  {
   "cell_type": "code",
   "execution_count": 7,
   "metadata": {},
   "outputs": [
    {
     "data": {
      "text/plain": [
       "array([[[[0.77343144, 0.63967965, 0.52315183, 0.26194988, 0.03415793],\n",
       "         [0.71445671, 0.43121547, 0.21365938, 0.32684837, 0.0650709 ]],\n",
       "\n",
       "        [[0.3794156 , 0.8983765 , 0.20923002, 0.93199524, 0.61964323],\n",
       "         [0.9145509 , 0.0183485 , 0.39194428, 0.48146161, 0.03067129]],\n",
       "\n",
       "        [[0.80323187, 0.08116662, 0.35091955, 0.18844176, 0.62940079],\n",
       "         [0.26688536, 0.41799494, 0.54591264, 0.83534623, 0.61518351]]],\n",
       "\n",
       "\n",
       "       [[[0.65108148, 0.29536018, 0.3069834 , 0.82263981, 0.40762639],\n",
       "         [0.54650893, 0.67900165, 0.75025003, 0.31851647, 0.82600167]],\n",
       "\n",
       "        [[0.95586247, 0.22013818, 0.63148549, 0.00321062, 0.47814103],\n",
       "         [0.85061195, 0.97844043, 0.48283205, 0.54781732, 0.99073228]],\n",
       "\n",
       "        [[0.25256534, 0.94462143, 0.54259964, 0.52791562, 0.16104121],\n",
       "         [0.98187181, 0.9445127 , 0.94796868, 0.38974314, 0.17485129]]]])"
      ]
     },
     "execution_count": 7,
     "metadata": {},
     "output_type": "execute_result"
    }
   ],
   "source": [
    "np.random.rand(2,3,2,5)"
   ]
  },
  {
   "cell_type": "markdown",
   "metadata": {},
   "source": [
    "A four input random array with similar input values apart from the first where the first value is a 2. This shows a single array with two sets of arrays that contains two sets with five random values between 0-1."
   ]
  },
  {
   "cell_type": "code",
   "execution_count": 8,
   "metadata": {},
   "outputs": [
    {
     "data": {
      "text/plain": [
       "array([], dtype=float64)"
      ]
     },
     "execution_count": 8,
     "metadata": {},
     "output_type": "execute_result"
    }
   ],
   "source": [
    "np.random.rand(0)"
   ]
  },
  {
   "cell_type": "code",
   "execution_count": 9,
   "metadata": {},
   "outputs": [
    {
     "data": {
      "text/plain": [
       "0.9272691806377797"
      ]
     },
     "execution_count": 9,
     "metadata": {},
     "output_type": "execute_result"
    }
   ],
   "source": [
    "np.random.rand()"
   ]
  },
  {
   "cell_type": "markdown",
   "metadata": {},
   "source": [
    "##### Conclusion on rand() function\n",
    "From Looking at the numpy.random.rand function it appears that the last number given in the function is the amount of random numbers between 0-1 in each array, so a single number input gives that number of random numbers.\n",
    "An input value of (2,3) will give two array sets with 3 random numbers in each.\n",
    "An input of (3,2,1) will give three array sets each containing two array sets that each contain one random number,\n",
    "\n",
    "A negative number gives an ValueError\n",
    "\n",
    "An input value of 0 gives an empty array\n",
    "\n",
    "an empty function will give an output of a single random value\n",
    "\n"
   ]
  },
  {
   "cell_type": "markdown",
   "metadata": {},
   "source": [
    "-------------------------------------------------------------------------------------------------------------------------------\n",
    "## 2. numpy.random.randn(d0, d1, ..., dn)"
   ]
  },
  {
   "cell_type": "code",
   "execution_count": 10,
   "metadata": {},
   "outputs": [
    {
     "data": {
      "text/plain": [
       "array([ 0.45147748,  0.29656   ,  0.62985685, -0.29200031,  1.4723483 ,\n",
       "       -2.65578567,  0.78110869, -0.10931521,  1.20843895,  0.12831104])"
      ]
     },
     "execution_count": 10,
     "metadata": {},
     "output_type": "execute_result"
    }
   ],
   "source": [
    "n = np.random.randn(10)\n",
    "n"
   ]
  },
  {
   "cell_type": "code",
   "execution_count": 11,
   "metadata": {},
   "outputs": [
    {
     "data": {
      "text/plain": [
       "(array([1., 0., 0., 0., 0., 1., 2., 3., 1., 2.]),\n",
       " array([-2.65578567, -2.24297228, -1.83015888, -1.41734548, -1.00453208,\n",
       "        -0.59171869, -0.17890529,  0.23390811,  0.6467215 ,  1.0595349 ,\n",
       "         1.4723483 ]),\n",
       " <a list of 10 Patch objects>)"
      ]
     },
     "execution_count": 11,
     "metadata": {},
     "output_type": "execute_result"
    },
    {
     "data": {
      "image/png": "[encoded data removed]",
      "text/plain": [
       "<Figure size 432x288 with 1 Axes>"
      ]
     },
     "metadata": {
      "needs_background": "light"
     },
     "output_type": "display_data"
    }
   ],
   "source": [
    "plt.hist(n)"
   ]
  },
  {
   "cell_type": "code",
   "execution_count": 12,
   "metadata": {},
   "outputs": [
    {
     "data": {
      "text/plain": [
       "array([], dtype=float64)"
      ]
     },
     "execution_count": 12,
     "metadata": {},
     "output_type": "execute_result"
    }
   ],
   "source": [
    "np.random.randn(0)"
   ]
  },
  {
   "cell_type": "markdown",
   "metadata": {},
   "source": [
    "dtype=float64 is the return type of the function"
   ]
  },
  {
   "cell_type": "code",
   "execution_count": 13,
   "metadata": {},
   "outputs": [
    {
     "data": {
      "text/plain": [
       "array([[[-1.57922626],\n",
       "        [ 0.72867824]],\n",
       "\n",
       "       [[ 0.60560374],\n",
       "        [ 0.26483895]],\n",
       "\n",
       "       [[ 0.37825971],\n",
       "        [-1.91618039]]])"
      ]
     },
     "execution_count": 13,
     "metadata": {},
     "output_type": "execute_result"
    }
   ],
   "source": [
    "np.random.randn(3,2,1)"
   ]
  },
  {
   "cell_type": "code",
   "execution_count": 14,
   "metadata": {},
   "outputs": [
    {
     "data": {
      "text/plain": [
       "array([[[ 8.20118511,  9.14599361,  6.60612805,  9.42124024,\n",
       "          7.45748533],\n",
       "        [10.55507813,  9.59961178,  7.55404656,  9.93066499,\n",
       "          9.81319261],\n",
       "        [ 8.41974235,  7.50588075,  7.78850071,  6.93335091,\n",
       "          7.26628696]],\n",
       "\n",
       "       [[ 8.4727546 ,  6.25153284,  8.75869329,  6.12791018,\n",
       "          8.64522779],\n",
       "        [ 7.17749028,  8.60510655,  7.65001586,  7.68618263,\n",
       "          8.36156041],\n",
       "        [ 6.91531776,  7.73986214,  8.33676528,  7.98565014,\n",
       "          8.13084776]],\n",
       "\n",
       "       [[ 7.12871397,  8.08067395,  6.97138315,  8.54213761,\n",
       "          6.959467  ],\n",
       "        [ 8.32562305,  8.13639162,  7.63563422,  6.71211607,\n",
       "          7.58936921],\n",
       "        [ 8.4564151 ,  7.00535465,  7.95085717,  7.88565592,\n",
       "          7.64152504]]])"
      ]
     },
     "execution_count": 14,
     "metadata": {},
     "output_type": "execute_result"
    }
   ],
   "source": [
    "np.random.randn(3,3,5)+4*2"
   ]
  },
  {
   "cell_type": "markdown",
   "metadata": {},
   "source": [
    "#### Conclusion on the randn() function\n",
    "\n",
    "From running some tests on the randn() function it is clear that it had the same functionality as the rand() function but it gives random number both positive and negative\n",
    "\n",
    "A positive number has to be input into the function, If a negative number is input a valueError is thrown"
   ]
  },
  {
   "cell_type": "markdown",
   "metadata": {},
   "source": [
    "-------------------------------------------------------------------------------------------------------------------------------\n",
    "## 3. numpy.random.randint(low, high=None, size=None, dtype='l')"
   ]
  },
  {
   "cell_type": "markdown",
   "metadata": {},
   "source": [
    "Returns a set of numbers from low to high of type int"
   ]
  },
  {
   "cell_type": "code",
   "execution_count": 15,
   "metadata": {},
   "outputs": [
    {
     "data": {
      "text/plain": [
       "4"
      ]
     },
     "execution_count": 15,
     "metadata": {},
     "output_type": "execute_result"
    }
   ],
   "source": [
    "#prints a random number between 0-10 as 10 is the max in the situation\n",
    "np.random.randint(10)"
   ]
  },
  {
   "cell_type": "code",
   "execution_count": 16,
   "metadata": {},
   "outputs": [
    {
     "data": {
      "text/plain": [
       "4"
      ]
     },
     "execution_count": 16,
     "metadata": {},
     "output_type": "execute_result"
    }
   ],
   "source": [
    "#prints a random number with a low of 3 and a high of 7\n",
    "np.random.randint(3,7)"
   ]
  },
  {
   "cell_type": "code",
   "execution_count": 17,
   "metadata": {},
   "outputs": [
    {
     "data": {
      "text/plain": [
       "array([[[2],\n",
       "        [1]],\n",
       "\n",
       "       [[2],\n",
       "        [0]],\n",
       "\n",
       "       [[1],\n",
       "        [2]]])"
      ]
     },
     "execution_count": 17,
     "metadata": {},
     "output_type": "execute_result"
    }
   ],
   "source": [
    "#prints a 3 dimensional array with a high value of 3\n",
    "np.random.randint(3,size=(3,2,1))"
   ]
  },
  {
   "cell_type": "code",
   "execution_count": 18,
   "metadata": {},
   "outputs": [
    {
     "data": {
      "text/plain": [
       "array([[[3],\n",
       "        [6]],\n",
       "\n",
       "       [[6],\n",
       "        [5]],\n",
       "\n",
       "       [[3],\n",
       "        [4]]])"
      ]
     },
     "execution_count": 18,
     "metadata": {},
     "output_type": "execute_result"
    }
   ],
   "source": [
    "#A three dimensional array with a low of 3 and a high of 7 so array values have to be between 3 and including 6\n",
    "np.random.randint(3,7,size=(3,2,1))"
   ]
  },
  {
   "cell_type": "code",
   "execution_count": 19,
   "metadata": {},
   "outputs": [
    {
     "data": {
      "text/plain": [
       "array([[[5],\n",
       "        [5]],\n",
       "\n",
       "       [[4],\n",
       "        [5]],\n",
       "\n",
       "       [[6],\n",
       "        [3]]])"
      ]
     },
     "execution_count": 19,
     "metadata": {},
     "output_type": "execute_result"
    }
   ],
   "source": [
    "np.random.randint(3,7,size=(3,2,1),dtype='i')"
   ]
  },
  {
   "cell_type": "markdown",
   "metadata": {},
   "source": [
    "### Conclusion on the randint() function\n",
    "\n",
    "Lets you pick the low and high range of values that is output, Out put shape can also be input,\n",
    "the dtype can be input if you want values greater than 65535, so if you want values greater that that you can set the dtype to 'int64', 'f' will not be accepted and cause an error as that is an unsupported type float\n",
    "\n",
    "A valueError is thrown if the first value(low) is greater than the second value(high) for example randint(7,4)"
   ]
  },
  {
   "cell_type": "markdown",
   "metadata": {},
   "source": [
    "## 4. numpy.random.sample(size=None)"
   ]
  },
  {
   "cell_type": "code",
   "execution_count": 20,
   "metadata": {},
   "outputs": [
    {
     "data": {
      "text/plain": [
       "0.20268300872252254"
      ]
     },
     "execution_count": 20,
     "metadata": {},
     "output_type": "execute_result"
    }
   ],
   "source": [
    "np.random.sample()"
   ]
  },
  {
   "cell_type": "code",
   "execution_count": 21,
   "metadata": {},
   "outputs": [
    {
     "data": {
      "text/plain": [
       "array([0.00565037, 0.28917693, 0.3895041 , 0.170015  , 0.52982961,\n",
       "       0.93795006, 0.16211982, 0.44100836, 0.52276047, 0.38226538])"
      ]
     },
     "execution_count": 21,
     "metadata": {},
     "output_type": "execute_result"
    }
   ],
   "source": [
    "np.random.sample(10)"
   ]
  },
  {
   "cell_type": "code",
   "execution_count": 22,
   "metadata": {},
   "outputs": [
    {
     "data": {
      "text/plain": [
       "array([[0.21951381, 0.47665232],\n",
       "       [0.79987766, 0.67321522],\n",
       "       [0.19124119, 0.28913702],\n",
       "       [0.56243006, 0.17594154],\n",
       "       [0.47181465, 0.29266882],\n",
       "       [0.10372115, 0.81259875],\n",
       "       [0.40435475, 0.28561722],\n",
       "       [0.86313671, 0.11851289],\n",
       "       [0.02284457, 0.3294577 ],\n",
       "       [0.68503647, 0.57273014]])"
      ]
     },
     "execution_count": 22,
     "metadata": {},
     "output_type": "execute_result"
    }
   ],
   "source": [
    "#np.random.sample(10,2) Gives an error as only a single value is expected\n",
    "s=np.random.sample((10,2))\n",
    "s"
   ]
  },
  {
   "cell_type": "code",
   "execution_count": 23,
   "metadata": {},
   "outputs": [
    {
     "data": {
      "text/plain": [
       "([array([2., 0., 2., 0., 1., 1., 1., 1., 0., 2.]),\n",
       "  array([0., 2., 0., 4., 0., 1., 1., 1., 0., 1.])],\n",
       " array([0.02284457, 0.10687379, 0.190903  , 0.27493222, 0.35896143,\n",
       "        0.44299064, 0.52701986, 0.61104907, 0.69507829, 0.7791075 ,\n",
       "        0.86313671]),\n",
       " <a list of 2 Lists of Patches objects>)"
      ]
     },
     "execution_count": 23,
     "metadata": {},
     "output_type": "execute_result"
    },
    {
     "data": {
      "image/png": "[encoded data removed]",
      "text/plain": [
       "<Figure size 432x288 with 1 Axes>"
      ]
     },
     "metadata": {
      "needs_background": "light"
     },
     "output_type": "display_data"
    }
   ],
   "source": [
    "plt.hist(s)"
   ]
  },
  {
   "cell_type": "markdown",
   "metadata": {},
   "source": [
    "From the test above we can see that all 20 values are between 0.0 and 1.0, so for a default input we can take it that 0-1 is the range of values"
   ]
  },
  {
   "cell_type": "code",
   "execution_count": 24,
   "metadata": {},
   "outputs": [
    {
     "data": {
      "text/plain": [
       "array([3.39895276, 3.19900609, 3.5103073 , 3.28660902, 3.58842767,\n",
       "       3.85680956])"
      ]
     },
     "execution_count": 24,
     "metadata": {},
     "output_type": "execute_result"
    }
   ],
   "source": [
    "np.random.sample(6)+3"
   ]
  },
  {
   "cell_type": "markdown",
   "metadata": {},
   "source": [
    "A Error is not thrown when we add on a integer, so when we add on three the new values will be between 3.0 and 4.0"
   ]
  },
  {
   "cell_type": "code",
   "execution_count": 25,
   "metadata": {},
   "outputs": [
    {
     "data": {
      "text/plain": [
       "array([[0.14883201, 0.54119888],\n",
       "       [0.60526376, 0.10969973],\n",
       "       [0.22628156, 0.49677596],\n",
       "       [0.92991113, 0.1201044 ],\n",
       "       [0.34184535, 0.45295767]])"
      ]
     },
     "execution_count": 25,
     "metadata": {},
     "output_type": "execute_result"
    }
   ],
   "source": [
    "a = np.random.sample((5,2))\n",
    "a"
   ]
  },
  {
   "cell_type": "code",
   "execution_count": 26,
   "metadata": {},
   "outputs": [
    {
     "data": {
      "text/plain": [
       "array([[0.74416005, 2.7059944 ],\n",
       "       [3.02631881, 0.54849865],\n",
       "       [1.13140779, 2.48387981],\n",
       "       [4.64955563, 0.60052198],\n",
       "       [1.70922676, 2.26478836]])"
      ]
     },
     "execution_count": 26,
     "metadata": {},
     "output_type": "execute_result"
    }
   ],
   "source": [
    "5*a"
   ]
  },
  {
   "cell_type": "code",
   "execution_count": 27,
   "metadata": {},
   "outputs": [
    {
     "data": {
      "text/plain": [
       "array([[-4.25583995, -2.2940056 ],\n",
       "       [-1.97368119, -4.45150135],\n",
       "       [-3.86859221, -2.51612019],\n",
       "       [-0.35044437, -4.39947802],\n",
       "       [-3.29077324, -2.73521164]])"
      ]
     },
     "execution_count": 27,
     "metadata": {},
     "output_type": "execute_result"
    }
   ],
   "source": [
    "s1 = 5*a-5\n",
    "s1"
   ]
  },
  {
   "cell_type": "code",
   "execution_count": 28,
   "metadata": {},
   "outputs": [
    {
     "data": {
      "text/plain": [
       "([array([1., 1., 1., 0., 0., 0., 1., 0., 0., 1.]),\n",
       "  array([2., 0., 0., 0., 2., 1., 0., 0., 0., 0.])],\n",
       " array([-4.45150135, -4.04139565, -3.63128996, -3.22118426, -2.81107856,\n",
       "        -2.40097286, -1.99086716, -1.58076147, -1.17065577, -0.76055007,\n",
       "        -0.35044437]),\n",
       " <a list of 2 Lists of Patches objects>)"
      ]
     },
     "execution_count": 28,
     "metadata": {},
     "output_type": "execute_result"
    },
    {
     "data": {
      "image/png": "[encoded data removed]",
      "text/plain": [
       "<Figure size 432x288 with 1 Axes>"
      ]
     },
     "metadata": {
      "needs_background": "light"
     },
     "output_type": "display_data"
    }
   ],
   "source": [
    "plt.hist(s1)"
   ]
  },
  {
   "cell_type": "markdown",
   "metadata": {},
   "source": [
    "## Conclusion on the Sample()\n",
    "\n",
    "From the above tests the sample accepts no parameter or a single parameter, It does not accept floating point numbers or negative numbers.\n",
    "All samples printed are between 0.0 and 1.0\n",
    "A shape can be input as that is a single input for example \"sample((3,2))\"\n",
    "The sample values can then be multiplied,subtracted or added to a different figure\n"
   ]
  },
  {
   "cell_type": "markdown",
   "metadata": {},
   "source": [
    "#  <font color='red'>Permutations</font>\n",
    "\n",
    "Here i will try to describe the two permutations functions\n"
   ]
  },
  {
   "cell_type": "markdown",
   "metadata": {},
   "source": [
    "## 1. numpy.random.shuffle(x)"
   ]
  },
  {
   "cell_type": "code",
   "execution_count": 29,
   "metadata": {},
   "outputs": [
    {
     "data": {
      "text/plain": [
       "array([ 0,  1,  2,  3,  4,  5,  6,  7,  8,  9, 10, 11])"
      ]
     },
     "execution_count": 29,
     "metadata": {},
     "output_type": "execute_result"
    }
   ],
   "source": [
    "x = np.arange(12)\n",
    "x"
   ]
  },
  {
   "cell_type": "code",
   "execution_count": 30,
   "metadata": {},
   "outputs": [
    {
     "data": {
      "text/plain": [
       "array([10,  7,  9,  2,  3,  5, 11,  1,  8,  6,  4,  0])"
      ]
     },
     "execution_count": 30,
     "metadata": {},
     "output_type": "execute_result"
    }
   ],
   "source": [
    "np.random.shuffle(x)\n",
    "x"
   ]
  },
  {
   "cell_type": "markdown",
   "metadata": {},
   "source": [
    "From the above two tests it is clear what the shuffle function does, In the first section of code the numbers are in order from 0-11 and in the second the same numbers are all shuffled"
   ]
  },
  {
   "cell_type": "code",
   "execution_count": 31,
   "metadata": {},
   "outputs": [
    {
     "data": {
      "text/plain": [
       "array([[ 0,  1,  2],\n",
       "       [ 3,  4,  5],\n",
       "       [ 6,  7,  8],\n",
       "       [ 9, 10, 11]])"
      ]
     },
     "execution_count": 31,
     "metadata": {},
     "output_type": "execute_result"
    }
   ],
   "source": [
    "y =np.arange(12).reshape((4,3))\n",
    "y"
   ]
  },
  {
   "cell_type": "code",
   "execution_count": 32,
   "metadata": {},
   "outputs": [
    {
     "data": {
      "text/plain": [
       "array([[ 9, 10, 11],\n",
       "       [ 6,  7,  8],\n",
       "       [ 0,  1,  2],\n",
       "       [ 3,  4,  5]])"
      ]
     },
     "execution_count": 32,
     "metadata": {},
     "output_type": "execute_result"
    }
   ],
   "source": [
    "np.random.shuffle(y)\n",
    "y"
   ]
  },
  {
   "cell_type": "markdown",
   "metadata": {},
   "source": [
    "From the above test using shapes as the input parameters, The sub-arrays are shuffled while the contents remain the same"
   ]
  },
  {
   "cell_type": "markdown",
   "metadata": {},
   "source": [
    "### Conclusion on the Shuffle()\n",
    "\n",
    "Shuffles the contents of an array, If there is sub arrays in that array only the sub array locations are shuffled, The values inside the sub array remain in the same position,\n",
    "\n",
    "Negative and floating point numbers cannot be input"
   ]
  },
  {
   "cell_type": "markdown",
   "metadata": {},
   "source": [
    "## 2. numpy.random.permutation(x)"
   ]
  },
  {
   "cell_type": "code",
   "execution_count": 33,
   "metadata": {},
   "outputs": [
    {
     "data": {
      "text/plain": [
       "array([ 0,  1,  2,  3,  4,  5,  6,  7,  8,  9, 10, 11])"
      ]
     },
     "execution_count": 33,
     "metadata": {},
     "output_type": "execute_result"
    }
   ],
   "source": [
    "x1 = np.arange(12)\n",
    "x1"
   ]
  },
  {
   "cell_type": "code",
   "execution_count": 34,
   "metadata": {},
   "outputs": [
    {
     "data": {
      "text/plain": [
       "array([ 1,  7,  5,  0,  3, 10,  9,  8, 11,  2,  6,  4])"
      ]
     },
     "execution_count": 34,
     "metadata": {},
     "output_type": "execute_result"
    }
   ],
   "source": [
    "np.random.permutation(x1)"
   ]
  },
  {
   "cell_type": "code",
   "execution_count": 35,
   "metadata": {},
   "outputs": [
    {
     "data": {
      "text/plain": [
       "array([[ 0,  1,  2],\n",
       "       [ 3,  4,  5],\n",
       "       [ 6,  7,  8],\n",
       "       [ 9, 10, 11]])"
      ]
     },
     "execution_count": 35,
     "metadata": {},
     "output_type": "execute_result"
    }
   ],
   "source": [
    "y1 =np.arange(12).reshape((4,3))\n",
    "y1"
   ]
  },
  {
   "cell_type": "code",
   "execution_count": 36,
   "metadata": {},
   "outputs": [
    {
     "data": {
      "text/plain": [
       "array([[ 3,  4,  5],\n",
       "       [ 6,  7,  8],\n",
       "       [ 9, 10, 11],\n",
       "       [ 0,  1,  2]])"
      ]
     },
     "execution_count": 36,
     "metadata": {},
     "output_type": "execute_result"
    }
   ],
   "source": [
    "np.random.permutation(y1)"
   ]
  },
  {
   "cell_type": "markdown",
   "metadata": {},
   "source": [
    "### Conclusion on permutation()\n",
    "\n",
    "From running the same tests that were ran on the shuffle function it is clear that the shuffle and permutation functions are the same,\n",
    "\n",
    "Both shuffle the contents of an array that is arranged from 0-10 and both shuffle the sub arrays while leaving the contents the same\n"
   ]
  },
  {
   "cell_type": "markdown",
   "metadata": {},
   "source": [
    "#  <font color='red'>Distributions</font>"
   ]
  },
  {
   "cell_type": "markdown",
   "metadata": {},
   "source": [
    "## 1. numpy.random.normal(loc=0.0, scale=1.0, size=None)¶"
   ]
  },
  {
   "cell_type": "markdown",
   "metadata": {},
   "source": [
    "What is Normal Distribution?\n",
    "Normal distribution, also known as the Gaussian distribution, is a probability distribution that is symmetric about the mean, showing that data near the mean are more frequent in occurrence than data far from the mean. In graph form, normal distribution will appear as a bell curve\n",
    "\n",
    "numpy.random.normal draws random samples from a normal distribution. It has three parameters: loc, scale and size\n",
    "\n",
    "Link: https://www.investopedia.com/terms/n/normaldistribution.asp"
   ]
  },
  {
   "cell_type": "code",
   "execution_count": 39,
   "metadata": {},
   "outputs": [
    {
     "data": {
      "text/plain": [
       "array([-0.34221134,  1.23134606,  1.62077948, ...,  0.27819519,\n",
       "        0.31210544,  0.02258376])"
      ]
     },
     "execution_count": 39,
     "metadata": {},
     "output_type": "execute_result"
    }
   ],
   "source": [
    "n = np.random.normal(size=2000)\n",
    "n"
   ]
  },
  {
   "cell_type": "code",
   "execution_count": 40,
   "metadata": {},
   "outputs": [
    {
     "data": {
      "text/plain": [
       "(array([  8.,  22.,  91., 242., 447., 509., 400., 202.,  71.,   8.]),\n",
       " array([-3.59168008, -2.91843042, -2.24518075, -1.57193109, -0.89868142,\n",
       "        -0.22543176,  0.44781791,  1.12106757,  1.79431723,  2.4675669 ,\n",
       "         3.14081656]),\n",
       " <a list of 10 Patch objects>)"
      ]
     },
     "execution_count": 40,
     "metadata": {},
     "output_type": "execute_result"
    },
    {
     "data": {
      "image/png": "[encoded data removed]",
      "text/plain": [
       "<Figure size 432x288 with 1 Axes>"
      ]
     },
     "metadata": {
      "needs_background": "light"
     },
     "output_type": "display_data"
    }
   ],
   "source": [
    "plt.hist(n)"
   ]
  },
  {
   "cell_type": "code",
   "execution_count": 41,
   "metadata": {},
   "outputs": [
    {
     "name": "stderr",
     "output_type": "stream",
     "text": [
      "C:\\ProgrammingApps\\Anaconda3\\lib\\site-packages\\scipy\\stats\\stats.py:1713: FutureWarning: Using a non-tuple sequence for multidimensional indexing is deprecated; use `arr[tuple(seq)]` instead of `arr[seq]`. In the future this will be interpreted as an array index, `arr[np.array(seq)]`, which will result either in an error or a different result.\n",
      "  return np.add.reduce(sorted[indexer] * weights, axis=axis) / sumval\n"
     ]
    },
    {
     "data": {
      "text/plain": [
       "<matplotlib.axes._subplots.AxesSubplot at 0x25402789780>"
      ]
     },
     "execution_count": 41,
     "metadata": {},
     "output_type": "execute_result"
    },
    {
     "data": {
      "image/png": "[encoded data removed]",
      "text/plain": [
       "<Figure size 432x288 with 1 Axes>"
      ]
     },
     "metadata": {
      "needs_background": "light"
     },
     "output_type": "display_data"
    }
   ],
   "source": [
    "sns.distplot(n)"
   ]
  },
  {
   "cell_type": "code",
   "execution_count": 42,
   "metadata": {
    "scrolled": true
   },
   "outputs": [
    {
     "data": {
      "text/plain": [
       "-0.1132360552686809"
      ]
     },
     "execution_count": 42,
     "metadata": {},
     "output_type": "execute_result"
    }
   ],
   "source": [
    "np.random.normal(loc=0.0,scale=1.0,size=None)"
   ]
  },
  {
   "cell_type": "code",
   "execution_count": 43,
   "metadata": {},
   "outputs": [
    {
     "data": {
      "text/plain": [
       "array([ 1.84303497,  5.52959917,  0.35531983,  0.13131555,  0.68669008,\n",
       "       -0.97701285, -0.19149378,  2.45910456, -0.45413554,  0.67742842,\n",
       "        3.21053068,  0.1433193 ,  1.42294334,  5.07165907,  5.26337563,\n",
       "       -0.6355636 ,  0.54148867, -2.18735778,  0.44283871,  2.95134453,\n",
       "        2.77414563,  1.16431059,  2.51066222,  1.57309114,  0.02695766,\n",
       "        0.55199884,  1.7245176 , -2.48345762,  0.53883111, -2.23355883,\n",
       "        0.66108875,  3.78665531,  2.58845376,  2.18324126, -1.89824958,\n",
       "       -0.97887803,  1.60254093,  1.10528576,  1.73944248, -1.49279797,\n",
       "        3.56317972,  3.43532048,  1.82560566,  1.14943424,  1.67759918,\n",
       "        3.06599694, -0.54106992,  2.6664726 , -0.07918451,  0.7246548 ,\n",
       "        1.27552619,  1.44971301,  2.34345609,  2.85037197,  0.47891995,\n",
       "        2.61844288,  1.08379564,  4.02226354,  3.75914062,  1.37661568,\n",
       "        1.76311285,  0.10682992,  3.7450268 ,  2.81751006,  3.46836871,\n",
       "        3.06043157, -3.99130131, -0.97540937, -1.61750173,  3.75330186,\n",
       "        5.99145998,  1.77072156,  2.73754184,  2.41645965,  0.1682377 ,\n",
       "        1.8865145 , -0.70951121, -1.2055572 ,  1.2182224 ,  4.50998599,\n",
       "        2.29325293,  1.83088507,  5.30741823,  5.0505581 ,  1.70568297,\n",
       "        1.42654339,  1.64839985,  2.89942285,  1.96385981, -0.21058137,\n",
       "        0.25883431,  1.64911749,  1.34936015,  0.65945066,  4.00000422,\n",
       "       -2.20276388,  3.90303505,  3.13502218,  2.37631688,  0.81179898,\n",
       "        0.79986761,  1.30001538,  2.22042678,  2.93770244, -0.14088906,\n",
       "        3.93995998,  2.94139918,  4.12826814,  4.92877402,  1.57435311,\n",
       "        4.76677115,  2.37966745, -1.38710093,  1.18838866,  2.40891921,\n",
       "       -0.37424817,  4.18788466,  5.58331812,  4.06153375, -0.40718897,\n",
       "        1.83561021,  0.37341647,  0.97823163,  0.30591529, -0.17732831,\n",
       "       -0.64422576,  3.48369203,  4.58630924,  3.1219289 ,  2.20397187,\n",
       "        3.57405022,  2.28027893,  3.6491524 ,  6.76937056,  2.20902876,\n",
       "        2.39508412,  3.21543475,  7.32193261,  1.73682212,  2.94631285,\n",
       "        0.82907672,  6.72719618, -0.92845443,  0.99390953,  3.02886143,\n",
       "        3.39644732,  3.64146113,  4.80961222,  0.02947769,  2.07005123,\n",
       "        1.39074275,  5.08610027,  4.36227909,  3.07125944,  2.76196304,\n",
       "        0.2215422 ,  4.73668772,  3.27203344,  4.73318703,  0.62823163,\n",
       "        1.03127156, -0.58755679,  1.07918874,  2.19530106,  4.88621856,\n",
       "        2.03554186, -0.59155426, -0.1658878 ,  3.75010395,  3.68992623,\n",
       "       -0.06684807,  1.7093156 , -0.62297739,  1.88343592,  2.91579327,\n",
       "        2.90403688, -0.55434083,  7.33431847,  0.68306074,  4.42994762,\n",
       "        2.63870569,  2.6437462 ,  0.68217222, -0.73848872,  4.88013059,\n",
       "        1.55796145, -1.23577046, -3.56533802,  3.35289555,  1.94308887,\n",
       "        1.42830621,  5.80692722,  3.98210179,  1.55828169,  3.16130702,\n",
       "        2.31920643,  2.36249792,  3.23386118,  1.0237247 ,  5.73675809,\n",
       "        6.4889236 ,  1.61033199,  0.0252603 ,  3.15895322,  2.31701382,\n",
       "        3.98532545,  0.64102872,  3.32816339, -0.84310863, -2.25099674,\n",
       "        2.06336192,  2.24360576,  0.11614521, -0.26194558,  2.47452066,\n",
       "       -0.9997996 ,  3.18233948,  2.87626656,  2.20285135, -0.29795035,\n",
       "        0.43369069,  1.57308678,  1.76489594,  0.14677848,  3.65545009,\n",
       "       -0.41514206,  0.90644374,  0.84956572,  3.82874319,  2.32409108,\n",
       "        2.21911802,  1.5632396 , -0.34685399,  3.96071856,  2.66708795,\n",
       "        0.19125351,  0.52375148,  2.16346832,  3.03543471,  1.80026414,\n",
       "       -1.18012709,  3.29544291,  5.33180787,  1.35388984,  3.33360532,\n",
       "        2.39022889,  2.29276669,  2.89981615,  2.11606609,  1.99651171,\n",
       "       -0.6884722 , -1.78603087,  4.05258779,  4.24706441,  2.91936867,\n",
       "        1.61390365,  2.88019856,  6.86604851,  0.88636346,  2.7735617 ,\n",
       "        2.9165464 , -1.04482586,  3.30467643,  2.97185539,  3.51859281,\n",
       "        0.39586197,  2.71493452,  1.56149419, -0.11578193,  3.67164225,\n",
       "        1.98544786,  2.96790817,  1.65462311,  2.5447117 ,  0.72692099,\n",
       "       -0.91811421,  5.82189683,  2.20632987,  1.03069855, -0.78628663,\n",
       "        4.36842833,  4.91167537,  4.21589967,  2.77356146,  4.44238211,\n",
       "        2.37524633,  3.97595995,  3.22726503,  3.56787571,  1.11415088,\n",
       "        0.52581063,  4.44389622,  3.56503429,  2.81660096,  4.56797807,\n",
       "        5.44675503,  4.17371755,  4.25814331,  3.5231226 , -1.41343009,\n",
       "        3.55280736,  6.82071673,  3.32212812,  0.5721818 ,  4.31837379,\n",
       "        1.07981905,  4.87008495,  4.20851287,  4.3844667 ,  2.46167996,\n",
       "        2.34610134,  0.57413235, -1.59028864,  1.25074852,  0.73625108,\n",
       "        0.52754002,  2.59938892, -1.75295676,  3.10403979,  2.49629356,\n",
       "       -1.78353261,  1.74635426,  4.91540634,  4.15113372,  5.12740816,\n",
       "        3.67055067,  2.04610061,  4.16356359, -0.65245817,  3.31347202,\n",
       "        3.24157965,  1.60341455,  3.00827857,  3.47090954,  3.99392922,\n",
       "        3.14778671,  4.87651234,  1.07186513, -0.38945643,  2.7428629 ,\n",
       "        1.62870284,  2.96962807,  2.25259739,  1.16294782,  2.29860279,\n",
       "        3.53422016,  1.89103474,  3.37368897,  1.65841525,  4.19149837,\n",
       "        0.95024544,  2.28435635,  3.74999999,  3.0889851 , -0.34745285,\n",
       "        2.46311012,  4.67236164, -0.01533059, -1.91664947,  2.51946373,\n",
       "        3.8162998 ,  3.51476547,  4.29384294, -1.76716674,  5.26446571,\n",
       "        2.53064859, -0.07524842, -0.76913072,  3.82455936, -0.79047565,\n",
       "        0.49588601,  2.88011113,  4.49976648,  0.82344413,  3.63976416,\n",
       "        2.85484115, -1.01597423,  1.60024126,  3.25951273,  4.54430256,\n",
       "       -2.31239295,  2.7549796 ,  2.1938609 ,  1.41424192,  3.33281735,\n",
       "        3.18663968,  4.02615435,  0.01621702,  5.97922453,  3.46800237,\n",
       "        1.41040753,  2.13816619,  2.50531841,  0.25064034,  4.03458923,\n",
       "        0.04813254,  2.37032037,  3.55671485,  3.82357444,  4.02693153,\n",
       "        2.00896026,  0.67526213,  0.10877052,  2.17851847,  5.48781665,\n",
       "        4.07528716,  1.20816865,  1.89260042,  0.82555124,  1.78527663,\n",
       "        1.96464495,  2.53552556,  0.3384267 ,  0.77320046,  1.26210785,\n",
       "        2.19301781,  1.52364405,  0.93577373,  4.12851388,  2.82157762,\n",
       "        1.86486424,  3.01454529,  0.61480729,  4.15899832,  0.57330953,\n",
       "       -1.15119736,  3.18278836,  3.52738163,  2.1864374 ,  3.15053207,\n",
       "        1.11074224,  6.79989165,  0.13578875,  3.11098586,  0.07394199,\n",
       "        0.49037246,  4.66871979,  1.14467502, -0.54030977,  4.25483081,\n",
       "       -4.50836712, -0.10299378, -2.83565461,  0.93762375,  3.84610477,\n",
       "        3.27819895,  5.13028536,  0.51832088,  3.21926284,  1.98590708,\n",
       "        6.17195133,  1.27605209,  2.56799943,  0.42681973,  1.0760138 ,\n",
       "       -0.2714486 ,  5.48836904,  1.6336033 , -1.3028606 , -2.5573153 ,\n",
       "        1.34026864,  4.58776004,  3.35518101,  2.27553696, -0.51839996,\n",
       "       -1.94972051,  5.40138619,  3.80952788,  2.12768749,  4.61905578,\n",
       "        1.82365857,  2.74217238, -0.32476024,  0.97251476, -1.45302432,\n",
       "       -0.07657025,  1.46267982,  2.75717366,  0.35023324,  4.11703512,\n",
       "        3.67075861,  5.55057707,  1.7945097 ,  3.97192942,  1.81994406,\n",
       "        2.49651426,  0.95538411,  0.82457665,  2.79860084,  3.17357772,\n",
       "        0.7787964 ,  3.45552543,  3.64676315,  1.90006951,  1.16153305,\n",
       "       -0.22330884,  5.43511058,  2.15516287,  1.07017572,  3.1833215 ,\n",
       "        2.37213588,  1.92348074,  2.23224285,  3.03162349,  4.79832469,\n",
       "        2.15781773,  3.43387393,  3.25337613,  1.46820145,  2.1636146 ,\n",
       "        7.77398258,  0.28730045,  0.75036263,  3.4180729 ,  4.61687225,\n",
       "       -0.35617536,  0.55212115, -0.167393  ,  3.74606102,  0.53776491,\n",
       "        3.72804843,  2.55386755,  6.07088763, -2.93367447, -0.66163141,\n",
       "        1.0915416 ,  3.64361751, -0.02003605,  0.12030733,  3.08230427,\n",
       "        3.69243699,  6.13967172,  5.61114801,  0.14719955, -0.633752  ,\n",
       "        0.01548817,  1.68760706,  2.46541412,  4.99592688,  2.31486615,\n",
       "        3.12739405,  5.06859858,  3.37857199,  4.30607952,  1.56136106,\n",
       "        1.33376602,  5.24343186,  1.73613013,  3.12256757,  2.6893395 ,\n",
       "        1.69173517,  4.34443555,  4.2738882 ,  1.61049687,  3.14545875,\n",
       "        4.17225328, -0.31740071,  2.12516295,  2.94473602,  1.63362375,\n",
       "        0.43315077,  2.27356456,  5.4870715 , -0.11002376, -2.49607371,\n",
       "        4.03560423,  4.25945658,  1.61796019,  1.88929444, -0.7008798 ,\n",
       "        4.76772792,  0.62349861,  3.88327642,  6.50465268,  3.64756789,\n",
       "       -0.08306956,  0.50991929, -1.97349511,  2.66911438,  5.79258084,\n",
       "        6.96286962,  1.62606995,  2.95769292,  2.85585595,  5.01000285,\n",
       "        3.24868575, -0.09215057,  0.85306226,  0.93501108,  5.74246484,\n",
       "        0.66348374,  5.53769659, -0.35229669, -1.04880552,  3.53901741,\n",
       "        2.05184331, -0.55387858,  4.10439048,  4.64665311,  2.21161163,\n",
       "        1.11992052,  3.04022414,  2.58538491,  2.52788177,  6.02922588,\n",
       "       -0.23022772,  1.74557347,  1.72691487,  1.7604452 ,  4.6755238 ,\n",
       "        0.87032972,  1.09679472,  2.38472692,  2.05195955, -0.56992224,\n",
       "       -0.67400108,  4.87958059,  0.48275454, -0.79490587,  0.60786106,\n",
       "        4.20073227,  3.38781785,  4.84428308,  4.01623011,  3.34983882,\n",
       "        3.87556042,  3.78581241,  4.04312409,  1.67573861,  2.72314123,\n",
       "        1.83472028, -2.90930848,  0.6699883 ,  1.46407464,  4.1442782 ,\n",
       "        4.0151919 ,  7.63779375,  0.88689212,  6.99915777,  3.73141519,\n",
       "       -0.85773541,  3.37085418,  1.30533152,  4.40242273,  2.74281813,\n",
       "        4.91178549,  3.05806736,  3.38623291,  2.37681818, -0.60805249,\n",
       "        1.93743288,  5.00601887,  2.56598629,  2.98213821,  4.04682518,\n",
       "        4.09613435,  2.74839826,  3.18764256,  5.96704021,  5.13001365,\n",
       "        6.96497305,  7.67635459,  0.22428998,  4.01431373,  0.18057274,\n",
       "        2.50442087,  3.80470372,  3.09718041,  1.72996848,  3.70361599,\n",
       "        0.73399393,  4.14561698,  4.74465863,  1.82077607,  3.31315414,\n",
       "        0.83065726,  4.48047196, -2.82065874,  2.66615393, -0.1874009 ,\n",
       "        3.04152658,  4.02517814,  4.60672167,  3.96628687,  0.81658823,\n",
       "        5.99369112,  3.4774634 , -0.31131567,  2.64093725,  2.25177869,\n",
       "        3.47025912,  2.1620525 ,  1.43299983,  3.08381885, -1.15405942,\n",
       "        2.1848178 ,  1.40835809,  2.16228067,  0.7847911 ,  2.20217801,\n",
       "        5.19171507,  0.39867286,  1.94357894,  2.49935358,  3.51922948,\n",
       "        2.32472874,  6.44211532,  5.74864352,  2.75617926,  2.72068039,\n",
       "        0.97011392,  4.8526558 ,  1.82013541,  1.78793485,  3.8697478 ,\n",
       "        4.49689644,  0.70240823,  0.92736004,  2.31058024, -1.17933348,\n",
       "       -0.73847293, -1.45627781,  2.03425001,  6.51065275,  2.92532146,\n",
       "        3.75730641,  3.35076599,  0.73451349,  3.54513867,  1.5595621 ,\n",
       "        3.48447408,  3.43664201, -0.10649808, -0.39772381, -0.16393726,\n",
       "        4.90221347,  5.41486763,  0.13216673,  0.64459577,  2.02494008,\n",
       "       -0.01162895,  3.28393905,  1.91147792,  2.52109397,  3.61752878,\n",
       "        2.2925459 ,  2.45887925,  3.79620333,  0.19748116,  0.01918884,\n",
       "        3.45767972,  3.71095246,  2.38924231,  3.911901  ,  2.21688733,\n",
       "        2.96549227,  2.078281  ,  1.89979943,  1.47908331,  2.78613823,\n",
       "        0.68592962, -2.44196248,  0.67272314,  2.51739999,  0.57787843,\n",
       "        6.72836295,  4.68074434,  0.97363337,  2.57580231,  0.97947047,\n",
       "        3.44897862, -1.89441396,  1.58131383,  3.37572152,  3.32698945,\n",
       "        2.02135185,  0.79306398,  3.30874742,  1.70566109,  2.02971407,\n",
       "        5.03397175,  6.08043681,  2.39240394,  4.97018684,  0.54148099,\n",
       "       -2.83954852,  3.98489803,  2.70676942,  2.47625484,  5.42603347,\n",
       "        3.17869317,  2.17713697,  3.21560955,  2.50957138,  2.95243852,\n",
       "        2.81922383,  4.15434332,  1.65749629,  5.01370993, -0.78525313,\n",
       "       -1.54968851,  1.51415248,  0.70271271,  1.42458141,  1.24226097,\n",
       "        3.30040003, -1.93207614, -0.42577549,  1.54002429,  2.16395479,\n",
       "        3.49759094, -0.54302343,  3.34129026,  2.19569057,  3.98787612,\n",
       "       -1.0509518 , -0.90579943, -2.79617537,  1.37995613,  2.00927698,\n",
       "       -1.0587285 , -0.75993326,  1.62980344, -1.28762436, -0.22777026,\n",
       "        2.028378  ,  7.58732756,  5.46167316,  3.12064813,  2.73071167,\n",
       "       -1.12610922, -0.24916683,  1.93477028,  3.08040497,  4.25840529,\n",
       "        0.53789283,  1.3059979 ,  1.8338373 ,  4.98718516,  0.26929477,\n",
       "        1.53673782,  1.32269591, -3.03625363,  0.34791698,  3.56343882,\n",
       "        5.23100992,  2.83758274,  2.4970481 ,  5.5286574 ,  1.02989558,\n",
       "        0.95426206, -0.37528996,  3.00408621, -0.22474075,  4.25478746,\n",
       "        1.62708551,  5.59606164,  3.56012197,  3.44069723, -1.21376769,\n",
       "        1.49173553,  4.38198286,  3.81131539,  0.2912569 ,  0.43293628,\n",
       "        3.38719623,  7.90404083,  2.52866955,  3.30093164, -2.29544064,\n",
       "        2.38963281,  1.43770157,  3.5323815 ,  6.61449101,  2.60608608,\n",
       "        3.26830116,  2.55298145,  4.32462983, -2.44082776,  3.29134413,\n",
       "        4.39976866,  1.08271615,  4.88140475,  1.46940855,  2.59102028,\n",
       "        4.41526476,  2.85815764,  3.04606472,  1.5934583 ,  1.51066905,\n",
       "        2.87714578,  2.22541619,  4.73016909,  2.39369431,  0.74524364,\n",
       "       -1.19765291,  0.4982674 ,  1.24628097,  0.59053416,  2.64868333,\n",
       "        6.24687171,  1.98897148,  1.43827697,  2.21197905,  3.68662292,\n",
       "        3.09241973,  1.98943715, -0.31910842,  1.09737492,  0.69496983,\n",
       "        4.61650578,  1.00424829,  1.38995749,  1.79960702,  3.03418381,\n",
       "        3.9699255 ,  4.81134395,  5.81939194,  4.13597072,  3.9270311 ,\n",
       "        0.53093325,  4.31757898,  3.98621882,  3.45908464, -0.15517789,\n",
       "       -0.11257704,  1.60698954,  1.10026779, -1.42708318,  0.03459834,\n",
       "        0.57796553,  4.26486118,  3.69817709,  0.2430216 ,  0.09811222,\n",
       "       -2.73027582,  0.20281775,  1.77156723,  0.13134859,  0.51773119,\n",
       "       -1.36938823,  0.37896347,  3.83206432,  2.45860498,  3.9631919 ,\n",
       "        6.52461937,  2.80704601,  1.49764646,  4.94279917,  0.40341362,\n",
       "        1.98959303,  1.30275759,  3.6066661 ,  5.29117344,  1.37722914,\n",
       "        1.87881126, -1.50158241,  4.31528464, -1.34034456,  2.79326254,\n",
       "       -0.15633029,  4.55638406,  0.48928566,  1.99817724,  3.32185045,\n",
       "        2.28747117,  3.02992708,  1.99924498,  4.8284096 ,  1.99889232,\n",
       "       -0.04481508,  3.91103356,  1.15451544,  3.72248318,  4.42925279,\n",
       "        0.51114353,  0.72334678,  3.23237616,  1.81842214,  5.51770857,\n",
       "        2.18848384,  1.86008985,  2.10414896,  3.38685932,  3.18560051,\n",
       "        1.95880221,  0.16192971,  2.66508346,  2.97307604, -1.13179551,\n",
       "        5.67633915,  3.43682045,  1.33752931,  2.50674766,  1.90602958,\n",
       "        0.52332541,  0.13351651,  1.01010743,  2.1311178 , -0.57730142])"
      ]
     },
     "execution_count": 43,
     "metadata": {},
     "output_type": "execute_result"
    }
   ],
   "source": [
    "n1 = np.random.normal(loc=2.2 ,scale=2.0,size=1000)\n",
    "n1"
   ]
  },
  {
   "cell_type": "code",
   "execution_count": 44,
   "metadata": {},
   "outputs": [
    {
     "data": {
      "text/plain": [
       "(array([  3.,  19.,  52., 125., 195., 234., 220.,  97.,  39.,  16.]),\n",
       " array([-4.50836712, -3.26712633, -2.02588553, -0.78464474,  0.45659606,\n",
       "         1.69783686,  2.93907765,  4.18031845,  5.42155924,  6.66280004,\n",
       "         7.90404083]),\n",
       " <a list of 10 Patch objects>)"
      ]
     },
     "execution_count": 44,
     "metadata": {},
     "output_type": "execute_result"
    },
    {
     "data": {
      "image/png": "[encoded data removed]",
      "text/plain": [
       "<Figure size 432x288 with 1 Axes>"
      ]
     },
     "metadata": {
      "needs_background": "light"
     },
     "output_type": "display_data"
    }
   ],
   "source": [
    "plt.hist(n1)"
   ]
  },
  {
   "cell_type": "code",
   "execution_count": 45,
   "metadata": {},
   "outputs": [
    {
     "data": {
      "text/plain": [
       "<matplotlib.axes._subplots.AxesSubplot at 0x254029532e8>"
      ]
     },
     "execution_count": 45,
     "metadata": {},
     "output_type": "execute_result"
    },
    {
     "data": {
      "image/png": "[encoded data removed]",
      "text/plain": [
       "<Figure size 432x288 with 1 Axes>"
      ]
     },
     "metadata": {
      "needs_background": "light"
     },
     "output_type": "display_data"
    }
   ],
   "source": [
    "sns.distplot(n1)"
   ]
  },
  {
   "cell_type": "markdown",
   "metadata": {},
   "source": [
    "## 2. numpy.random.uniform(low=0.0, high=1.0, size=None)"
   ]
  },
  {
   "cell_type": "markdown",
   "metadata": {},
   "source": [
    "Samples are uniformly distributed over the half-open interval (low, high) (includes low, but excludes high). In other words, any value within the given interval is equally likely to be drawn by uniform\n",
    "\n",
    "Its like rolling a dice, There is as much hance of a 1 been rolled as there is a 6\n",
    "\n",
    "This is shown by the box shaped plots below"
   ]
  },
  {
   "cell_type": "code",
   "execution_count": 59,
   "metadata": {},
   "outputs": [
    {
     "data": {
      "text/plain": [
       "array([-0.78610613, -0.47215581, -0.21122813, -0.643445  , -0.88292622,\n",
       "       -0.04882821, -0.96112317, -0.09385696, -0.46367741, -0.59745509,\n",
       "       -0.15651692, -0.6385722 , -0.36510378, -0.14975895, -0.82069759,\n",
       "       -0.29273861, -0.92954355, -0.98681697, -0.55018603, -0.05061984,\n",
       "       -0.73804609, -0.87497488, -0.79173614, -0.41146426, -0.15745638,\n",
       "       -0.99609057, -0.37925969, -0.11666134, -0.65058698, -0.59117616,\n",
       "       -0.1032651 , -0.17253696, -0.49515046, -0.31030017, -0.77630539,\n",
       "       -0.65916516, -0.73927483, -0.77375539, -0.57813981, -0.9003342 ,\n",
       "       -0.07062966, -0.17246112, -0.52274664, -0.0030389 , -0.02642907,\n",
       "       -0.81911783, -0.94665049, -0.60895963, -0.63381235, -0.23687176,\n",
       "       -0.58466948, -0.66533604, -0.02921871, -0.77575046, -0.41015403,\n",
       "       -0.73126558, -0.32888492, -0.7772283 , -0.87518057, -0.80318885,\n",
       "       -0.4694819 , -0.56652064, -0.21631526, -0.71196897, -0.84738298,\n",
       "       -0.76651305, -0.2555817 , -0.71092605, -0.54365997, -0.32268308,\n",
       "       -0.17172326, -0.59354455, -0.38805698, -0.69041429, -0.81030997,\n",
       "       -0.24822472, -0.93661768, -0.74010337, -0.65537507, -0.73467553,\n",
       "       -0.28577638, -0.57172552, -0.46754945, -0.5590846 , -0.26546538,\n",
       "       -0.41874193, -0.56065813, -0.20639061, -0.20488701, -0.29529117,\n",
       "       -0.57670677, -0.44277773, -0.62135888, -0.47356726, -0.41424614,\n",
       "       -0.17716605, -0.72904101, -0.33233593, -0.83531242, -0.84373006,\n",
       "       -0.7312542 , -0.85022678, -0.13678739, -0.2479891 , -0.67892399,\n",
       "       -0.89682848, -0.97081967, -0.29964419, -0.93804393, -0.76242925,\n",
       "       -0.35884364, -0.30842155, -0.35008771, -0.6057112 , -0.0613429 ,\n",
       "       -0.122804  , -0.26746276, -0.6339084 , -0.31984941, -0.67800614,\n",
       "       -0.83938062, -0.34397058, -0.25179261, -0.27262921, -0.63378331,\n",
       "       -0.92620559, -0.93306161, -0.19152761, -0.05741098, -0.55913875,\n",
       "       -0.3956855 , -0.15985492, -0.04588995, -0.99632334, -0.87251482,\n",
       "       -0.10326433, -0.04138404, -0.23550663, -0.230364  , -0.76581056,\n",
       "       -0.91148191, -0.84777985, -0.96169609, -0.20606473, -0.50229787,\n",
       "       -0.008232  , -0.5306255 , -0.84732832, -0.31608955, -0.76953899,\n",
       "       -0.45587032, -0.06923927, -0.44842528, -0.24012666, -0.42223951,\n",
       "       -0.6220722 , -0.3539589 , -0.71962208, -0.64517802, -0.93167487,\n",
       "       -0.90655521, -0.48525201, -0.37108089, -0.47199603, -0.75823294,\n",
       "       -0.85648874, -0.74871716, -0.66123272, -0.87569625, -0.32508705,\n",
       "       -0.67391161, -0.45086557, -0.64368416, -0.83657828, -0.42885646,\n",
       "       -0.84039746, -0.24025751, -0.67341473, -0.51591594, -0.01945821,\n",
       "       -0.16865546, -0.29640808, -0.20698777, -0.91191414, -0.47036916,\n",
       "       -0.6743267 , -0.56736961, -0.9014441 , -0.55250763, -0.95031022,\n",
       "       -0.3126365 , -0.36341299, -0.52890617, -0.43058477, -0.40988493,\n",
       "       -0.66297697, -0.74679343, -0.49471451, -0.60337812, -0.69525537,\n",
       "       -0.61691693, -0.12894152, -0.45002667, -0.91230641, -0.59433589,\n",
       "       -0.71583229, -0.30444025, -0.80732128, -0.99342624, -0.9170925 ,\n",
       "       -0.67336195, -0.14087713, -0.78200572, -0.95408641, -0.67535289,\n",
       "       -0.22736381, -0.00309676, -0.70493884, -0.24852052, -0.45860586,\n",
       "       -0.65283238, -0.66437472, -0.59443043, -0.74603943, -0.38627424,\n",
       "       -0.66793663, -0.86223212, -0.72254991, -0.44463058, -0.25610722,\n",
       "       -0.71993895, -0.39148761, -0.19282929, -0.03307936, -0.41044413,\n",
       "       -0.13646348, -0.61679072, -0.23228352, -0.8535343 , -0.83721817,\n",
       "       -0.00158159, -0.35502371, -0.60049431, -0.31717306, -0.94905933,\n",
       "       -0.75659129, -0.65654607, -0.64288826, -0.43338568, -0.00713197,\n",
       "       -0.63934288, -0.58193141, -0.99088327, -0.52443994, -0.89479741,\n",
       "       -0.60908577, -0.48821437, -0.24865326, -0.90671841, -0.95193307,\n",
       "       -0.20613631, -0.43561418, -0.9020223 , -0.03092169, -0.23156389,\n",
       "       -0.06153741, -0.60791573, -0.2016903 , -0.78006082, -0.94946765,\n",
       "       -0.98250022, -0.25993774, -0.12753062, -0.83750118, -0.35315035,\n",
       "       -0.6739244 , -0.95943638, -0.45183927, -0.9013501 , -0.13323515,\n",
       "       -0.4771781 , -0.97718758, -0.06183594, -0.92164769, -0.67423809,\n",
       "       -0.56648283, -0.52582062, -0.73458952, -0.12522665, -0.19774016,\n",
       "       -0.21464182, -0.80687611, -0.46370221, -0.29763515, -0.07946374,\n",
       "       -0.49521376, -0.63876661, -0.75216549, -0.06832257, -0.17841201,\n",
       "       -0.84983798, -0.04683398, -0.21393863, -0.32771698, -0.19905981,\n",
       "       -0.93289206, -0.78315816, -0.11230301, -0.25046547, -0.22344268,\n",
       "       -0.69689951, -0.74737057, -0.8868993 , -0.73841648, -0.26191361,\n",
       "       -0.0824312 , -0.17648395, -0.8247868 , -0.11907567, -0.103446  ,\n",
       "       -0.74761104, -0.72301435, -0.93446393, -0.11619339, -0.20360612,\n",
       "       -0.23458543, -0.41048592, -0.78217739, -0.83306292, -0.01331139,\n",
       "       -0.25666051, -0.62161569, -0.89569524, -0.50179119, -0.32648036,\n",
       "       -0.79673515, -0.84632422, -0.32001511, -0.58569731, -0.76860395,\n",
       "       -0.91014474, -0.49128798, -0.41966728, -0.789173  , -0.8399231 ,\n",
       "       -0.69299734, -0.09943175, -0.84311498, -0.39428407, -0.12916824,\n",
       "       -0.57806251, -0.42526905, -0.4949632 , -0.99768936, -0.44707231,\n",
       "       -0.21178723, -0.25004393, -0.07704735, -0.29256278, -0.46229356,\n",
       "       -0.09178912, -0.26791846, -0.85275376, -0.50145581, -0.15508786,\n",
       "       -0.18647723, -0.03441122, -0.06128346, -0.99091323, -0.14202501,\n",
       "       -0.9773664 , -0.68971734, -0.36407518, -0.49648298, -0.25250286,\n",
       "       -0.61437575, -0.44669063, -0.4375197 , -0.18249303, -0.47478456,\n",
       "       -0.24258089, -0.9158034 , -0.2142647 , -0.1697249 , -0.20108849,\n",
       "       -0.70965742, -0.14063554, -0.32889416, -0.62360567, -0.33644891,\n",
       "       -0.27151057, -0.03235449, -0.92136197, -0.0785714 , -0.41873884,\n",
       "       -0.67606293, -0.33628258, -0.59663697, -0.08610462, -0.1980227 ,\n",
       "       -0.14151155, -0.85055238, -0.47057689, -0.17648721, -0.18865318,\n",
       "       -0.33401804, -0.48771827, -0.40664983, -0.19588525, -0.50241017,\n",
       "       -0.58773745, -0.82547309, -0.47830013, -0.23427212, -0.95349689,\n",
       "       -0.1131645 , -0.17315309, -0.35046723, -0.92938416, -0.71514673,\n",
       "       -0.58190378, -0.01433256, -0.35705658, -0.51555738, -0.91595601,\n",
       "       -0.31675882, -0.32222785, -0.94644463, -0.46027951, -0.34545255,\n",
       "       -0.88708917, -0.357842  , -0.85074813, -0.01030076, -0.12951046,\n",
       "       -0.92373176, -0.16356615, -0.53900842, -0.45197151, -0.98819814,\n",
       "       -0.30793145, -0.44125877, -0.35481379, -0.30979766, -0.18817459,\n",
       "       -0.50303533, -0.19881656, -0.24607159, -0.62672299, -0.55351351,\n",
       "       -0.27522487, -0.21990974, -0.52795152, -0.18330375, -0.76180035,\n",
       "       -0.08877346, -0.77126475, -0.72348875, -0.92196234, -0.36248746,\n",
       "       -0.95634588, -0.63158331, -0.82884918, -0.42637283, -0.08743754,\n",
       "       -0.99799477, -0.65276039, -0.2466172 , -0.2944816 , -0.23223827,\n",
       "       -0.26508416, -0.36837713, -0.46907784, -0.50541761, -0.17183573,\n",
       "       -0.48676427, -0.85922709, -0.78372194, -0.29230432, -0.1756015 ,\n",
       "       -0.98397232, -0.81355291, -0.36587851, -0.85355323, -0.66648208,\n",
       "       -0.75871082, -0.64773321, -0.70409678, -0.11253672, -0.70428193,\n",
       "       -0.13565236, -0.71243437, -0.18923952, -0.42468735, -0.05620653,\n",
       "       -0.70689514, -0.7175735 , -0.14895167, -0.50994499, -0.40344727,\n",
       "       -0.18631107, -0.38820776, -0.09229968, -0.00168308, -0.41962448,\n",
       "       -0.83881971, -0.57053026, -0.78772988, -0.03218635, -0.89155292,\n",
       "       -0.48683776, -0.66125643, -0.69227301, -0.28284334, -0.69963966,\n",
       "       -0.01177571, -0.00213673, -0.68576876, -0.64034187, -0.46389177,\n",
       "       -0.3884491 , -0.92486304, -0.85812876, -0.63157223, -0.85237067,\n",
       "       -0.7298682 , -0.88001685, -0.14255805, -0.69466835, -0.04002577,\n",
       "       -0.2936953 , -0.86849   , -0.50822644, -0.06820453, -0.95956858,\n",
       "       -0.48420229, -0.30284348, -0.81687315, -0.1861181 , -0.28571651,\n",
       "       -0.11853399, -0.46248403, -0.34333667, -0.50055211, -0.76808581,\n",
       "       -0.81128305, -0.67010996, -0.04018987, -0.82433889, -0.1059819 ,\n",
       "       -0.38127696, -0.87672668, -0.2692673 , -0.34868424, -0.43582741,\n",
       "       -0.89444315, -0.67627008, -0.89507   , -0.89579867, -0.4511391 ,\n",
       "       -0.40100765, -0.89482834, -0.05934087, -0.95758565, -0.08605877,\n",
       "       -0.24184135, -0.14021165, -0.95579576, -0.38561359, -0.96967869,\n",
       "       -0.87008639, -0.97627374, -0.20962203, -0.61151948, -0.95036241,\n",
       "       -0.68255049, -0.75046607, -0.1434228 , -0.67991951, -0.25703306,\n",
       "       -0.41191171, -0.1453735 , -0.69780758, -0.13260988, -0.4462032 ,\n",
       "       -0.01174487, -0.48348742, -0.95079566, -0.25424085, -0.15851799,\n",
       "       -0.27538854, -0.59919669, -0.24443285, -0.11113996, -0.79240551,\n",
       "       -0.62313598, -0.82277197, -0.18351558, -0.27207886, -0.47554   ,\n",
       "       -0.66397034, -0.58610797, -0.49175132, -0.88143334, -0.66788246,\n",
       "       -0.94370654, -0.2748841 , -0.01118611, -0.70717767, -0.04211038,\n",
       "       -0.37111138, -0.8204104 , -0.85443236, -0.74668756, -0.40780035,\n",
       "       -0.58499596, -0.09194037, -0.01328548, -0.60610571, -0.64045213,\n",
       "       -0.28039689, -0.04851001, -0.47441964, -0.16293547, -0.57089788,\n",
       "       -0.68307834, -0.73163033, -0.14009037, -0.5036796 , -0.50696103,\n",
       "       -0.6208806 , -0.97054518, -0.36200927, -0.87150306, -0.56657373,\n",
       "       -0.22824827, -0.74375782, -0.31186909, -0.85432775, -0.00834879,\n",
       "       -0.14324014, -0.50592984, -0.60858561, -0.3804372 , -0.29068379,\n",
       "       -0.71493722, -0.81218144, -0.1253542 , -0.96313085, -0.17932394,\n",
       "       -0.57817954, -0.05945404, -0.42223644, -0.09763114, -0.1469793 ,\n",
       "       -0.10911743, -0.28409986, -0.46778813, -0.44692437, -0.25875052,\n",
       "       -0.72230849, -0.17149457, -0.88632587, -0.83033088, -0.32778429,\n",
       "       -0.82534873, -0.43941251, -0.3773072 , -0.88202937, -0.38918713,\n",
       "       -0.83807165, -0.68853834, -0.24061718, -0.17248484, -0.6004953 ,\n",
       "       -0.14455543, -0.98637803, -0.93479261, -0.13083142, -0.68475806,\n",
       "       -0.39861097, -0.8055234 , -0.9203478 , -0.0697162 , -0.90523016,\n",
       "       -0.49190423, -0.6652769 , -0.77110558, -0.09445912, -0.86234541,\n",
       "       -0.02907431, -0.62418474, -0.72336938, -0.93216207, -0.46149498,\n",
       "       -0.84267139, -0.6495185 , -0.75985806, -0.62581318, -0.25887864,\n",
       "       -0.26921263, -0.94699584, -0.60675704, -0.69173495, -0.36460817,\n",
       "       -0.79784726, -0.96239306, -0.76662854, -0.47197225, -0.36417485,\n",
       "       -0.30682641, -0.45378562, -0.27655582, -0.41640591, -0.86790427,\n",
       "       -0.29085612, -0.80249928, -0.44665449, -0.53298576, -0.12985097,\n",
       "       -0.34318221, -0.57530609, -0.59279345, -0.49962522, -0.54203314,\n",
       "       -0.06899048, -0.84699709, -0.65715268, -0.15867762, -0.05269966,\n",
       "       -0.04497779, -0.70747648, -0.80517433, -0.53864146, -0.68501509,\n",
       "       -0.08969824, -0.53746565, -0.8136858 , -0.09704983, -0.70532147,\n",
       "       -0.76708629, -0.21111544, -0.25688115, -0.65938511, -0.3563662 ,\n",
       "       -0.76790259, -0.16809442, -0.80959124, -0.91477645, -0.83774166,\n",
       "       -0.83955243, -0.76100969, -0.15408715, -0.7042785 , -0.91907115,\n",
       "       -0.98133278, -0.89163055, -0.96919742, -0.47952952, -0.36648381,\n",
       "       -0.45830858, -0.93243605, -0.10752634, -0.55881919, -0.69000522,\n",
       "       -0.99821501, -0.21325676, -0.33531102, -0.17887705, -0.07754999,\n",
       "       -0.95407297, -0.4317071 , -0.80129956, -0.36588877, -0.986771  ,\n",
       "       -0.9876566 , -0.02572511, -0.77423742, -0.35183153, -0.29062759,\n",
       "       -0.57852357, -0.79861685, -0.56384427, -0.08965379, -0.50008758,\n",
       "       -0.37896779, -0.74185029, -0.48097816, -0.97937279, -0.43502639,\n",
       "       -0.84192083, -0.6028369 , -0.12387943, -0.0846496 , -0.23709462,\n",
       "       -0.66322396, -0.53072068, -0.59936881, -0.38934414, -0.35834667,\n",
       "       -0.68017615, -0.97720494, -0.65605652, -0.88456981, -0.32054813,\n",
       "       -0.55928143, -0.03841879, -0.37052861, -0.01347994, -0.16069859,\n",
       "       -0.57067108, -0.65402985, -0.02996369, -0.06320251, -0.41665915,\n",
       "       -0.95561189, -0.80761452, -0.82853341, -0.723643  , -0.75295378,\n",
       "       -0.04236599, -0.1282104 , -0.78868787, -0.73295276, -0.1859131 ,\n",
       "       -0.12817255, -0.68733688, -0.47563115, -0.38197376, -0.1290926 ,\n",
       "       -0.05584332, -0.99307587, -0.65826044, -0.21138589, -0.90573428,\n",
       "       -0.19813448, -0.59027344, -0.55438299, -0.68550721, -0.9169936 ,\n",
       "       -0.97077061, -0.00866681, -0.13442296, -0.56141873, -0.28603069,\n",
       "       -0.86990349, -0.07647288, -0.06084248, -0.12077994, -0.8133365 ,\n",
       "       -0.33210021, -0.56190746, -0.23587644, -0.65675719, -0.15976166,\n",
       "       -0.1091228 , -0.05830894, -0.74442751, -0.74412318, -0.15546236,\n",
       "       -0.8755813 , -0.12319108, -0.88833789, -0.22850107, -0.51005941,\n",
       "       -0.59492684, -0.84256944, -0.63041038, -0.69529823, -0.46274983,\n",
       "       -0.1659653 , -0.79886757, -0.70597938, -0.01020674, -0.07820575,\n",
       "       -0.3730396 , -0.48483985, -0.24983359, -0.77828453, -0.35625817,\n",
       "       -0.5098377 , -0.1692458 , -0.56587805, -0.59331138, -0.52022406,\n",
       "       -0.01861095, -0.69049824, -0.34976212, -0.98317309, -0.5973541 ,\n",
       "       -0.73499708, -0.16464011, -0.58859856, -0.59436118, -0.98091482,\n",
       "       -0.94493816, -0.53582104, -0.96803943, -0.23278978, -0.20126416,\n",
       "       -0.35325459, -0.27159751, -0.4391333 , -0.39638603, -0.92640026,\n",
       "       -0.4014374 , -0.67678662, -0.83119082, -0.82316476, -0.20590533,\n",
       "       -0.054788  , -0.41512059, -0.6865795 , -0.38278938, -0.22566425,\n",
       "       -0.8545258 , -0.30466156, -0.02655384, -0.16750825, -0.32457722,\n",
       "       -0.89904659, -0.919032  , -0.73255447, -0.41522975, -0.85273655,\n",
       "       -0.74906322, -0.62079755, -0.69010894, -0.11556645, -0.5396127 ,\n",
       "       -0.32135654, -0.12363725, -0.87608996, -0.33961034, -0.1964438 ,\n",
       "       -0.27611394, -0.17115792, -0.27465352, -0.83736599, -0.03094409,\n",
       "       -0.52567677, -0.58126027, -0.40113343, -0.75639298, -0.92644882,\n",
       "       -0.42717775, -0.14959674, -0.21020656, -0.67368448, -0.22002756,\n",
       "       -0.11267335, -0.29275308, -0.37885525, -0.53868247, -0.20896079,\n",
       "       -0.58373794, -0.85061478, -0.50153213, -0.92763769, -0.30439138,\n",
       "       -0.202875  , -0.8299415 , -0.82533211, -0.80904292, -0.21211075,\n",
       "       -0.74995479, -0.36240275, -0.40663571, -0.02687575, -0.24321386,\n",
       "       -0.81850217, -0.09566186, -0.91895585, -0.63150579, -0.35987234,\n",
       "       -0.49923526, -0.62214629, -0.2948552 , -0.79399953, -0.87768417,\n",
       "       -0.12671446, -0.96204139, -0.48669446, -0.74335523, -0.22218043,\n",
       "       -0.27397984, -0.76455526, -0.65697961, -0.74016474, -0.48961976,\n",
       "       -0.43908012, -0.44254161, -0.53769707, -0.947187  , -0.84116345,\n",
       "       -0.76578037, -0.55132178, -0.8070691 , -0.97193389, -0.82499748])"
      ]
     },
     "execution_count": 59,
     "metadata": {},
     "output_type": "execute_result"
    }
   ],
   "source": [
    "u = np.random.uniform(-1,0,1000)\n",
    "u"
   ]
  },
  {
   "cell_type": "code",
   "execution_count": 60,
   "metadata": {},
   "outputs": [
    {
     "data": {
      "text/plain": [
       "(array([ 99., 108.,  99., 106.,  89., 104.,  91., 108., 108.,  88.]),\n",
       " array([-0.99821501, -0.89855166, -0.79888832, -0.69922498, -0.59956164,\n",
       "        -0.4998983 , -0.40023495, -0.30057161, -0.20090827, -0.10124493,\n",
       "        -0.00158159]),\n",
       " <a list of 10 Patch objects>)"
      ]
     },
     "execution_count": 60,
     "metadata": {},
     "output_type": "execute_result"
    },
    {
     "data": {
      "image/png": "[encoded data removed]",
      "text/plain": [
       "<Figure size 432x288 with 1 Axes>"
      ]
     },
     "metadata": {
      "needs_background": "light"
     },
     "output_type": "display_data"
    }
   ],
   "source": [
    "plt.hist(u)"
   ]
  },
  {
   "cell_type": "code",
   "execution_count": 61,
   "metadata": {},
   "outputs": [
    {
     "name": "stderr",
     "output_type": "stream",
     "text": [
      "C:\\ProgrammingApps\\Anaconda3\\lib\\site-packages\\matplotlib\\axes\\_axes.py:6521: MatplotlibDeprecationWarning: \n",
      "The 'normed' kwarg was deprecated in Matplotlib 2.1 and will be removed in 3.1. Use 'density' instead.\n",
      "  alternative=\"'density'\", removal=\"3.1\")\n"
     ]
    },
    {
     "data": {
      "text/plain": [
       "[<matplotlib.lines.Line2D at 0x25402c75908>]"
      ]
     },
     "execution_count": 61,
     "metadata": {},
     "output_type": "execute_result"
    },
    {
     "data": {
      "image/png": "[encoded data removed]",
      "text/plain": [
       "<Figure size 432x288 with 1 Axes>"
      ]
     },
     "metadata": {
      "needs_background": "light"
     },
     "output_type": "display_data"
    }
   ],
   "source": [
    "count, bins, ignored = plt.hist(u, 15, normed=True)\n",
    "plt.plot(bins, np.ones_like(bins), linewidth=2, color='r')"
   ]
  },
  {
   "cell_type": "code",
   "execution_count": null,
   "metadata": {},
   "outputs": [],
   "source": []
  },
  {
   "cell_type": "markdown",
   "metadata": {},
   "source": [
    "## 3. numpy.random.binomial(n, p, size=None)"
   ]
  },
  {
   "cell_type": "markdown",
   "metadata": {},
   "source": [
    "A Binomial distribution can be thought of as the of the success or failure outcome that is repeated multiple times\n",
    "\n",
    "The distribution has two possible outcomes, An example of this would be like flipping a coin\n",
    "\n",
    "n is the number of times its is to be repeated\n",
    "\n",
    "p is the probability"
   ]
  },
  {
   "cell_type": "code",
   "execution_count": 83,
   "metadata": {},
   "outputs": [
    {
     "data": {
      "text/plain": [
       "array([ 5,  4,  5,  6,  4,  5,  5,  7,  7,  5,  4,  7,  4,  5,  5,  5,  5,\n",
       "        4,  5,  8,  2,  5,  4,  3,  7,  5,  2,  5,  4,  4,  5,  3,  5,  3,\n",
       "        2,  6,  6,  6,  7,  5,  4,  4,  4,  6,  6,  3,  5,  4,  3,  6,  3,\n",
       "        5,  5,  3,  5,  6,  5,  6,  6,  5,  3,  7,  5,  6,  5,  5,  4,  4,\n",
       "        7,  5,  4,  6,  5,  5,  7,  3,  5,  4,  3,  5,  4,  4,  6,  6,  7,\n",
       "        6,  4,  5,  5,  4,  4,  4,  5,  4,  4,  4,  5,  5,  5, 10])"
      ]
     },
     "execution_count": 83,
     "metadata": {},
     "output_type": "execute_result"
    }
   ],
   "source": [
    "n = 10\n",
    "p = 0.5\n",
    "b= np.random.binomial(n,p,100)\n",
    "b"
   ]
  },
  {
   "cell_type": "code",
   "execution_count": 84,
   "metadata": {},
   "outputs": [
    {
     "data": {
      "text/plain": [
       "<matplotlib.axes._subplots.AxesSubplot at 0x2540421eb00>"
      ]
     },
     "execution_count": 84,
     "metadata": {},
     "output_type": "execute_result"
    },
    {
     "data": {
      "image/png": "[encoded data removed]",
      "text/plain": [
       "<Figure size 432x288 with 1 Axes>"
      ]
     },
     "metadata": {
      "needs_background": "light"
     },
     "output_type": "display_data"
    }
   ],
   "source": [
    "sns.distplot(b)"
   ]
  },
  {
   "cell_type": "markdown",
   "metadata": {},
   "source": [
    "The above test was flipping a coin 10 times with a 50/50 chance of heads or tails\n",
    "This was tested 100 times"
   ]
  }
 ],
 "metadata": {
  "kernelspec": {
   "display_name": "Python 3",
   "language": "python",
   "name": "python3"
  },
  "language_info": {
   "codemirror_mode": {
    "name": "ipython",
    "version": 3
   },
   "file_extension": ".py",
   "mimetype": "text/x-python",
   "name": "python",
   "nbconvert_exporter": "python",
   "pygments_lexer": "ipython3",
   "version": "3.7.1"
  }
 },
 "nbformat": 4,
 "nbformat_minor": 2
}
