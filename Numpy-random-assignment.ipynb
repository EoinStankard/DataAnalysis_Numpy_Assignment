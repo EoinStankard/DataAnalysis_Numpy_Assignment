{
 "cells": [
  {
   "cell_type": "markdown",
   "metadata": {},
   "source": [
    "# Programming for Data Analysis Assignment\n",
    "### Assignment Outlines\n",
    "The following assignment concerns the numpy.random package in Python \n",
    "1. Explain the overall purpose of the package. \n",
    "2. Explain the use of the “Simple random data” and “Permutations” functions. \n",
    "3. Explain the use and purpose of at least ﬁve “Distributions” functions. \n",
    "4. Explain the use of seeds in generating pseudorandom numbers.\n",
    "\n",
    "### The numpy.random package"
   ]
  },
  {
   "cell_type": "markdown",
   "metadata": {},
   "source": [
    "The numpy.random package is a sub package of numpy. NumPy is the fundamental package for scientific computing in Python. It is a Python library that provides a multidimensional array object, various derived objects (such as masked arrays and matrices), and an assortment of routines for fast operations on arrays, including mathematical, logical, shape manipulation, sorting, selecting, I/O, discrete Fourier transforms, basic linear algebra, basic statistical operations, random simulation and much more.\n",
    "\n",
    "There are four different sections to the numpy.random package\n",
    "1. Simple random Data\n",
    "\n",
    "Simple random data is used for the basic functions of the package such as generate a random integer between 1 and 10, or generate an array of 2 rows and 2 columns and fill it will random numbers between 0-1\n",
    "There are assumptions based on the numbers that are generated.\n",
    "\n",
    "2. Permutations\n",
    "\n",
    "This section only contains two functions and they are both similar as they both shuffle or rearrange the number or numbers they are given\n",
    "\n",
    "3. Distributions\n",
    "\n",
    "The distributions section is the largest section of the four and they are all different probability distributions.\n",
    "\n",
    "4. Random Generator\n",
    "\n",
    "This section you can get the seed of the random number generator, get the state and set the state."
   ]
  },
  {
   "cell_type": "markdown",
   "metadata": {},
   "source": [
    "### Simple random data\n",
    "\n",
    "In this section i am going to pick a few of the functions and try to explain them using plots instead of text."
   ]
  },
  {
   "cell_type": "markdown",
   "metadata": {},
   "source": [
    "-------------------------------------------------------------------------------------------------------------------------------\n",
    "#### rand(d0, d1, …, dn)"
   ]
  },
  {
   "cell_type": "code",
   "execution_count": null,
   "metadata": {},
   "outputs": [],
   "source": []
  },
  {
   "cell_type": "code",
   "execution_count": 47,
   "metadata": {},
   "outputs": [],
   "source": [
    "import numpy as np\n",
    "import matplotlib.pyplot as plt"
   ]
  },
  {
   "cell_type": "code",
   "execution_count": 2,
   "metadata": {},
   "outputs": [
    {
     "data": {
      "text/plain": [
       "array([0.79534485, 0.79631047, 0.91374177, 0.94859108, 0.26774216,\n",
       "       0.77587349, 0.24378887, 0.37689705, 0.34677255, 0.36328522])"
      ]
     },
     "execution_count": 2,
     "metadata": {},
     "output_type": "execute_result"
    }
   ],
   "source": [
    "np.random.rand(10)"
   ]
  },
  {
   "cell_type": "markdown",
   "metadata": {},
   "source": [
    "Most basic is to see what happens when we send a single value into the function, and as send above when 10 is entered it returns an array of 10 random numbers between 0-1"
   ]
  },
  {
   "cell_type": "code",
   "execution_count": 3,
   "metadata": {},
   "outputs": [
    {
     "data": {
      "text/plain": [
       "array([[0.2364483 , 0.60710296, 0.85836928],\n",
       "       [0.42572109, 0.90522172, 0.24873898]])"
      ]
     },
     "execution_count": 3,
     "metadata": {},
     "output_type": "execute_result"
    }
   ],
   "source": [
    "np.random.rand(2,3)"
   ]
  },
  {
   "cell_type": "markdown",
   "metadata": {},
   "source": [
    "Two input values then shows an array with two sets of arrays with three values between 0-1"
   ]
  },
  {
   "cell_type": "code",
   "execution_count": 4,
   "metadata": {},
   "outputs": [
    {
     "data": {
      "text/plain": [
       "array([[[[0.76372997, 0.33450584, 0.44535867, 0.98851168, 0.81946508],\n",
       "         [0.84789585, 0.64969314, 0.18154524, 0.37938421, 0.32051849]],\n",
       "\n",
       "        [[0.34768384, 0.39005573, 0.79503344, 0.36079146, 0.33421208],\n",
       "         [0.45396405, 0.1507029 , 0.97016334, 0.56352799, 0.87657636]],\n",
       "\n",
       "        [[0.37830904, 0.58280698, 0.89789008, 0.09440799, 0.23096865],\n",
       "         [0.17098235, 0.7686225 , 0.5981287 , 0.24549247, 0.661198  ]]]])"
      ]
     },
     "execution_count": 4,
     "metadata": {},
     "output_type": "execute_result"
    }
   ],
   "source": [
    "np.random.rand(1,3,2,5)"
   ]
  },
  {
   "cell_type": "markdown",
   "metadata": {},
   "source": [
    "A four input rand function shows an array with Three sets of random numbers and in each one of them sets is two more sets containing five random numbers between 0-1"
   ]
  },
  {
   "cell_type": "code",
   "execution_count": 5,
   "metadata": {},
   "outputs": [
    {
     "data": {
      "text/plain": [
       "array([[[[0.5391979 , 0.4566889 , 0.85794766, 0.84313332, 0.5080006 ],\n",
       "         [0.67692443, 0.48757786, 0.93130017, 0.16312396, 0.45362253]],\n",
       "\n",
       "        [[0.65348392, 0.69354594, 0.66141429, 0.52365875, 0.39272375],\n",
       "         [0.55979759, 0.70281312, 0.46504948, 0.25742379, 0.38304389]],\n",
       "\n",
       "        [[0.41088379, 0.55650884, 0.21204421, 0.3270768 , 0.36260123],\n",
       "         [0.07858743, 0.51872415, 0.39277884, 0.88025838, 0.50491435]]],\n",
       "\n",
       "\n",
       "       [[[0.58161596, 0.99895331, 0.0057144 , 0.995242  , 0.27651651],\n",
       "         [0.20340317, 0.7500913 , 0.66012063, 0.88185606, 0.76206279]],\n",
       "\n",
       "        [[0.4504051 , 0.0025888 , 0.68283212, 0.13684756, 0.58245869],\n",
       "         [0.68439418, 0.88753147, 0.50937455, 0.83188987, 0.63448138]],\n",
       "\n",
       "        [[0.50566453, 0.52470511, 0.77998304, 0.85383066, 0.92935718],\n",
       "         [0.20587947, 0.28263774, 0.0309083 , 0.91514494, 0.24791909]]]])"
      ]
     },
     "execution_count": 5,
     "metadata": {},
     "output_type": "execute_result"
    }
   ],
   "source": [
    "np.random.rand(2,3,2,5)"
   ]
  },
  {
   "cell_type": "markdown",
   "metadata": {},
   "source": [
    "A four input random array with similar input values apart from the first where the first value is a 2. This shows a single array with two sets of arrays that contains two sets with five random values between 0-1."
   ]
  },
  {
   "cell_type": "code",
   "execution_count": 6,
   "metadata": {},
   "outputs": [
    {
     "ename": "ValueError",
     "evalue": "negative dimensions are not allowed",
     "output_type": "error",
     "traceback": [
      "\u001b[1;31m---------------------------------------------------------------------------\u001b[0m",
      "\u001b[1;31mValueError\u001b[0m                                Traceback (most recent call last)",
      "\u001b[1;32m<ipython-input-6-b28fbba26148>\u001b[0m in \u001b[0;36m<module>\u001b[1;34m\u001b[0m\n\u001b[1;32m----> 1\u001b[1;33m \u001b[0mnp\u001b[0m\u001b[1;33m.\u001b[0m\u001b[0mrandom\u001b[0m\u001b[1;33m.\u001b[0m\u001b[0mrand\u001b[0m\u001b[1;33m(\u001b[0m\u001b[1;33m-\u001b[0m\u001b[1;36m10\u001b[0m\u001b[1;33m)\u001b[0m\u001b[1;33m\u001b[0m\u001b[1;33m\u001b[0m\u001b[0m\n\u001b[0m",
      "\u001b[1;32mmtrand.pyx\u001b[0m in \u001b[0;36mmtrand.RandomState.rand\u001b[1;34m()\u001b[0m\n",
      "\u001b[1;32mmtrand.pyx\u001b[0m in \u001b[0;36mmtrand.RandomState.random_sample\u001b[1;34m()\u001b[0m\n",
      "\u001b[1;32mmtrand.pyx\u001b[0m in \u001b[0;36mmtrand.cont0_array\u001b[1;34m()\u001b[0m\n",
      "\u001b[1;31mValueError\u001b[0m: negative dimensions are not allowed"
     ]
    }
   ],
   "source": [
    "np.random.rand(-10)"
   ]
  },
  {
   "cell_type": "code",
   "execution_count": null,
   "metadata": {},
   "outputs": [],
   "source": [
    "np.random.rand(0)"
   ]
  },
  {
   "cell_type": "code",
   "execution_count": null,
   "metadata": {},
   "outputs": [],
   "source": [
    "np.random.rand()"
   ]
  },
  {
   "cell_type": "markdown",
   "metadata": {},
   "source": [
    "##### Conclusion on rand() function\n",
    "From Looking at the numpy.random.rand function it appears that the last number given in the function is the amount of random numbers between 0-1 in each array, so a single number input gives that number of random numbers.\n",
    "An input value of (2,3) will give two array sets with 3 random numbers in each.\n",
    "An input of (3,2,1) will give three array sets each containing two array sets that each contain one random number,\n",
    "\n",
    "A negative number gives an ValueError\n",
    "\n",
    "An input value of 0 gives an empty array\n",
    "\n",
    "an empty function will give an output of a single random value\n",
    "\n"
   ]
  },
  {
   "cell_type": "markdown",
   "metadata": {},
   "source": [
    "-------------------------------------------------------------------------------------------------------------------------------\n",
    "### numpy.random.randn(d0, d1, ..., dn)"
   ]
  },
  {
   "cell_type": "code",
   "execution_count": 11,
   "metadata": {},
   "outputs": [
    {
     "data": {
      "text/plain": [
       "array([ 0.2714124 ,  1.02817862, -0.37645301,  1.48750982, -0.01136357,\n",
       "        0.65346616, -0.71633652, -0.87860567, -1.52269471, -0.33449908])"
      ]
     },
     "execution_count": 11,
     "metadata": {},
     "output_type": "execute_result"
    }
   ],
   "source": [
    "np.random.randn(10)"
   ]
  },
  {
   "cell_type": "code",
   "execution_count": 15,
   "metadata": {},
   "outputs": [
    {
     "data": {
      "text/plain": [
       "-2.2143063862577352"
      ]
     },
     "execution_count": 15,
     "metadata": {},
     "output_type": "execute_result"
    }
   ],
   "source": [
    "np.random.randn()"
   ]
  },
  {
   "cell_type": "code",
   "execution_count": 17,
   "metadata": {},
   "outputs": [
    {
     "data": {
      "text/plain": [
       "array([[[-0.58451375],\n",
       "        [-0.44866068]],\n",
       "\n",
       "       [[-1.47633487],\n",
       "        [ 0.5848266 ]],\n",
       "\n",
       "       [[ 0.32044102],\n",
       "        [ 0.06450551]]])"
      ]
     },
     "execution_count": 17,
     "metadata": {},
     "output_type": "execute_result"
    }
   ],
   "source": [
    "np.random.randn(3,2,1)"
   ]
  },
  {
   "cell_type": "code",
   "execution_count": 21,
   "metadata": {},
   "outputs": [
    {
     "data": {
      "text/plain": [
       "array([[[ 6.19762341,  7.0444376 ,  8.68312165,  7.28498231,\n",
       "         10.46605307],\n",
       "        [ 9.13412516,  6.7915837 ,  9.10931148,  7.97457825,\n",
       "          7.96583179],\n",
       "        [ 6.01958302,  7.8278284 ,  8.74133893,  6.82072073,\n",
       "          6.83753112]],\n",
       "\n",
       "       [[ 7.67354475,  7.21877396,  8.0043565 ,  7.28785123,\n",
       "          7.18626422],\n",
       "        [ 8.67967339,  8.52874554,  7.04786796,  6.06906843,\n",
       "          6.66577847],\n",
       "        [ 7.46500383,  6.16836713,  8.82893993,  8.39186459,\n",
       "          7.05018158]],\n",
       "\n",
       "       [[ 7.28598809,  4.98715703,  8.13165666,  7.82456159,\n",
       "          7.98849647],\n",
       "        [ 8.10875753,  9.17003035,  8.31628244,  8.6115748 ,\n",
       "          7.49737501],\n",
       "        [ 7.56756234,  8.69976161,  8.71573849,  7.73686026,\n",
       "          8.01930769]]])"
      ]
     },
     "execution_count": 21,
     "metadata": {},
     "output_type": "execute_result"
    }
   ],
   "source": [
    "np.random.randn(3,3,5)+4*2"
   ]
  },
  {
   "cell_type": "markdown",
   "metadata": {},
   "source": [
    "#### Conclusion on the randn() function\n",
    "\n",
    "From running some tests on the randn() function it is clear that it had the same functionality as the rand() function but it gives random number both positive and negative"
   ]
  },
  {
   "cell_type": "markdown",
   "metadata": {},
   "source": [
    "-------------------------------------------------------------------------------------------------------------------------------\n",
    "### numpy.random.randint(low, high=None, size=None, dtype='l')"
   ]
  },
  {
   "cell_type": "code",
   "execution_count": 38,
   "metadata": {},
   "outputs": [
    {
     "data": {
      "text/plain": [
       "7"
      ]
     },
     "execution_count": 38,
     "metadata": {},
     "output_type": "execute_result"
    }
   ],
   "source": [
    "#prints a random number between 0-10 as 10 is the max in the situation\n",
    "np.random.randint(10)"
   ]
  },
  {
   "cell_type": "code",
   "execution_count": 34,
   "metadata": {},
   "outputs": [
    {
     "data": {
      "text/plain": [
       "5"
      ]
     },
     "execution_count": 34,
     "metadata": {},
     "output_type": "execute_result"
    }
   ],
   "source": [
    "#prints a random number with a low of 3 and a high of 7\n",
    "np.random.randint(3,7)"
   ]
  },
  {
   "cell_type": "code",
   "execution_count": 39,
   "metadata": {},
   "outputs": [
    {
     "ename": "ValueError",
     "evalue": "low >= high",
     "output_type": "error",
     "traceback": [
      "\u001b[1;31m---------------------------------------------------------------------------\u001b[0m",
      "\u001b[1;31mValueError\u001b[0m                                Traceback (most recent call last)",
      "\u001b[1;32m<ipython-input-39-2c74e74757bf>\u001b[0m in \u001b[0;36m<module>\u001b[1;34m\u001b[0m\n\u001b[0;32m      1\u001b[0m \u001b[1;31m#A value error is throw if the low number is greater than the high number\u001b[0m\u001b[1;33m\u001b[0m\u001b[1;33m\u001b[0m\u001b[1;33m\u001b[0m\u001b[0m\n\u001b[1;32m----> 2\u001b[1;33m \u001b[0mnp\u001b[0m\u001b[1;33m.\u001b[0m\u001b[0mrandom\u001b[0m\u001b[1;33m.\u001b[0m\u001b[0mrandint\u001b[0m\u001b[1;33m(\u001b[0m\u001b[1;36m7\u001b[0m\u001b[1;33m,\u001b[0m\u001b[1;36m4\u001b[0m\u001b[1;33m)\u001b[0m\u001b[1;33m\u001b[0m\u001b[1;33m\u001b[0m\u001b[0m\n\u001b[0m",
      "\u001b[1;32mmtrand.pyx\u001b[0m in \u001b[0;36mmtrand.RandomState.randint\u001b[1;34m()\u001b[0m\n",
      "\u001b[1;31mValueError\u001b[0m: low >= high"
     ]
    }
   ],
   "source": [
    "#A value error is throw if the low number is greater than the high number\n",
    "np.random.randint(7,4)"
   ]
  },
  {
   "cell_type": "code",
   "execution_count": 36,
   "metadata": {},
   "outputs": [
    {
     "data": {
      "text/plain": [
       "array([[[0],\n",
       "        [0]],\n",
       "\n",
       "       [[2],\n",
       "        [2]],\n",
       "\n",
       "       [[1],\n",
       "        [0]]])"
      ]
     },
     "execution_count": 36,
     "metadata": {},
     "output_type": "execute_result"
    }
   ],
   "source": [
    "#prints a 3 dimensional array with a high value of 3\n",
    "np.random.randint(3,size=(3,2,1))"
   ]
  },
  {
   "cell_type": "code",
   "execution_count": 40,
   "metadata": {},
   "outputs": [
    {
     "data": {
      "text/plain": [
       "array([[[6],\n",
       "        [5]],\n",
       "\n",
       "       [[4],\n",
       "        [5]],\n",
       "\n",
       "       [[6],\n",
       "        [6]]])"
      ]
     },
     "execution_count": 40,
     "metadata": {},
     "output_type": "execute_result"
    }
   ],
   "source": [
    "#A three dimensional array with a low of 3 and a high of 7 so array values have to be between 3 and including 6\n",
    "np.random.randint(3,7,size=(3,2,1))"
   ]
  },
  {
   "cell_type": "code",
   "execution_count": 45,
   "metadata": {},
   "outputs": [
    {
     "data": {
      "text/plain": [
       "array([[[4],\n",
       "        [3]],\n",
       "\n",
       "       [[5],\n",
       "        [5]],\n",
       "\n",
       "       [[4],\n",
       "        [6]]])"
      ]
     },
     "execution_count": 45,
     "metadata": {},
     "output_type": "execute_result"
    }
   ],
   "source": [
    "np.random.randint(3,7,size=(3,2,1),dtype='i')"
   ]
  },
  {
   "cell_type": "code",
   "execution_count": 46,
   "metadata": {},
   "outputs": [
    {
     "ename": "TypeError",
     "evalue": "Unsupported dtype \"float32\" for randint",
     "output_type": "error",
     "traceback": [
      "\u001b[1;31m---------------------------------------------------------------------------\u001b[0m",
      "\u001b[1;31mTypeError\u001b[0m                                 Traceback (most recent call last)",
      "\u001b[1;32m<ipython-input-46-60763378845d>\u001b[0m in \u001b[0;36m<module>\u001b[1;34m\u001b[0m\n\u001b[1;32m----> 1\u001b[1;33m \u001b[0mnp\u001b[0m\u001b[1;33m.\u001b[0m\u001b[0mrandom\u001b[0m\u001b[1;33m.\u001b[0m\u001b[0mrandint\u001b[0m\u001b[1;33m(\u001b[0m\u001b[1;36m3\u001b[0m\u001b[1;33m,\u001b[0m\u001b[1;36m7\u001b[0m\u001b[1;33m,\u001b[0m\u001b[0msize\u001b[0m\u001b[1;33m=\u001b[0m\u001b[1;33m(\u001b[0m\u001b[1;36m3\u001b[0m\u001b[1;33m,\u001b[0m\u001b[1;36m2\u001b[0m\u001b[1;33m,\u001b[0m\u001b[1;36m1\u001b[0m\u001b[1;33m)\u001b[0m\u001b[1;33m,\u001b[0m\u001b[0mdtype\u001b[0m\u001b[1;33m=\u001b[0m\u001b[1;34m'f'\u001b[0m\u001b[1;33m)\u001b[0m\u001b[1;33m\u001b[0m\u001b[1;33m\u001b[0m\u001b[0m\n\u001b[0m",
      "\u001b[1;32mmtrand.pyx\u001b[0m in \u001b[0;36mmtrand.RandomState.randint\u001b[1;34m()\u001b[0m\n",
      "\u001b[1;31mTypeError\u001b[0m: Unsupported dtype \"float32\" for randint"
     ]
    }
   ],
   "source": [
    "np.random.randint(3,7,size=(3,2,1),dtype='f')"
   ]
  },
  {
   "cell_type": "markdown",
   "metadata": {},
   "source": [
    "### Conclusion on the randint() function\n",
    "\n",
    "Lets you pick the low and high range of values that is output, Out put shape can also be input,\n",
    "the dtype can be input if you want values greater than 65535, so if you want values greater that that you can set the dtype to 'int64', 'f' will not be accepted and cause an error as that is an unsupported type float"
   ]
  }
 ],
 "metadata": {
  "kernelspec": {
   "display_name": "Python 3",
   "language": "python",
   "name": "python3"
  },
  "language_info": {
   "codemirror_mode": {
    "name": "ipython",
    "version": 3
   },
   "file_extension": ".py",
   "mimetype": "text/x-python",
   "name": "python",
   "nbconvert_exporter": "python",
   "pygments_lexer": "ipython3",
   "version": "3.7.1"
  }
 },
 "nbformat": 4,
 "nbformat_minor": 2
}
